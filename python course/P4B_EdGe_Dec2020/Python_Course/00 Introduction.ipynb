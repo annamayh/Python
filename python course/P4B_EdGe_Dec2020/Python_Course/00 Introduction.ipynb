{
 "cells": [
  {
   "cell_type": "markdown",
   "metadata": {
    "colab_type": "text",
    "id": "GfRpgS0C-7HM"
   },
   "source": [
    "# Introduction "
   ]
  },
  {
   "cell_type": "markdown",
   "metadata": {
    "colab_type": "text",
    "id": "9aa9ata2-7HN"
   },
   "source": [
    "## <font color=green>*Welcome!*</font>\n",
    "\n",
    "\n",
    "## All notes and data files are in the .zip archive\n",
    "\n",
    "\n",
    "## Housekeeping stuff\n",
    "\n",
    "- the course runs over 6 days, 10am to 4pm\n",
    "- lunch break 12:30 til 13:30\n",
    "- talks, then practicals, then look at solutions\n",
    "- talks will be recorded\n",
    "\n",
    "\n",
    "## Goals for the course\n",
    "\n",
    "- introduce most **core** Python features\n",
    "- as much hands-on time as possible\n",
    "- solving **biological** problems\n",
    "- useful things first\n",
    "\n",
    "### How to get the most out of the course\n",
    "\n",
    "- Please interrupt us with questions or add them to the chat\n",
    "- Ask for help early and often\n",
    "- Take frequent breaks\n",
    "- Let us know about your own coding problems\n",
    "\n",
    "\n",
    "### What we won't cover\n",
    "\n",
    "- installing Python or related packages (but we can help with this if you have specific questions)\n",
    "- exhaustive lists of features\n",
    "- different versions/implementations\n",
    "- optimizing for speed/memory\n",
    "\n",
    "***\n",
    "\n",
    "## Using Jupyter\n",
    "\n",
    "Hopefully you are doing this already!\n",
    "\n",
    "Start the program called Anaconda Navigator (it will take a while to start up the first time). From this interface, click the \"launch\" button under the box headed \"Jupyter notebook\". Wait for a web browser to pop up. From here, navigate to where you saved the contents of the ZIP file. \n"
   ]
  },
  {
   "cell_type": "markdown",
   "metadata": {
    "colab_type": "text",
    "id": "AH4n0q7V-7HO"
   },
   "source": [
    "---\n",
    "\n",
    "## About these notebooks\n",
    "\n",
    "What you are looking at is a dynamic web page. It contains a mixture of text and Python code. Eache section is called a \"cell\".\n",
    "\n",
    "Python code cells have a pale grey background.\n",
    "\n",
    "Python output appears below the code. Click anywhere in the code to edit it, and use the buttons at the top, or the menu, or the keyboard shortcut **Shift+Enter** to run it. Try it below...."
   ]
  },
  {
   "cell_type": "code",
   "execution_count": 1,
   "metadata": {
    "colab": {
     "base_uri": "https://localhost:8080/",
     "height": 35
    },
    "colab_type": "code",
    "executionInfo": {
     "elapsed": 799,
     "status": "ok",
     "timestamp": 1600356688227,
     "user": {
      "displayName": "Timothy Booth",
      "photoUrl": "https://lh3.googleusercontent.com/a-/AOh14Gh24VHUYMFBG3YmueeOVT5__lb3QHnjZ2H86Aft=s64",
      "userId": "02076426724042679010"
     },
     "user_tz": -60
    },
    "id": "i2e-eFuO-7HP",
    "outputId": "3ea8658c-f8be-4124-88a1-67187b5a49df"
   },
   "outputs": [
    {
     "name": "stdout",
     "output_type": "stream",
     "text": [
      "Hello, Python\n"
     ]
    }
   ],
   "source": [
    "print(\"Hello, Python\")"
   ]
  },
  {
   "cell_type": "markdown",
   "metadata": {
    "colab_type": "text",
    "id": "ybKlVo21-7HW"
   },
   "source": [
    "This is a text cell. Just like the code, you can edit it. Double click to try it out!\n",
    "\n",
    "## This is a header\n",
    "\n",
    "- this\n",
    "- is\n",
    "- a \n",
    "- list\n",
    "\n",
    "This text is **bold**, this is *italic*.\n",
    "\n",
    "Sounds **cool**\n",
    "\n",
    "But what do we *use* a text cell for?\n",
    "Think we start with a markdown file"
   ]
  },
  {
   "cell_type": "markdown",
   "metadata": {},
   "source": [
    "***\n",
    "\n",
    "## Day by day outline schedule\n",
    "\n",
    "Teaching time is 10 til 4 with a lunch break at 12:30, as notes above.\n",
    "\n",
    "* Day 0\n",
    " * Intro\n",
    " * Manipulating Text\n",
    " * Working with Files\n",
    "\n",
    "\n",
    "* Day 1\n",
    " * Lists\n",
    " * Loops\n",
    " * Conditionals\n",
    "\n",
    "\n",
    "* Day 2\n",
    " * The Python Universe\n",
    " * Writing Functions\n",
    "\n",
    "\n",
    "* Day 3\n",
    " * Dictionaries\n",
    " * Regular Expressions\n",
    "\n",
    "\n",
    "* Day 4\n",
    " * Working with the file system\n",
    " * Longer practical challenges\n",
    "\n",
    "\n",
    "* Day 5\n",
    " * Bring-your-own problem workshop\n",
    " * Further practical time\n"
   ]
  },
  {
   "cell_type": "code",
   "execution_count": null,
   "metadata": {},
   "outputs": [],
   "source": []
  }
 ],
 "metadata": {
  "anaconda-cloud": {},
  "colab": {
   "collapsed_sections": [],
   "name": "00 Introduction.ipynb",
   "provenance": []
  },
  "kernelspec": {
   "display_name": "Python 3",
   "language": "python",
   "name": "python3"
  },
  "language_info": {
   "codemirror_mode": {
    "name": "ipython",
    "version": 3
   },
   "file_extension": ".py",
   "mimetype": "text/x-python",
   "name": "python",
   "nbconvert_exporter": "python",
   "pygments_lexer": "ipython3",
   "version": "3.8.5"
  }
 },
 "nbformat": 4,
 "nbformat_minor": 1
}
