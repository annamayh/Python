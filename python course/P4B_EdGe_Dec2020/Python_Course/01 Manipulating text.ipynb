{
 "cells": [
  {
   "cell_type": "markdown",
   "metadata": {
    "colab_type": "text",
    "id": "l8FMnuXjFxu4"
   },
   "source": [
    "<h1 id=\"toctitle\">Text manipulation</h1>\n",
    "<ul id=\"toc\"/>"
   ]
  },
  {
   "cell_type": "markdown",
   "metadata": {
    "colab_type": "text",
    "id": "L3g0Zx77Fxu5"
   },
   "source": [
    "## Parts of code\n",
    "### Statements, functions, arguments\n",
    "Start with the very short Python program:"
   ]
  },
  {
   "cell_type": "code",
   "execution_count": 11,
   "metadata": {},
   "outputs": [],
   "source": [
    "# interactive workbook in jupyter, can insert cells directly, cells run as a block ... and can work without the internet\n",
    "\n",
    "# jupyter can also work for R, kind of like R markdown I think "
   ]
  },
  {
   "cell_type": "code",
   "execution_count": null,
   "metadata": {
    "colab": {},
    "colab_type": "code",
    "id": "qRS_PvUqFxu6",
    "outputId": "5f77af52-74ac-43cb-ccb7-2c9208243cca"
   },
   "outputs": [],
   "source": [
    "print(\"Hello World\")"
   ]
  },
  {
   "cell_type": "markdown",
   "metadata": {
    "colab_type": "text",
    "id": "4EXuutiGFxvB"
   },
   "source": [
    "`print()` is the name of a **function** - note the parentheses.\n",
    "\n",
    "`\"Hello World\"` is the function **arguments**. (just one argument, in this case)\n",
    "\n",
    "The whole thing `print(\"Hello World\")` is a **statement** (one instruction.  Most usually one statement == one line)\n",
    "\n",
    "Things in quotes are strings (of characters) - either single or double is fine:"
   ]
  },
  {
   "cell_type": "code",
   "execution_count": 1,
   "metadata": {
    "colab": {},
    "colab_type": "code",
    "id": "dQykq64iFxvC",
    "outputId": "4b44908a-6821-45c2-faa9-844c6afb50f7"
   },
   "outputs": [
    {
     "name": "stdout",
     "output_type": "stream",
     "text": [
      "Hello world\n"
     ]
    }
   ],
   "source": [
    "print(\"Hello world\")"
   ]
  },
  {
   "cell_type": "code",
   "execution_count": 4,
   "metadata": {
    "colab": {},
    "colab_type": "code",
    "id": "X93JeUGEFxvG",
    "outputId": "9b363cbf-f50d-4f86-f8b5-dfc396d8f0d9"
   },
   "outputs": [
    {
     "name": "stdout",
     "output_type": "stream",
     "text": [
      "Hello world\n"
     ]
    }
   ],
   "source": [
    "print('Hello world')#gives you the same output as above"
   ]
  },
  {
   "cell_type": "code",
   "execution_count": 3,
   "metadata": {
    "colab": {},
    "colab_type": "code",
    "id": "rXlN-OXzFxvL",
    "outputId": "2cf60338-84dd-4479-f100-690318ed8e94"
   },
   "outputs": [
    {
     "name": "stdout",
     "output_type": "stream",
     "text": [
      "She said, 'Hello world'\n"
     ]
    }
   ],
   "source": [
    "print(\"She said, 'Hello world'\") #how to quote using quotes"
   ]
  },
  {
   "cell_type": "markdown",
   "metadata": {
    "colab_type": "text",
    "id": "n3D0nPTcFxvP"
   },
   "source": [
    "### Comments\n",
    "To include a line of text for humans to read, start with `#`. We call this a __comment__:"
   ]
  },
  {
   "cell_type": "code",
   "execution_count": null,
   "metadata": {
    "colab": {},
    "colab_type": "code",
    "id": "sdeex0MHFxvQ",
    "outputId": "9fc6d07e-24af-48d6-e0f8-e791280df1d7"
   },
   "outputs": [],
   "source": [
    "# print a friendly greeting\n",
    "print(\"Hello martin\")"
   ]
  },
  {
   "cell_type": "markdown",
   "metadata": {
    "colab_type": "text",
    "id": "YlM9sd_AFxvT"
   },
   "source": [
    "Some characters in Python strings have a special meaning: for example `\\n` means _start a new line_."
   ]
  },
  {
   "cell_type": "code",
   "execution_count": 5,
   "metadata": {
    "colab": {},
    "colab_type": "code",
    "id": "4R3eZ8kxFxvU",
    "outputId": "498ab7fb-ba9f-4044-eecc-78663f897aeb"
   },
   "outputs": [
    {
     "name": "stdout",
     "output_type": "stream",
     "text": [
      "Hello\n",
      "world\n"
     ]
    }
   ],
   "source": [
    "# print the same greeting, over two lines\n",
    "print(\"Hello\\nworld\") "
   ]
  },
  {
   "cell_type": "markdown",
   "metadata": {
    "colab_type": "text",
    "id": "Bwua84L7FxvY"
   },
   "source": [
    "### Variables\n",
    "To store a bit of text to use later, we use a __variable__:"
   ]
  },
  {
   "cell_type": "code",
   "execution_count": 9,
   "metadata": {
    "colab": {},
    "colab_type": "code",
    "id": "YT3A8ywMFxvZ",
    "outputId": "f6488e86-648d-49a9-df55-54449c173d86"
   },
   "outputs": [
    {
     "name": "stdout",
     "output_type": "stream",
     "text": [
      "ATGCGTA\n",
      "TGGTCCA\n"
     ]
    },
    {
     "data": {
      "text/plain": [
       "'TGGTCCA'"
      ]
     },
     "execution_count": 9,
     "metadata": {},
     "output_type": "execute_result"
    }
   ],
   "source": [
    "# store a DNA sequence in the variable my_dna\n",
    "# cant start variable name with a number but can include number after (simular to R) \n",
    "my_dna = \"ATGCGTA\"\n",
    "\n",
    "# now print the DNA sequence\n",
    "print(my_dna)\n",
    "\n",
    "# change the value of my_dna\n",
    "my_dna = \"TGGTCCA\"\n",
    "\n",
    "# print it again\n",
    "print(my_dna)\n",
    "\n",
    "my_dna #gives you the value you have assigned - only a factor of jupyter. pyhton doesnt tell you what its doing "
   ]
  },
  {
   "cell_type": "markdown",
   "metadata": {
    "colab_type": "text",
    "id": "CMb98_EuFxvc"
   },
   "source": [
    "Variable names can be whatever we want - this code is exactly the same as the previous one:"
   ]
  },
  {
   "cell_type": "code",
   "execution_count": 8,
   "metadata": {
    "colab": {},
    "colab_type": "code",
    "id": "dy504zexFxvd",
    "outputId": "40448179-d5b6-4df2-fd42-aa2dc740104a"
   },
   "outputs": [
    {
     "name": "stdout",
     "output_type": "stream",
     "text": [
      "ATGCGTA\n",
      "TGGTCCA\n"
     ]
    }
   ],
   "source": [
    "# store a DNA sequence in the variable banana\n",
    "banana = \"ATGCGTA\"\n",
    "\n",
    "# now print the DNA sequence\n",
    "print(banana)\n",
    "\n",
    "# change the value of banana\n",
    "banana = \"TGGTCCA\"\n",
    "\n",
    "# print it again\n",
    "print(banana)"
   ]
  },
  {
   "cell_type": "markdown",
   "metadata": {
    "colab_type": "text",
    "id": "XvgXeSHAFxvh"
   },
   "source": [
    "## Manipulating text (strings)\n",
    "### Concatenation\n",
    "We can join two strings together with `+`:"
   ]
  },
  {
   "cell_type": "code",
   "execution_count": 10,
   "metadata": {
    "colab": {},
    "colab_type": "code",
    "id": "IR4xuzPlFxvi",
    "outputId": "bb2ba5b9-073d-4e5f-88ef-8b5e3445fa39"
   },
   "outputs": [
    {
     "data": {
      "text/plain": [
       "'AAGGCC'"
      ]
     },
     "execution_count": 10,
     "metadata": {},
     "output_type": "execute_result"
    }
   ],
   "source": [
    "\"AA\" + \"GGCC\""
   ]
  },
  {
   "cell_type": "markdown",
   "metadata": {
    "colab_type": "text",
    "id": "Z9UQNatyFxvl"
   },
   "source": [
    "__Note: One feature of these Python notebooks is that the last statement in a Python cell is auto-printed, which is why we could leave out the print() function above. However, the auto-printed output retains the quotes around the string. The output of print() does not.__\n",
    "\n",
    "Anywhere we can use a string written with quotes (aka a **string literal**), we can also use a variable that stores a string:"
   ]
  },
  {
   "cell_type": "code",
   "execution_count": 12,
   "metadata": {
    "colab": {},
    "colab_type": "code",
    "id": "pboZMJp-Fxvm",
    "outputId": "06d70986-29be-4d3d-f1c5-ece32703ca5b"
   },
   "outputs": [
    {
     "data": {
      "text/plain": [
       "'AAAATGC'"
      ]
     },
     "execution_count": 12,
     "metadata": {},
     "output_type": "execute_result"
    }
   ],
   "source": [
    "upstream = \"AAA\"\n",
    "my_dna = upstream + \"ATGC\"\n",
    "my_dna"
   ]
  },
  {
   "cell_type": "code",
   "execution_count": 13,
   "metadata": {
    "colab": {},
    "colab_type": "code",
    "id": "y0PcM6rTFxvp",
    "outputId": "051ce41a-1edd-4cf5-a112-c51fa80feab3"
   },
   "outputs": [
    {
     "data": {
      "text/plain": [
       "'AAAATGCGGG'"
      ]
     },
     "execution_count": 13,
     "metadata": {},
     "output_type": "execute_result"
    }
   ],
   "source": [
    "upstream = \"AAA\"\n",
    "downstream = \"GGG\"\n",
    "my_dna = upstream + \"ATGC\" + downstream\n",
    "my_dna"
   ]
  },
  {
   "cell_type": "markdown",
   "metadata": {
    "colab_type": "text",
    "id": "YrQ8jtToFxvs"
   },
   "source": [
    "The result of concatenating two (or more) strings is also a string. You can use it directly in a function without assigning it to a variable."
   ]
  },
  {
   "cell_type": "code",
   "execution_count": 14,
   "metadata": {
    "colab": {},
    "colab_type": "code",
    "id": "TIF9Ow3HFxvs",
    "outputId": "76ad8ca2-314e-4fcb-9ff0-ee694a2c416d"
   },
   "outputs": [
    {
     "name": "stdout",
     "output_type": "stream",
     "text": [
      "Hello world\n"
     ]
    }
   ],
   "source": [
    "print(\"Hello\" + \" \" + \"world\") ## middle dashes gives the spaces "
   ]
  },
  {
   "cell_type": "markdown",
   "metadata": {
    "colab_type": "text",
    "id": "bsdlg9U6Fxvw"
   },
   "source": [
    "### Lengths\n",
    "\n",
    "To find the length of a string, use the `len()` function:"
   ]
  },
  {
   "cell_type": "code",
   "execution_count": 21,
   "metadata": {
    "colab": {},
    "colab_type": "code",
    "id": "FppNQIcPFxvw",
    "outputId": "93bdd073-e2e5-49ab-8eca-0e8dc7591e0e"
   },
   "outputs": [
    {
     "name": "stdout",
     "output_type": "stream",
     "text": [
      "4\n"
     ]
    }
   ],
   "source": [
    "length_of_string=len(\"AGTC\") #can assign length to variable\n",
    "print(length_of_string)#prints length of string ... number 4 doesnt have quotes around i.e. it is an integer not a character"
   ]
  },
  {
   "cell_type": "markdown",
   "metadata": {
    "colab_type": "text",
    "id": "9P47wmnVFxvz"
   },
   "source": [
    "What you need to know about `len()`:\n",
    "\n",
    "- `len()` is a function\n",
    "- it takes one argument\n",
    "- the argument has to be a string\n",
    "- it returns the length of the string\n",
    "- we have to do something with the returned value\n",
    "- __the length is a number, not a string!__\n",
    "\n",
    "Numbers and strings are different:"
   ]
  },
  {
   "cell_type": "code",
   "execution_count": 22,
   "metadata": {
    "colab": {},
    "colab_type": "code",
    "id": "-5RqfDdcFxv0",
    "outputId": "90e6dda4-fc75-4571-f949-8cdfb1ab0eee"
   },
   "outputs": [
    {
     "data": {
      "text/plain": [
       "4.8"
      ]
     },
     "execution_count": 22,
     "metadata": {},
     "output_type": "execute_result"
    }
   ],
   "source": [
    "2 + 2"
   ]
  },
  {
   "cell_type": "code",
   "execution_count": 16,
   "metadata": {
    "colab": {},
    "colab_type": "code",
    "id": "oGdY4FlSFxv3",
    "outputId": "463713e5-786c-4fd3-f488-d21041f4ccae"
   },
   "outputs": [
    {
     "data": {
      "text/plain": [
       "'abcdef'"
      ]
     },
     "execution_count": 16,
     "metadata": {},
     "output_type": "execute_result"
    }
   ],
   "source": [
    "\"abc\" + \"def\""
   ]
  },
  {
   "cell_type": "code",
   "execution_count": 17,
   "metadata": {
    "colab": {
     "base_uri": "https://localhost:8080/",
     "height": 35
    },
    "colab_type": "code",
    "executionInfo": {
     "elapsed": 721,
     "status": "ok",
     "timestamp": 1598971867159,
     "user": {
      "displayName": "Timothy Booth",
      "photoUrl": "https://lh3.googleusercontent.com/a-/AOh14Gh24VHUYMFBG3YmueeOVT5__lb3QHnjZ2H86Aft=s64",
      "userId": "02076426724042679010"
     },
     "user_tz": -60
    },
    "id": "1XWKdTigJjfF",
    "outputId": "b0835329-1d63-471f-c729-f12e7f83f316"
   },
   "outputs": [
    {
     "data": {
      "text/plain": [
       "'22'"
      ]
     },
     "execution_count": 17,
     "metadata": {},
     "output_type": "execute_result"
    }
   ],
   "source": [
    "'2' + '2'"
   ]
  },
  {
   "cell_type": "code",
   "execution_count": 19,
   "metadata": {
    "colab": {},
    "colab_type": "code",
    "id": "9f0U_3HmFxv6",
    "outputId": "460c1bf6-f2dd-47fb-e3ea-b757de32d1cf"
   },
   "outputs": [
    {
     "data": {
      "text/plain": [
       "'2abc'"
      ]
     },
     "execution_count": 19,
     "metadata": {},
     "output_type": "execute_result"
    }
   ],
   "source": [
    "'2' + \"abc\""
   ]
  },
  {
   "cell_type": "markdown",
   "metadata": {
    "colab_type": "text",
    "id": "i_H6qmmNFxv9"
   },
   "source": [
    "### Converting between numbers and strings\n",
    "\n",
    "`str()` will take a number and turn it into a string:"
   ]
  },
  {
   "cell_type": "code",
   "execution_count": 23,
   "metadata": {
    "colab": {},
    "colab_type": "code",
    "id": "pSVtuivZFxv9",
    "outputId": "ef314ed8-78d7-48cf-b117-7691ece2deaf"
   },
   "outputs": [
    {
     "data": {
      "text/plain": [
       "'4'"
      ]
     },
     "execution_count": 23,
     "metadata": {},
     "output_type": "execute_result"
    }
   ],
   "source": [
    "str(4) #with quotes"
   ]
  },
  {
   "cell_type": "markdown",
   "metadata": {
    "colab_type": "text",
    "id": "Q4amjwZKFxv_"
   },
   "source": [
    "Note the quotes. \n",
    "\n",
    "We often want to do this so that we can print a number:"
   ]
  },
  {
   "cell_type": "code",
   "execution_count": 24,
   "metadata": {
    "colab": {},
    "colab_type": "code",
    "id": "fdJUm6isFxwA",
    "outputId": "58aa027a-c3ee-4310-f697-81d2e1835002"
   },
   "outputs": [
    {
     "name": "stdout",
     "output_type": "stream",
     "text": [
      "length of the DNA sequence is 8\n"
     ]
    }
   ],
   "source": [
    "my_dna = \"ATGCGAGT\"\n",
    "dna_length = len(my_dna)\n",
    "print(\"length of the DNA sequence is \" + str(dna_length)) ## both strings so merges them together"
   ]
  },
  {
   "cell_type": "markdown",
   "metadata": {
    "colab_type": "text",
    "id": "_Um1nZl9FxwC"
   },
   "source": [
    "`int()` will take a string and turn it into a number:"
   ]
  },
  {
   "cell_type": "code",
   "execution_count": 25,
   "metadata": {
    "colab": {},
    "colab_type": "code",
    "id": "hy_kWLX2FxwD",
    "outputId": "fe442ff2-88cc-450d-cb29-6922e8e0ae12"
   },
   "outputs": [
    {
     "data": {
      "text/plain": [
       "6"
      ]
     },
     "execution_count": 25,
     "metadata": {},
     "output_type": "execute_result"
    }
   ],
   "source": [
    "int(\"6\") ## without quotes, converts 6 into an integer i.e. gets the number out of the string\n",
    "#float is like int but can take decimals, the equivalent is double in R "
   ]
  },
  {
   "cell_type": "markdown",
   "metadata": {
    "colab_type": "text",
    "id": "Y-BNWm5BFxwF"
   },
   "source": [
    "We will see later why this is useful.\n",
    "\n",
    "### Changing case\n",
    "\n",
    "To turn a string into lower case, use a __method__ called `lower()`:"
   ]
  },
  {
   "cell_type": "code",
   "execution_count": 31,
   "metadata": {
    "colab": {},
    "colab_type": "code",
    "id": "TnQFCXZWFxwG",
    "outputId": "e3297bb4-3d7f-48e1-939a-d0fda6f0d384"
   },
   "outputs": [
    {
     "data": {
      "text/plain": [
       "'atgc'"
      ]
     },
     "execution_count": 31,
     "metadata": {},
     "output_type": "execute_result"
    }
   ],
   "source": [
    "my_dna = \"ATGC\"\n",
    "\n",
    "# make a version in lower case\n",
    "my_dna.lower() ## always need the brakets, put the method AFTER the string  \n",
    "#e.g. \"whassap\".upper()"
   ]
  },
  {
   "cell_type": "markdown",
   "metadata": {
    "colab_type": "text",
    "id": "8VsJIyMkFxwK"
   },
   "source": [
    "Look closely at how this works:\n",
    "\n",
    "- `lower()` is a __method__, a special type of __function__\n",
    "- we write the name of the variable first, then a dot, then the method name, then any arguments in parentheses\n",
    "- `lower()` has no arguments\n",
    "- `lower()` only works on strings, not numbers\n",
    "- __`lower()` doesn't change the variable, it returns a lower case version__"
   ]
  },
  {
   "cell_type": "code",
   "execution_count": 32,
   "metadata": {
    "colab": {},
    "colab_type": "code",
    "id": "kXIVHNc-FxwK",
    "outputId": "839fe25f-c4bc-4632-ff47-fa673e985995"
   },
   "outputs": [
    {
     "name": "stdout",
     "output_type": "stream",
     "text": [
      "before: ATGC\n",
      "atgc\n",
      "after: ATGC\n"
     ]
    }
   ],
   "source": [
    "my_dna = \"ATGC\"\n",
    "\n",
    "# print the variable\n",
    "print(\"before: \" + my_dna)\n",
    "\n",
    "# run the lower method and store the result\n",
    "lowercase_dna = my_dna.lower()\n",
    "print(lowercase_dna) ##calling my.dna and reterns a different version of it, doesnt change the original string\n",
    "\n",
    "# print the variable again\n",
    "print(\"after: \" + my_dna)"
   ]
  },
  {
   "cell_type": "markdown",
   "metadata": {
    "colab_type": "text",
    "id": "Q8S_iK6cFxwO"
   },
   "source": [
    "## Find and replace in strings\n",
    "\n",
    "Use the `replace()` method:"
   ]
  },
  {
   "cell_type": "code",
   "execution_count": 33,
   "metadata": {
    "colab": {},
    "colab_type": "code",
    "id": "4UlHZEunFxwO",
    "outputId": "473e9d72-c025-4123-8061-cee61f80dead"
   },
   "outputs": [
    {
     "name": "stdout",
     "output_type": "stream",
     "text": [
      "vlspadktnv\n",
      "ylspadktny\n",
      "ymtpadktnv\n",
      "vlspadktnv\n"
     ]
    }
   ],
   "source": [
    "protein = \"vlspadktnv\"\n",
    "print(protein) \n",
    "\n",
    "# replace valine with tyrosine\n",
    "print(protein.replace(\"v\", \"y\")) #replaces v with y \n",
    "\n",
    "# we can replace more than one character\n",
    "print(protein.replace(\"vls\", \"ymt\")) #simualrly replaces vls with ymt\n",
    "\n",
    "# the original variable is not affected\n",
    "print(protein)"
   ]
  },
  {
   "cell_type": "markdown",
   "metadata": {
    "colab_type": "text",
    "id": "E71R_OR1FxwS"
   },
   "source": [
    "### Extracting part of a string\n",
    "\n",
    "To get just part of a string, put square brackets after the variable name with the start and stop positions separated by a colon. \n",
    "\n",
    "We start counting at __zero__ rather than one.\n",
    "Positions are __inclusive__ at the start and __exclusive__ at the end.\n",
    "\n",
    "Get positions 3 to 5 of the protein:"
   ]
  },
  {
   "cell_type": "code",
   "execution_count": 34,
   "metadata": {
    "colab": {},
    "colab_type": "code",
    "id": "bcDOhcbuFxwS",
    "outputId": "d517ac31-5303-4e55-dace-319238fa12e8"
   },
   "outputs": [
    {
     "data": {
      "text/plain": [
       "'pa'"
      ]
     },
     "execution_count": 34,
     "metadata": {},
     "output_type": "execute_result"
    }
   ],
   "source": [
    "protein = \"vlspadktnv\"\n",
    "protein[3:5] ##from char 3 up to but not including 5"
   ]
  },
  {
   "cell_type": "markdown",
   "metadata": {
    "colab_type": "text",
    "id": "YQG-32erFxwV"
   },
   "source": [
    "To go to the end of the string, just leave out the stop position:"
   ]
  },
  {
   "cell_type": "code",
   "execution_count": 35,
   "metadata": {
    "colab": {},
    "colab_type": "code",
    "id": "t5QMrOJ5FxwX",
    "outputId": "99f90e02-c431-49c1-c665-6f856f15ed96"
   },
   "outputs": [
    {
     "data": {
      "text/plain": [
       "'dktnv'"
      ]
     },
     "execution_count": 35,
     "metadata": {},
     "output_type": "execute_result"
    }
   ],
   "source": [
    "protein[5:]#start at 5 to the end of the string"
   ]
  },
  {
   "cell_type": "markdown",
   "metadata": {
    "colab_type": "text",
    "id": "3Qb_JFy4Fxwa"
   },
   "source": [
    "### Counting substrings\n",
    "\n",
    "The `count()` method will tell you how many times a short string occurs inside a long one:"
   ]
  },
  {
   "cell_type": "code",
   "execution_count": 36,
   "metadata": {
    "colab": {},
    "colab_type": "code",
    "id": "hEApZolnFxwb",
    "outputId": "c289b431-635a-486f-d11a-dad352b546b9"
   },
   "outputs": [
    {
     "name": "stdout",
     "output_type": "stream",
     "text": [
      "valines: 2\n",
      "lsp: 1\n",
      "tryptophans: 0\n"
     ]
    }
   ],
   "source": [
    "protein = \"vlspadktnv\"\n",
    "# count amino acid residues\n",
    "valine_count = protein.count('v')#counts how many times v occurs in protien \n",
    "lsp_count = protein.count('lsp')\n",
    "tryptophan_count = protein.count('w')\n",
    " \n",
    "# now print the counts\n",
    "print(\"valines: \" + str(valine_count))\n",
    "print(\"lsp: \" + str(lsp_count))\n",
    "print(\"tryptophans: \" + str(tryptophan_count))"
   ]
  },
  {
   "cell_type": "markdown",
   "metadata": {
    "colab_type": "text",
    "id": "O-7RWITaFxwe"
   },
   "source": [
    "### Finding positions of substrings\n",
    "\n",
    "The `find()` will tell you the position of a short string inside a long one:"
   ]
  },
  {
   "cell_type": "code",
   "execution_count": null,
   "metadata": {
    "colab": {},
    "colab_type": "code",
    "id": "MAW8of0rFxwe",
    "outputId": "6eb30f76-6445-4caa-8566-13c1bd099245"
   },
   "outputs": [],
   "source": [
    "protein = \"vlspadktnv\"\n",
    "print(protein.find('kt'))\n",
    "print(protein.find('w'))"
   ]
  },
  {
   "cell_type": "markdown",
   "metadata": {
    "colab_type": "text",
    "id": "3NDTSJdcFxwh"
   },
   "source": [
    "Remember:\n",
    "\n",
    "- we start counting from zero\n",
    "- if the short string isn't there, we get `-1`"
   ]
  },
  {
   "cell_type": "markdown",
   "metadata": {
    "colab_type": "text",
    "id": "IAJIpXpBFxwi"
   },
   "source": [
    "## Summary of all the things!\n",
    "\n",
    "- Functions\n",
    "    - `print()` for showing text on the screen\n",
    "    - `len()` for finding the length of a string\n",
    "    - `str()` for converting a number to a string\n",
    "    - `int()` for converting a string to a number\n",
    "- String methods\n",
    "    - `upper()` for changing to upper case\n",
    "    - `replace()` for changing parts of a string\n",
    "    - `count()` for counting substrings\n",
    "    - `find()` for locating substrings\n",
    "- Types of things\n",
    "    - string literals are always surrounded by quotes\n",
    "    - numbers are always written without quotes\n",
    "    - variables are written without quotes and can hold either\n",
    "- Other tools\n",
    "    - `+` can add numbers together (also `/`, `*` and `-`)\n",
    "    - `[1:2]` can get parts of a string .... inclusive of first number and exclusive of last number\n",
    "    - `\\n` within a quoted string means start a new line\n",
    "- Parts of code\n",
    "    - function\n",
    "    - method\n",
    "    - arguments\n",
    "    - statement\n",
    "    - quotes\n",
    "    - comments\n",
    "    - variables\n",
    "    - literals"
   ]
  },
  {
   "cell_type": "markdown",
   "metadata": {
    "colab_type": "text",
    "id": "6xYfsw9IFxwj"
   },
   "source": [
    "---\n",
    "\n",
    "## Exercises\n",
    "\n",
    "\n",
    "### How to get the most out of the exercises\n",
    "\n",
    "- **try to solve yourself before looking at solutions**\n",
    "- don't worry if you don't finish\n",
    "- if you can think of something more interesting/relevant, then do it\n",
    "- exercise descriptions are often vague!\n",
    "- substitute with problems from your own work\n",
    "- break exercises down into small chunks and test\n",
    "- day one exercises may be very slow...\n",
    "\n",
    "\n",
    "### Calculating AT content\n",
    "\n",
    "Here's a short DNA sequence:\n",
    "\n",
    "`ACTGATCGATTACGTATAGTATTTGCTATCATACATATATATCGATGCGTTCAT`\n",
    "\n",
    "Write a program that will print out the AT content of this DNA sequence. Hint: you can use normal mathematical symbols like add (`+`), subtract (`-`), multiply (`*`), divide (`/`) and parentheses to carry out calculations on numbers in Python. "
   ]
  },
  {
   "cell_type": "code",
   "execution_count": 120,
   "metadata": {},
   "outputs": [
    {
     "name": "stdout",
     "output_type": "stream",
     "text": [
      "16\n",
      "21\n",
      "54\n",
      "The AT content is:0.6851851851851852\n",
      "The AT content is:68.51851851851852\n",
      "0.6851851851851852\n"
     ]
    }
   ],
   "source": [
    "seq = \"ACTGATCGATTACGTATAGTATTTGCTATCATACATATATATCGATGCGTTCAT\"\n",
    "Acont=seq.count(\"A\")\n",
    "Tcont=seq.count(\"T\")\n",
    "print(Acont)\n",
    "print(Tcont)\n",
    "\n",
    "## or use AT_number = seq.count(\"A\") + seq.count(\"T\") to be more efficient\n",
    "\n",
    "fulllen=len(seq)\n",
    "print(fulllen)\n",
    "\n",
    "ATcont=((Acont)+(Tcont))/(fulllen)\n",
    "print(\"The AT content is:\" + str(ATcont))\n",
    "\n",
    "perc=ATcont*100\n",
    "print(\"The AT content is:\" + str(perc))\n",
    "\n",
    "\n",
    "###### OR  #####\n",
    "print(((seq.count(\"A\")+seq.count(\"T\"))/len(seq)))"
   ]
  },
  {
   "cell_type": "markdown",
   "metadata": {
    "colab_type": "text",
    "id": "6xYfsw9IFxwj"
   },
   "source": [
    "### Complementing DNA\n",
    "\n",
    "Here's a short DNA sequence:\n",
    "\n",
    "`ACTGATCGATTACGTATAGTATTTGCTATCATACATATATATCGATGCGTTCAT`\n",
    "\n",
    "Write a program that will print the complement of this sequence. (__Not the reverse complement!__)"
   ]
  },
  {
   "cell_type": "code",
   "execution_count": 123,
   "metadata": {},
   "outputs": [
    {
     "data": {
      "text/plain": [
       "'TGACTAGCTAATGCATATCATAAACGATAGTATGTATATATAGCTACGCAAGTA'"
      ]
     },
     "execution_count": 123,
     "metadata": {},
     "output_type": "execute_result"
    }
   ],
   "source": [
    "seq = \"ACTGATCGATTACGTATAGTATTTGCTATCATACATATATATCGATGCGTTCAT\"\n",
    "\n",
    "seq.lower().replace('a','T').replace('t','A').replace('g','C').replace('c','G') ## can do .replace one after the other for pipes\n",
    "#output it a string\n"
   ]
  },
  {
   "cell_type": "markdown",
   "metadata": {
    "colab_type": "text",
    "id": "UfjtF5FXFxwj"
   },
   "source": [
    "### Restriction fragment lengths\n",
    "\n",
    "Here's a short DNA sequence:\n",
    "\n",
    "`ACTGATCGATTACGTATAGTAGAATTCTATCATACATATATATCGATGCGTTCAT`\n",
    "\n",
    "The sequence contains a recognition site for the _EcoRI_ restriction enzyme, which cuts at the motif `G*AATTC` (the position of the cut is indicated by an asterisk). Write a program which will calculate the size of the two fragments that will be produced when the DNA sequence is digested with _EcoRI_."
   ]
  },
  {
   "cell_type": "code",
   "execution_count": 131,
   "metadata": {},
   "outputs": [
    {
     "name": "stdout",
     "output_type": "stream",
     "text": [
      "54\n",
      "The length of the second fragment is:32\n",
      "The length of the first fragment is:22\n",
      "22\n",
      "32\n"
     ]
    }
   ],
   "source": [
    "##Restriction fragment lengths ##\n",
    "seq = 'ACTGATCGATTACGTATAGTAGAATTCTATCATACATATATATCGATGCGTTCA'\n",
    "print(len(seq))\n",
    "res_site=int((seq.find('GAATTC')))\n",
    "\n",
    "fragment_1=len(seq[res_site+1:])\n",
    "fragment_2=len(seq[:res_site+1])\n",
    "\n",
    "#checking correct for above\n",
    "#seq[res_site+1:]\n",
    "#seq[0:res_site+1]\n",
    "\n",
    "print(\"The length of the second fragment is:\" + str(fragment_1))\n",
    "print(\"The length of the first fragment is:\" + str(fragment_2))\n",
    "\n",
    "\n",
    "###### OR ######\n",
    "\n",
    "part1, part2 = seq.replace(\"GAATTC\",\"G*AATTC\").split('*') #then can just find the star and split then do the same as above\n",
    "print(len(part1))\n",
    "print(len(part2))\n"
   ]
  },
  {
   "cell_type": "markdown",
   "metadata": {
    "colab_type": "text",
    "id": "UfjtF5FXFxwj"
   },
   "source": [
    "### Splicing out introns\n",
    "\n",
    "Here's a short section of genomic DNA:\n",
    "\n",
    "`ATCGATCGATCGATCGACTGACTAGTCATAGCTATGCATGTAGCTACTCGATCGATCGATCGATCGATCGATCGATCGATCGATCATGCTATCATCGATCGATATCGATGCATCGACTACTAT`\n",
    "\n",
    "It comprises two exons and an intron. The first exon runs from the start of the sequence to base number 63 (starting counting from zero), and the second exon runs from base 91 (also counting from zero) to the end of the sequence. Write a program that will print just the coding regions of the DNA sequence.  \n",
    "\n",
    "Write a program that will calculate what percentage of the DNA sequence is coding.\n",
    "\n",
    "Write a program that will print out the original genomic DNA sequence with coding bases in uppercase and non-coding bases in lowercase. "
   ]
  },
  {
   "cell_type": "code",
   "execution_count": 114,
   "metadata": {},
   "outputs": [
    {
     "name": "stdout",
     "output_type": "stream",
     "text": [
      "The coding regions are:ATCGATCGATCGATCGACTGACTAGTCATAGCTATGCATGTAGCTACTCGATCGATCGATCGATandTCATCGATCGATATCGATGCATCGACTACTAT\n"
     ]
    }
   ],
   "source": [
    "##splicing out introns##\n",
    "##Inclusive of left end and exclusive of the right end i.e. :63 WILL NOT include 63 so need to do :64\n",
    "coding_seq='ATCGATCGATCGATCGACTGACTAGTCATAGCTATGCATGTAGCTACTCGATCGATCGATCGATCGATCGATCGATCGATCGATCATGCTATCATCGATCGATATCGATGCATCGACTACTAT'\n",
    "\n",
    "exon_1=coding_seq[:64] #defines the coding region 1\n",
    "exon_2=coding_seq[91:] #defines coding region 2\n",
    "\n",
    "\n",
    "print(\"The coding regions are:\"+exon_1+'and'+exon_2)#prints in readable format\n",
    "\n"
   ]
  },
  {
   "cell_type": "code",
   "execution_count": 115,
   "metadata": {},
   "outputs": [
    {
     "name": "stdout",
     "output_type": "stream",
     "text": [
      "The percentage of DNA that is the coding region is:78.04878048780488\n"
     ]
    }
   ],
   "source": [
    "percent_coding=((len(exon_1)+len(exon_2))/len(coding_seq))*100 #length of coding region div by the length of whole seq\n",
    "print(\"The percentage of DNA that is the coding region is:\" + str(percent_coding))"
   ]
  },
  {
   "cell_type": "code",
   "execution_count": 116,
   "metadata": {},
   "outputs": [
    {
     "name": "stdout",
     "output_type": "stream",
     "text": [
      "The original seq with the coding region in uppercase:ATCGATCGATCGATCGACTGACTAGTCATAGCTATGCATGTAGCTACTCGATCGATCGATCGATgatcgatcgatcgatcgatcatgctaTCATCGATCGATATCGATGCATCGACTACTAT\n"
     ]
    }
   ],
   "source": [
    "\n",
    "intron=coding_seq[65:91]\n",
    "spliced=str(exon_1)+str(intron.lower())+str(exon_2) #lowercase upstream + coding seq + lowercase downstream\n",
    "print(\"The original seq with the coding region in uppercase:\"+ str(spliced))"
   ]
  },
  {
   "cell_type": "code",
   "execution_count": 110,
   "metadata": {},
   "outputs": [
    {
     "data": {
      "text/plain": [
       "32"
      ]
     },
     "execution_count": 110,
     "metadata": {},
     "output_type": "execute_result"
    }
   ],
   "source": [
    "##faff code\n",
    "\n",
    "#len(coding_seq)\n",
    "#coding_seq[:62]\n",
    "\n",
    "#upstream=coding_seq[:62]\n",
    "#downstream=coding_seq[92:]\n",
    "#spliced=upstream.lower()+str(coding_seq)+downstream.lower()\n",
    "\n",
    "#print(str(spliced))\n",
    "\n",
    "len(exon_1)\n",
    "len(exon_2)\n"
   ]
  }
 ],
 "metadata": {
  "anaconda-cloud": {},
  "colab": {
   "collapsed_sections": [],
   "name": "Manipulating text.ipynb",
   "provenance": []
  },
  "kernelspec": {
   "display_name": "Python 3",
   "language": "python",
   "name": "python3"
  },
  "language_info": {
   "codemirror_mode": {
    "name": "ipython",
    "version": 3
   },
   "file_extension": ".py",
   "mimetype": "text/x-python",
   "name": "python",
   "nbconvert_exporter": "python",
   "pygments_lexer": "ipython3",
   "version": "3.8.5"
  }
 },
 "nbformat": 4,
 "nbformat_minor": 1
}
