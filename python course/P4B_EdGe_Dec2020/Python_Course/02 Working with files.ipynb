{
 "cells": [
  {
   "cell_type": "markdown",
   "metadata": {
    "colab_type": "text",
    "id": "xCIq9lVvOaN5"
   },
   "source": [
    "<h1 id=\"toctitle\">Working with files</h1>\n",
    "<ul id=\"toc\"/>"
   ]
  },
  {
   "cell_type": "markdown",
   "metadata": {
    "colab_type": "text",
    "id": "u2chmi4KOaN7"
   },
   "source": [
    "Files are important in bioinformatics. We have many text-based file formats:\n",
    "\n",
    "- FASTA\n",
    "- GenBank\n",
    "- FASTQ\n",
    "- VCF\n",
    "- BLAST output\n",
    "- SAM\n",
    "- etc..\n",
    "\n",
    "Often, we need to take a file and tweak its format for existing tools (e.g. fussy FASTA headers).\n",
    "\n",
    "Other times we need to write a program that will either create input for, or accept output from, other tools.\n",
    "\n",
    "Today we will talk about:\n",
    "\n",
    "- reading text\n",
    "- processing lines in a file\n",
    "- creating new files\n",
    "- appending and writing data to files\n",
    "\n",
    "Later we will talk about:\n",
    "\n",
    "- renaming\n",
    "- moving\n",
    "- copying\n",
    "- deleting\n",
    "- doing stuff to each file in a folder\n",
    "\n",
    "Notes :Can use python to edit txt files instead of using R"
   ]
  },
  {
   "cell_type": "markdown",
   "metadata": {
    "colab_type": "text",
    "id": "nstSPLr4OaN8"
   },
   "source": [
    "## Getting data from a file\n",
    "\n",
    "### Opening a file\n",
    "\n",
    "Getting data out of a file is a **two step** process: open then read."
   ]
  },
  {
   "cell_type": "code",
   "execution_count": null,
   "metadata": {
    "colab": {},
    "colab_type": "code",
    "id": "y7n4c2IBOaN9"
   },
   "outputs": [],
   "source": [
    "my_file = open(\"dna.txt\")"
   ]
  },
  {
   "cell_type": "markdown",
   "metadata": {
    "colab_type": "text",
    "id": "XOl-8odLOaOD"
   },
   "source": [
    "`open()` is a function that takes one string argument - the name of the file - and returns a __File object__, which we save into a variable.\n",
    "\n",
    "File objects are a new type of data that represent a file on disk. They have useful methods, like strings (but unlike strings we can't simply `print()` them to see the contents):"
   ]
  },
  {
   "cell_type": "code",
   "execution_count": null,
   "metadata": {
    "colab": {
     "base_uri": "https://localhost:8080/",
     "height": 35
    },
    "colab_type": "code",
    "executionInfo": {
     "elapsed": 698,
     "status": "ok",
     "timestamp": 1598976005263,
     "user": {
      "displayName": "Timothy Booth",
      "photoUrl": "https://lh3.googleusercontent.com/a-/AOh14Gh24VHUYMFBG3YmueeOVT5__lb3QHnjZ2H86Aft=s64",
      "userId": "02076426724042679010"
     },
     "user_tz": -60
    },
    "id": "D-GlBuKyOaOE",
    "outputId": "a96435f9-da47-40d8-a268-d83ed6a16b2e"
   },
   "outputs": [],
   "source": [
    "my_file ## just gives you a weird file name etc"
   ]
  },
  {
   "cell_type": "markdown",
   "metadata": {
    "colab_type": "text",
    "id": "eF-zQ71HOaOK"
   },
   "source": [
    "### Reading file contents\n",
    "\n",
    "`read()` is a File object method that returns the contents as a string. It has no arguments."
   ]
  },
  {
   "cell_type": "code",
   "execution_count": 1,
   "metadata": {
    "colab": {
     "base_uri": "https://localhost:8080/",
     "height": 35
    },
    "colab_type": "code",
    "executionInfo": {
     "elapsed": 670,
     "status": "ok",
     "timestamp": 1598976053897,
     "user": {
      "displayName": "Timothy Booth",
      "photoUrl": "https://lh3.googleusercontent.com/a-/AOh14Gh24VHUYMFBG3YmueeOVT5__lb3QHnjZ2H86Aft=s64",
      "userId": "02076426724042679010"
     },
     "user_tz": -60
    },
    "id": "wAQlhmwPOaOL",
    "outputId": "d2ce65f9-1a5a-4cef-e56d-0ae47d2b4541"
   },
   "outputs": [
    {
     "data": {
      "text/plain": [
       "'ACTGTACGTGCACTGATC\\n'"
      ]
     },
     "execution_count": 1,
     "metadata": {},
     "output_type": "execute_result"
    }
   ],
   "source": [
    "my_file = open(\"dna.txt\")\n",
    "my_file.read()"
   ]
  },
  {
   "cell_type": "code",
   "execution_count": 2,
   "metadata": {
    "colab": {},
    "colab_type": "code",
    "id": "NsV2heHlOaOQ",
    "outputId": "c77c346c-62b6-4e42-f39b-109367d4d97d"
   },
   "outputs": [
    {
     "data": {
      "text/plain": [
       "'ACTGTACGTGCACTGATC\\n'"
      ]
     },
     "execution_count": 2,
     "metadata": {},
     "output_type": "execute_result"
    }
   ],
   "source": [
    "# usually we want to store the contents in a variable\n",
    "my_file = open(\"dna.txt\")\n",
    "my_file_contents = my_file.read()\n",
    "my_file_contents"
   ]
  },
  {
   "cell_type": "code",
   "execution_count": 4,
   "metadata": {
    "colab": {},
    "colab_type": "code",
    "id": "IeAjU0XlOaOU",
    "outputId": "695ec2d7-bf0b-4e5e-bc92-074c4d9821ea"
   },
   "outputs": [
    {
     "data": {
      "text/plain": [
       "'ACTGTACGTGCACTGATC\\n'"
      ]
     },
     "execution_count": 4,
     "metadata": {},
     "output_type": "execute_result"
    }
   ],
   "source": [
    "# or in one step...\n",
    "my_file_contents = open(\"dna.txt\").read() # putting contents into the variable \n",
    "my_file_contents"
   ]
  },
  {
   "cell_type": "markdown",
   "metadata": {
    "colab_type": "text",
    "id": "0PkLMc9uOaOZ"
   },
   "source": [
    "Remember the special character `\\n`. Every line includes this new line character at the end. If you use the `len()` function on the string, for example, then this character will be counted. Remove it with the `rstrip()` method:"
   ]
  },
  {
   "cell_type": "code",
   "execution_count": null,
   "metadata": {
    "colab": {},
    "colab_type": "code",
    "id": "r_-I557eOaOa",
    "outputId": "25425157-28ce-405e-ecd7-c662da70bfee"
   },
   "outputs": [],
   "source": [
    "my_file = open(\"dna.txt\")\n",
    "my_file_contents = my_file.read()\n",
    "\n",
    "# remove the newline from the end of the file contents\n",
    "my_dna = my_file_contents.rstrip(\"\\n\")\n",
    "my_dna"
   ]
  },
  {
   "cell_type": "markdown",
   "metadata": {
    "colab_type": "text",
    "id": "vGQz8a_kOaOe"
   },
   "source": [
    "Now the variable contains only the DNA string.\n",
    "\n",
    "\n",
    "Important: files are **exhaustible**. This means that once we have read the contents of a file, doing so again will give nothing:"
   ]
  },
  {
   "cell_type": "code",
   "execution_count": 6,
   "metadata": {
    "colab": {},
    "colab_type": "code",
    "id": "LPJmNpR_OaOf",
    "outputId": "4a54ebe7-cbf4-4e2a-e25f-85ce071d93dc"
   },
   "outputs": [
    {
     "data": {
      "text/plain": [
       "('ACTGTACGTGCACTGATC\\n', '')"
      ]
     },
     "execution_count": 6,
     "metadata": {},
     "output_type": "execute_result"
    }
   ],
   "source": [
    "my_file = open(\"dna.txt\")\n",
    "my_file_contents1 = my_file.read()\n",
    "my_file_contents2 = my_file.read()## get nothing for this variable as we have already read it in above\n",
    "\n",
    "(my_file_contents1, my_file_contents2)"
   ]
  },
  {
   "cell_type": "markdown",
   "metadata": {
    "colab_type": "text",
    "id": "NL3PvmHYOaOj"
   },
   "source": [
    "This can easily cause confusion, so remember that you are only allowed to read the contents of a file object once. Rather then opening the file a second time, we can just store the contents of the file in a variable then use it multiple times. "
   ]
  },
  {
   "cell_type": "markdown",
   "metadata": {
    "colab_type": "text",
    "id": "dkhLJgPXOaOk"
   },
   "source": [
    "### Finding files\n",
    "\n",
    "If Python says it cannot read your file it may be that Python is looking in the wrong directory. In simple setups, Python will look for the file in the same place where the Python code file is saved. You can also set this directory (Python calls it the *current working directory*) manually. We'll look at this later."
   ]
  },
  {
   "cell_type": "markdown",
   "metadata": {
    "colab_type": "text",
    "id": "3kdEuq0kOaOk"
   },
   "source": [
    "\n",
    "## Writing to files\n",
    "\n",
    "To write to a file we have to use a second argument to open:"
   ]
  },
  {
   "cell_type": "code",
   "execution_count": null,
   "metadata": {
    "colab": {},
    "colab_type": "code",
    "id": "D9hTsS1kOaOl"
   },
   "outputs": [],
   "source": [
    "my_file = open(\"out.txt\", \"w\") #open this file for writing (this is what the w does) mode = w now "
   ]
  },
  {
   "cell_type": "markdown",
   "metadata": {
    "colab_type": "text",
    "id": "B5oL2pUFOaOp"
   },
   "source": [
    "`w` stands for write. Once we have opened a file for writing, we can use the `write()` method. Remember that lines written to a file end with a \"\\n\" newline character:"
   ]
  },
  {
   "cell_type": "code",
   "execution_count": null,
   "metadata": {
    "colab": {
     "base_uri": "https://localhost:8080/",
     "height": 35
    },
    "colab_type": "code",
    "executionInfo": {
     "elapsed": 1192,
     "status": "ok",
     "timestamp": 1598976972974,
     "user": {
      "displayName": "Timothy Booth",
      "photoUrl": "https://lh3.googleusercontent.com/a-/AOh14Gh24VHUYMFBG3YmueeOVT5__lb3QHnjZ2H86Aft=s64",
      "userId": "02076426724042679010"
     },
     "user_tz": -60
    },
    "id": "p2q9i0dYOaOq",
    "outputId": "797874fb-9ccd-4189-835c-9d9d4fc2e944"
   },
   "outputs": [],
   "source": [
    "my_file.write(\"Hello world\\n\")"
   ]
  },
  {
   "cell_type": "markdown",
   "metadata": {
    "colab_type": "text",
    "id": "Rolwto8UOaOu"
   },
   "source": [
    "How can we tell if this has worked? See if the file is now visible in the directory listing."
   ]
  },
  {
   "cell_type": "markdown",
   "metadata": {
    "colab_type": "text",
    "id": "VGjI_cNaOaOu"
   },
   "source": [
    "## Closing files\n",
    "\n",
    "Once we've finished writing data to a file, we have to close it:"
   ]
  },
  {
   "cell_type": "code",
   "execution_count": null,
   "metadata": {
    "colab": {},
    "colab_type": "code",
    "id": "H0a1mRmsOaOv"
   },
   "outputs": [],
   "source": [
    "my_file = open(\"out.txt\", \"w\")\n",
    "my_file.write(\"Hello world\\n\")\n",
    "\n",
    "# remember to close the file\n",
    "my_file.close()"
   ]
  },
  {
   "cell_type": "markdown",
   "metadata": {
    "colab_type": "text",
    "id": "dfoC1aAfeg5r"
   },
   "source": [
    "## Writing to files with print()\n",
    "\n",
    "It's also possible to write into files using the print() function. In this case, you don't have to worry about adding the \"\\n\" as print() will do it for you. It looks like this:"
   ]
  },
  {
   "cell_type": "code",
   "execution_count": null,
   "metadata": {
    "colab": {},
    "colab_type": "code",
    "id": "XkHkQxFofDiz"
   },
   "outputs": [],
   "source": [
    "my_file = open(\"out_2_lines.txt\", \"w\")\n",
    "print(\"First line\", file=my_file)\n",
    "print(\"Second line\", file=my_file)\n",
    "\n",
    "# You still need to close the file.\n",
    "my_file.close()"
   ]
  },
  {
   "cell_type": "markdown",
   "metadata": {
    "colab_type": "text",
    "id": "fdklALOROaOz"
   },
   "source": [
    "## Getting user input\n",
    "\n",
    "Another way to get information into our programs is by using interactive input. Ask the user with the `input()` function:"
   ]
  },
  {
   "cell_type": "code",
   "execution_count": null,
   "metadata": {
    "colab": {
     "base_uri": "https://localhost:8080/",
     "height": 71
    },
    "colab_type": "code",
    "executionInfo": {
     "elapsed": 5714,
     "status": "ok",
     "timestamp": 1598977183207,
     "user": {
      "displayName": "Timothy Booth",
      "photoUrl": "https://lh3.googleusercontent.com/a-/AOh14Gh24VHUYMFBG3YmueeOVT5__lb3QHnjZ2H86Aft=s64",
      "userId": "02076426724042679010"
     },
     "user_tz": -60
    },
    "id": "-K_TSGGvOaO0",
    "outputId": "0ffb122c-b361-4d83-efad-3e9063efe16e"
   },
   "outputs": [],
   "source": [
    "name = input(\"What is your name, traveller?\\n\") #imediate input to the programme e.g. asking how many individuals you want to simulate\n",
    "print(\"Greetings, \" + name)"
   ]
  },
  {
   "cell_type": "markdown",
   "metadata": {
    "colab_type": "text",
    "id": "xLu9Y8G0OaO8"
   },
   "source": [
    "## Summary of all things!\n",
    "\n",
    "|  __Name__ | __Job__  | __Argument__  | __Returns__  | __Type__  |\n",
    "|---|---|---|---|---|\n",
    "| `open()`  | opens a file for reading or writing  | filename, optional mode (both strings)  | File object  | built in function |\n",
    "|  `read()` | reads the contents of a file  | none  | String  | method of File objects  |\n",
    "| `rstrip()` | removes characters from end of string (usually newline)| string to remove  | string  | method of string objects |\n",
    "| `write()`  | writes text to a file | string to write | nothing  | method of File objects |\n",
    "|   `close()`| closes a file | none | nothing | method of File objects|\n",
    "\n"
   ]
  },
  {
   "cell_type": "markdown",
   "metadata": {
    "colab_type": "text",
    "id": "fl5WmMU7OaO9"
   },
   "source": [
    "## Exercises\n",
    "\n",
    "You'll need to use the string manipulation material from previous session, so have it open somewhere. One complication when doing exercises with file output is that you have to check your output file to see if your program has worked. There's no need to write a separate bit of code just to print the contents of your output file! Your output file will be plain text, so open it in a text editor (in Jupyter, just click on the file to view it in the browser).\n",
    "\n",
    "### Splitting genomic DNA\n",
    "\n",
    "Look at the file called *genomic_dna.txt* – it contains the same piece of genomic DNA that we were using in the final exercise from the previous session. The first exon runs from the start of the sequence to the sixty-third character, and the second exon runs from the ninety-first character to the end of the sequence. \n",
    "\n",
    "Write a program that will split the genomic DNA into coding and non-coding parts, and write these sequences to two separate files. Hint: use your solution to the last exercise from the previous session as a starting point."
   ]
  },
  {
   "cell_type": "code",
   "execution_count": 6,
   "metadata": {},
   "outputs": [],
   "source": [
    "dna_file = open(\"genomic_dna.txt\") #need to open the file first\n",
    "dna_cont = dna_file.read().rstrip('\\n') #then extract the info from the file and remove the new line\n",
    "dna_cont #check it\n",
    "\n",
    "exon1=dna_cont[:64]\n",
    "intron=dna_cont[64:91]\n",
    "exon2=dna_cont[91:]\n",
    "\n",
    "exon_file=open('genomic_dna_exons.txt','w') # need to open another txt file to write to\n",
    "intron_file = open('genomic_dna_introns.txt','w')\n",
    "\n",
    "print(exon1, file=exon_file) #printing to the created file \n",
    "print(exon2, file=exon_file)\n",
    "print(intron, file=intron_file)\n",
    "\n",
    "exon_file.close()\n",
    "intron_file.close() #finally need to close both the files to finish"
   ]
  },
  {
   "cell_type": "code",
   "execution_count": 8,
   "metadata": {},
   "outputs": [
    {
     "data": {
      "text/plain": [
       "''"
      ]
     },
     "execution_count": 8,
     "metadata": {},
     "output_type": "execute_result"
    }
   ],
   "source": [
    "dna_cont ## someho deleted the file .. woops but code above is correct"
   ]
  },
  {
   "cell_type": "markdown",
   "metadata": {
    "colab_type": "text",
    "id": "fl5WmMU7OaO9"
   },
   "source": [
    "### Writing a FASTA file\n",
    "\n",
    "A FASTA file stores sequence data and looks like this:\n",
    "\n",
    "```\n",
    ">sequence_one\n",
    "cgatcgatcatcgatgcattgtagctatcg\n",
    ">sequence_two\n",
    "acagtagctacgtgtgtcgta\n",
    "```\n",
    "\n",
    "Write a program that will create a FASTA file for the following three sequences – make sure that all sequences are in upper case and only contain the bases A, T, G and C.\n",
    "\n",
    "| __Sequence header__ | __Sequence__ |\n",
    "|---------------------|---------------|\n",
    "| ABC123 | ATCGTACGATCGATCGATCGCTAGACGTATCG |\n",
    "| DEF456 | actgatcgacgatcgatcgatcacgact |\n",
    "| HIJ789 | ACTGAC-ACTGT--ACTGTA----CATGTG |\n",
    "\n",
    "### Writing multiple FASTA files\n",
    "\n",
    "Use the data from the previous exercise, but instead of creating a __single__ FASTA file, create __three__ new FASTA files – one per sequence. The names of the FASTA files should be the same as the sequence header names, with the extension .fasta."
   ]
  },
  {
   "cell_type": "code",
   "execution_count": null,
   "metadata": {
    "colab": {},
    "colab_type": "code",
    "id": "PcWkVpGNgG71"
   },
   "outputs": [],
   "source": [
    "## need to open(create) a file to write to \n",
    "\n",
    "#print automatically puts a new line character in\n",
    "\n",
    "\n",
    "seq1_hed='ABC123'\n",
    "seq2_hed='DEF456'\n",
    "seq3_hed='HIJ789'\n",
    "\n",
    "seq1='ATCGTACGATCGATCGATCGCTAGACGTATCG'\n",
    "seq2='actgatcgacgatcgatcgatcacgact'\n",
    "seq3='ACTGAC-ACTGT--ACTGTA----CATGTG'\n",
    "\n",
    "fasta=open('fasta_file.txt','w') \n",
    "\n",
    "\n",
    "#fallen behind, check answers \n",
    "\n"
   ]
  }
 ],
 "metadata": {
  "anaconda-cloud": {},
  "colab": {
   "collapsed_sections": [
    "dkhLJgPXOaOk",
    "xLu9Y8G0OaO8"
   ],
   "name": "02 Working with files.ipynb",
   "provenance": []
  },
  "kernelspec": {
   "display_name": "Python 3",
   "language": "python",
   "name": "python3"
  },
  "language_info": {
   "codemirror_mode": {
    "name": "ipython",
    "version": 3
   },
   "file_extension": ".py",
   "mimetype": "text/x-python",
   "name": "python",
   "nbconvert_exporter": "python",
   "pygments_lexer": "ipython3",
   "version": "3.8.5"
  }
 },
 "nbformat": 4,
 "nbformat_minor": 1
}
