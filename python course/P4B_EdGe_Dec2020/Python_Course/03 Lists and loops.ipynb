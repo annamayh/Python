{
 "cells": [
  {
   "cell_type": "markdown",
   "metadata": {
    "colab_type": "text",
    "id": "aAa71odg8a-H"
   },
   "source": [
    "<h1 id=\"toctitle\">Lists and loops</h1>\n",
    "<ul id=\"toc\"/>"
   ]
  },
  {
   "cell_type": "markdown",
   "metadata": {
    "colab_type": "text",
    "id": "TK_9huYS8a-L"
   },
   "source": [
    "Storing multiple values is currently awkward as we saw in the exercise from the previous session:"
   ]
  },
  {
   "cell_type": "code",
   "execution_count": null,
   "metadata": {
    "colab": {},
    "colab_type": "code",
    "id": "SFhbuVT28a-M"
   },
   "outputs": [],
   "source": [
    "# three string variables\n",
    "header1 = \"ABC123\"\n",
    "header2 = \"DEF456\"\n",
    "header3 = \"HIJ789\""
   ]
  },
  {
   "cell_type": "markdown",
   "metadata": {
    "colab_type": "text",
    "id": "0xmXcTrX8a-R"
   },
   "source": [
    "## Lists\n",
    "### Defining a list and getting elements\n",
    "Python's solution is to have lists of data, which can store multiple values. Lists start and end with square brackets and the __elements__ are separated by commas:"
   ]
  },
  {
   "cell_type": "code",
   "execution_count": 1,
   "metadata": {
    "colab": {},
    "colab_type": "code",
    "id": "6Cu6l_OD8a-S",
    "outputId": "6b4b15ff-af66-4499-b3f7-f3053d12487c"
   },
   "outputs": [
    {
     "data": {
      "text/plain": [
       "['ABC123', 'DEF456', 'HIJ789']"
      ]
     },
     "execution_count": 1,
     "metadata": {},
     "output_type": "execute_result"
    }
   ],
   "source": [
    "headers = [\"ABC123\",\"DEF456\",\"HIJ789\"] #instead of having 3 different items (above) have 1 list of items \n",
    "headers"
   ]
  },
  {
   "cell_type": "markdown",
   "metadata": {
    "colab_type": "text",
    "id": "Oq8MpZYC8a-W"
   },
   "source": [
    "Once we have stored some values in a list, we can get a single element by giving its __index__:"
   ]
  },
  {
   "cell_type": "code",
   "execution_count": 2,
   "metadata": {
    "colab": {},
    "colab_type": "code",
    "id": "iSSXsSNQ8a-W",
    "outputId": "f03f5b4f-a3fe-48c5-ba6c-2cbec89c2a37"
   },
   "outputs": [
    {
     "data": {
      "text/plain": [
       "'DEF456'"
      ]
     },
     "execution_count": 2,
     "metadata": {},
     "output_type": "execute_result"
    }
   ],
   "source": [
    "headers[1]\n",
    "headers[1:2]#is the same thing as above but is a list instead of a singular varibale "
   ]
  },
  {
   "cell_type": "markdown",
   "metadata": {
    "colab_type": "text",
    "id": "T9-rHJUs8a-a"
   },
   "source": [
    "Index ranges work just like they did for strings:"
   ]
  },
  {
   "cell_type": "code",
   "execution_count": 3,
   "metadata": {
    "colab": {},
    "colab_type": "code",
    "id": "2vf8SvUa8a-b",
    "outputId": "245c10b0-37f8-4bac-be41-dd6578fcdde5"
   },
   "outputs": [
    {
     "data": {
      "text/plain": [
       "['DEF456', 'HIJ789']"
      ]
     },
     "execution_count": 3,
     "metadata": {},
     "output_type": "execute_result"
    }
   ],
   "source": [
    "headers[1:3] #header 2 and 3 remember starts from 0 so does not include first one "
   ]
  },
  {
   "cell_type": "markdown",
   "metadata": {
    "colab_type": "text",
    "id": "TTjeDd058a-e"
   },
   "source": [
    "Start counting from zero, inclusive at the start, exclusive at the end. \n",
    "\n",
    "### Building up a list\n",
    "\n",
    "Often we want to start with an empty list and build it up:"
   ]
  },
  {
   "cell_type": "code",
   "execution_count": null,
   "metadata": {
    "colab": {},
    "colab_type": "code",
    "id": "svVnR16L8a-f"
   },
   "outputs": [],
   "source": [
    "headers = [] #create a list"
   ]
  },
  {
   "cell_type": "markdown",
   "metadata": {
    "colab_type": "text",
    "id": "q_6FOhvE8a-i"
   },
   "source": [
    "The `append()` method adds a value on to the end of the list:"
   ]
  },
  {
   "cell_type": "code",
   "execution_count": 5,
   "metadata": {
    "colab": {
     "base_uri": "https://localhost:8080/",
     "height": 53
    },
    "colab_type": "code",
    "executionInfo": {
     "elapsed": 510,
     "status": "ok",
     "timestamp": 1599035990472,
     "user": {
      "displayName": "Timothy Booth",
      "photoUrl": "https://lh3.googleusercontent.com/a-/AOh14Gh24VHUYMFBG3YmueeOVT5__lb3QHnjZ2H86Aft=s64",
      "userId": "02076426724042679010"
     },
     "user_tz": -60
    },
    "id": "X7DA_ayL8a-j",
    "outputId": "e30e9788-ec41-4d33-c045-172863d33beb"
   },
   "outputs": [
    {
     "name": "stdout",
     "output_type": "stream",
     "text": [
      "[]\n",
      "['ABC123']\n",
      "['ABC123', 'XYZ123']\n"
     ]
    }
   ],
   "source": [
    "headers = []\n",
    "print(headers)\n",
    "headers.append(\"ABC123\")#adds this into the empty list\n",
    "print(headers)\n",
    "headers.append(\"XYZ123\")#adds one more value to the list, \n",
    "print(headers)\n",
    "\n",
    "#can only call append on an already defined list e.g. ['WWWe','OOOhwee'].append('XXX') will not work as list is not saved anywhere"
   ]
  },
  {
   "cell_type": "markdown",
   "metadata": {
    "colab_type": "text",
    "id": "FLx8JvoE8a-n"
   },
   "source": [
    "We can also concatenate two lists:"
   ]
  },
  {
   "cell_type": "code",
   "execution_count": 6,
   "metadata": {
    "colab": {
     "base_uri": "https://localhost:8080/",
     "height": 35
    },
    "colab_type": "code",
    "executionInfo": {
     "elapsed": 522,
     "status": "ok",
     "timestamp": 1599035993804,
     "user": {
      "displayName": "Timothy Booth",
      "photoUrl": "https://lh3.googleusercontent.com/a-/AOh14Gh24VHUYMFBG3YmueeOVT5__lb3QHnjZ2H86Aft=s64",
      "userId": "02076426724042679010"
     },
     "user_tz": -60
    },
    "id": "xrvaBFjN8a-n",
    "outputId": "ef309e38-71e0-4bb7-c7f2-4b3bd23165ee"
   },
   "outputs": [
    {
     "data": {
      "text/plain": [
       "['ABC123', 'XYZ123', 'DEF456', 'HIJ789']"
      ]
     },
     "execution_count": 6,
     "metadata": {},
     "output_type": "execute_result"
    }
   ],
   "source": [
    "combined = headers + [\"DEF456\",\"HIJ789\"] ## adds together two lists can also concatenate to already defined lists \n",
    "combined"
   ]
  },
  {
   "cell_type": "code",
   "execution_count": null,
   "metadata": {},
   "outputs": [],
   "source": [
    "#.pop() removes the last item you added on the end "
   ]
  },
  {
   "cell_type": "markdown",
   "metadata": {
    "colab_type": "text",
    "id": "I3k0Edhd8a-q"
   },
   "source": [
    "note that this doesn't change the original list like `append()` does:"
   ]
  },
  {
   "cell_type": "code",
   "execution_count": 10,
   "metadata": {
    "colab": {
     "base_uri": "https://localhost:8080/",
     "height": 35
    },
    "colab_type": "code",
    "executionInfo": {
     "elapsed": 701,
     "status": "ok",
     "timestamp": 1599036005852,
     "user": {
      "displayName": "Timothy Booth",
      "photoUrl": "https://lh3.googleusercontent.com/a-/AOh14Gh24VHUYMFBG3YmueeOVT5__lb3QHnjZ2H86Aft=s64",
      "userId": "02076426724042679010"
     },
     "user_tz": -60
    },
    "id": "3LobZ2mD8a-r",
    "outputId": "56241b22-8c81-4e12-9fcf-8f0beb329f15"
   },
   "outputs": [
    {
     "data": {
      "text/plain": [
       "['ABC123', 'XYZ123']"
      ]
     },
     "execution_count": 10,
     "metadata": {},
     "output_type": "execute_result"
    }
   ],
   "source": [
    "headers"
   ]
  },
  {
   "cell_type": "markdown",
   "metadata": {
    "colab_type": "text",
    "id": "XIvXfOET8a-u"
   },
   "source": [
    "If we try to concatenate a string value and list, we will get an error:"
   ]
  },
  {
   "cell_type": "code",
   "execution_count": 8,
   "metadata": {
    "colab": {},
    "colab_type": "code",
    "id": "6J6BEEbW8a-u",
    "outputId": "58089cb2-dbde-4a53-d0c2-2f39516e1183"
   },
   "outputs": [
    {
     "ename": "TypeError",
     "evalue": "can only concatenate list (not \"str\") to list",
     "output_type": "error",
     "traceback": [
      "\u001b[1;31m---------------------------------------------------------------------------\u001b[0m",
      "\u001b[1;31mTypeError\u001b[0m                                 Traceback (most recent call last)",
      "\u001b[1;32m<ipython-input-8-fe40b4fcf197>\u001b[0m in \u001b[0;36m<module>\u001b[1;34m\u001b[0m\n\u001b[1;32m----> 1\u001b[1;33m \u001b[0mheaders\u001b[0m \u001b[1;33m+\u001b[0m \u001b[1;34m\"DEF456\"\u001b[0m\u001b[1;33m\u001b[0m\u001b[1;33m\u001b[0m\u001b[0m\n\u001b[0m",
      "\u001b[1;31mTypeError\u001b[0m: can only concatenate list (not \"str\") to list"
     ]
    }
   ],
   "source": [
    "headers + \"DEF456\""
   ]
  },
  {
   "cell_type": "markdown",
   "metadata": {
    "colab_type": "text",
    "id": "CEB-atHS-1iM"
   },
   "source": [
    "But we could always put the string value into a single-item list:"
   ]
  },
  {
   "cell_type": "code",
   "execution_count": 9,
   "metadata": {
    "colab": {
     "base_uri": "https://localhost:8080/",
     "height": 35
    },
    "colab_type": "code",
    "executionInfo": {
     "elapsed": 614,
     "status": "ok",
     "timestamp": 1599036213598,
     "user": {
      "displayName": "Timothy Booth",
      "photoUrl": "https://lh3.googleusercontent.com/a-/AOh14Gh24VHUYMFBG3YmueeOVT5__lb3QHnjZ2H86Aft=s64",
      "userId": "02076426724042679010"
     },
     "user_tz": -60
    },
    "id": "prr91bhR-_sO",
    "outputId": "e6e1cad2-3a79-451c-e205-5dda9ae8c161"
   },
   "outputs": [
    {
     "data": {
      "text/plain": [
       "['ABC123', 'XYZ123', 'DEF456']"
      ]
     },
     "execution_count": 9,
     "metadata": {},
     "output_type": "execute_result"
    }
   ],
   "source": [
    "headers + [\"DEF456\"]# combine this list but with \n",
    "#.append changes the original list but this way means you can create another "
   ]
  },
  {
   "cell_type": "markdown",
   "metadata": {
    "colab_type": "text",
    "id": "Ji2aPL8r8a-x"
   },
   "source": [
    "### Creating a list by splitting a string\n",
    "\n",
    "The `split()` method of strings returns a list:"
   ]
  },
  {
   "cell_type": "code",
   "execution_count": 11,
   "metadata": {
    "colab": {
     "base_uri": "https://localhost:8080/",
     "height": 53
    },
    "colab_type": "code",
    "executionInfo": {
     "elapsed": 424,
     "status": "ok",
     "timestamp": 1599041415031,
     "user": {
      "displayName": "Timothy Booth",
      "photoUrl": "https://lh3.googleusercontent.com/a-/AOh14Gh24VHUYMFBG3YmueeOVT5__lb3QHnjZ2H86Aft=s64",
      "userId": "02076426724042679010"
     },
     "user_tz": -60
    },
    "id": "HjSyV5pF8a-y",
    "outputId": "62799655-f7cd-49ce-eb0a-da2a2ccdaeb8"
   },
   "outputs": [
    {
     "name": "stdout",
     "output_type": "stream",
     "text": [
      "['one', 'two', 'three', 'four']\n",
      "['Kingdom', 'Phylum', 'Class', 'Order', 'Family', 'Genus', 'Species']\n"
     ]
    }
   ],
   "source": [
    "sentence = \"one two three four\"\n",
    "print(sentence.split())#splitting on spaces default creating a list from your string\n",
    "\n",
    "commastring = \"Kingdom,Phylum,Class,Order,Family,Genus,Species\"\n",
    "print(commastring.split(\",\"))#changing string into a list, split by comma"
   ]
  },
  {
   "cell_type": "markdown",
   "metadata": {
    "colab_type": "text",
    "id": "64f_xT_r8a-1"
   },
   "source": [
    "This doesn't change the original string:"
   ]
  },
  {
   "cell_type": "code",
   "execution_count": 12,
   "metadata": {
    "colab": {},
    "colab_type": "code",
    "id": "rtqA15sV8a-1",
    "outputId": "4587d2b7-0955-449b-937c-a33b6c948de0"
   },
   "outputs": [
    {
     "data": {
      "text/plain": [
       "'one two three four'"
      ]
     },
     "execution_count": 12,
     "metadata": {},
     "output_type": "execute_result"
    }
   ],
   "source": [
    "sentence"
   ]
  },
  {
   "cell_type": "markdown",
   "metadata": {
    "colab_type": "text",
    "id": "A4PkH1U-8a-4"
   },
   "source": [
    "Another way to create a list is by using the `range()` function. `range()` can generate lists of numbers. In Python 3, `range()` has a special behaviour that we call __lazy__ - it only generates the numbers as we use them. This means that if we want to see the numbers printed, we have to call `list()` on the result of `range()` (as below). When we want to use a range in a loop (coming up soon!), we don't have to to this though.\n",
    "\n",
    "With one argument, `range()` counts from zero to just before the number:"
   ]
  },
  {
   "cell_type": "code",
   "execution_count": 13,
   "metadata": {
    "colab": {},
    "colab_type": "code",
    "id": "3okmsJU_8a-5",
    "outputId": "d5ae3c70-c927-413b-89d9-7628ace41e39"
   },
   "outputs": [
    {
     "data": {
      "text/plain": [
       "[0, 1, 2, 3, 4, 5, 6, 7, 8, 9]"
      ]
     },
     "execution_count": 13,
     "metadata": {},
     "output_type": "execute_result"
    }
   ],
   "source": [
    "list(range(10))"
   ]
  },
  {
   "cell_type": "code",
   "execution_count": 20,
   "metadata": {},
   "outputs": [
    {
     "data": {
      "text/plain": [
       "range(0, 10)"
      ]
     },
     "execution_count": 20,
     "metadata": {},
     "output_type": "execute_result"
    }
   ],
   "source": [
    "range(0,10) #range object so when we actually use them "
   ]
  },
  {
   "cell_type": "markdown",
   "metadata": {
    "colab_type": "text",
    "id": "w4cIRukr8a-8"
   },
   "source": [
    "with two arguments it counts from the first number to just before the second:"
   ]
  },
  {
   "cell_type": "code",
   "execution_count": 14,
   "metadata": {
    "colab": {},
    "colab_type": "code",
    "id": "6YSc-VEf8a-8",
    "outputId": "b776be2d-586c-4181-abdb-0632442c755a"
   },
   "outputs": [
    {
     "data": {
      "text/plain": [
       "[5, 6, 7, 8, 9, 10, 11]"
      ]
     },
     "execution_count": 14,
     "metadata": {},
     "output_type": "execute_result"
    }
   ],
   "source": [
    "list(range(5,12))"
   ]
  },
  {
   "cell_type": "markdown",
   "metadata": {
    "colab_type": "text",
    "id": "S2CLHb0P8a-_"
   },
   "source": [
    "With three arguments, it uses the third argument as the step size:"
   ]
  },
  {
   "cell_type": "code",
   "execution_count": 19,
   "metadata": {
    "colab": {},
    "colab_type": "code",
    "id": "WrumwANb8a_A",
    "outputId": "f092722d-4fb4-4fb2-8099-d8d4e6233474"
   },
   "outputs": [
    {
     "data": {
      "text/plain": [
       "[3, 7, 11, 15, 19, 23]"
      ]
     },
     "execution_count": 19,
     "metadata": {},
     "output_type": "execute_result"
    }
   ],
   "source": [
    "list(range(3, 24, 4))#cool! all numbers between 3 and 24 in steps of 4 "
   ]
  },
  {
   "cell_type": "markdown",
   "metadata": {
    "colab_type": "text",
    "id": "SebpI9aV8a_C"
   },
   "source": [
    "## Tools for manipulating lists\n",
    "\n",
    "### Sorting and reversing a list\n",
    "\n",
    "Starting with our headers:"
   ]
  },
  {
   "cell_type": "code",
   "execution_count": 21,
   "metadata": {
    "colab": {},
    "colab_type": "code",
    "id": "DzF7-NzA8a_D"
   },
   "outputs": [],
   "source": [
    "headers = [\"DEF456\",\"ABC123\",\"HIJ789\"]"
   ]
  },
  {
   "cell_type": "markdown",
   "metadata": {
    "colab_type": "text",
    "id": "Lu_59p1M8a_G"
   },
   "source": [
    "Calling the `sort()` method changes the order to alphabetical:"
   ]
  },
  {
   "cell_type": "code",
   "execution_count": 22,
   "metadata": {
    "colab": {},
    "colab_type": "code",
    "id": "PZYeNsNA8a_H",
    "outputId": "9e75739f-c6a9-4ac4-ed59-11054808594a"
   },
   "outputs": [
    {
     "data": {
      "text/plain": [
       "['ABC123', 'DEF456', 'HIJ789']"
      ]
     },
     "execution_count": 22,
     "metadata": {},
     "output_type": "execute_result"
    }
   ],
   "source": [
    "headers.sort()\n",
    "headers"
   ]
  },
  {
   "cell_type": "markdown",
   "metadata": {
    "colab_type": "text",
    "id": "2yb3cKuZ8a_J"
   },
   "source": [
    "or numerical, if the items are numbers:"
   ]
  },
  {
   "cell_type": "code",
   "execution_count": 23,
   "metadata": {
    "colab": {
     "base_uri": "https://localhost:8080/",
     "height": 35
    },
    "colab_type": "code",
    "executionInfo": {
     "elapsed": 444,
     "status": "ok",
     "timestamp": 1599042003143,
     "user": {
      "displayName": "Timothy Booth",
      "photoUrl": "https://lh3.googleusercontent.com/a-/AOh14Gh24VHUYMFBG3YmueeOVT5__lb3QHnjZ2H86Aft=s64",
      "userId": "02076426724042679010"
     },
     "user_tz": -60
    },
    "id": "LwiixX7y8a_K",
    "outputId": "9643ae01-54d7-4e1a-c403-da407031001e"
   },
   "outputs": [
    {
     "data": {
      "text/plain": [
       "[1, 3, 4, 4, 5, 9, 12, 13, 15, 16, 18, 18, 72, 103]"
      ]
     },
     "execution_count": 23,
     "metadata": {},
     "output_type": "execute_result"
    }
   ],
   "source": [
    "numbers = [3,18,4,16,9,103,15,72,4,12,1,18,5,13]\n",
    "numbers.sort()\n",
    "numbers"
   ]
  },
  {
   "cell_type": "markdown",
   "metadata": {
    "colab_type": "text",
    "id": "PSc1wPEEURGH"
   },
   "source": [
    "But be careful if your list contains strings that look like numbers. Because the elements are strings the sort order will still be alphabetical."
   ]
  },
  {
   "cell_type": "code",
   "execution_count": 24,
   "metadata": {
    "colab": {
     "base_uri": "https://localhost:8080/",
     "height": 35
    },
    "colab_type": "code",
    "executionInfo": {
     "elapsed": 422,
     "status": "ok",
     "timestamp": 1599042110018,
     "user": {
      "displayName": "Timothy Booth",
      "photoUrl": "https://lh3.googleusercontent.com/a-/AOh14Gh24VHUYMFBG3YmueeOVT5__lb3QHnjZ2H86Aft=s64",
      "userId": "02076426724042679010"
     },
     "user_tz": -60
    },
    "id": "jg3NnVvTUwGW",
    "outputId": "e3fc0ff6-a035-4569-d6d8-bf22f40f3fa9"
   },
   "outputs": [
    {
     "data": {
      "text/plain": [
       "['1', '103', '12', '13', '15', '16', '18', '18', '3', '4', '4', '5', '72', '9']"
      ]
     },
     "execution_count": 24,
     "metadata": {},
     "output_type": "execute_result"
    }
   ],
   "source": [
    "not_really_numbers = '3 18 4 16 9 103 15 72 4 12 1 18 5 13'.split()\n",
    "not_really_numbers.sort()\n",
    "not_really_numbers"
   ]
  },
  {
   "cell_type": "markdown",
   "metadata": {
    "colab_type": "text",
    "id": "JUWVYIkX8a_O"
   },
   "source": [
    "We can reverse the order of a list as well:"
   ]
  },
  {
   "cell_type": "code",
   "execution_count": 25,
   "metadata": {
    "colab": {},
    "colab_type": "code",
    "id": "lBvlDgf88a_P",
    "outputId": "5f40f5be-778a-495c-e52e-c35f6a51ecb0"
   },
   "outputs": [
    {
     "data": {
      "text/plain": [
       "['HIJ789', 'ABC123', 'DEF456']"
      ]
     },
     "execution_count": 25,
     "metadata": {},
     "output_type": "execute_result"
    }
   ],
   "source": [
    "headers = [\"DEF456\",\"ABC123\",\"HIJ789\"]\n",
    "headers.reverse()\n",
    "headers"
   ]
  },
  {
   "cell_type": "markdown",
   "metadata": {
    "colab_type": "text",
    "id": "sJOAIxzP8a_R"
   },
   "source": [
    "Note that, like `append()` these methods both change the list they're run on.\n",
    "\n",
    "## Loops\n",
    "\n",
    "We know how to do something for one element of a list:"
   ]
  },
  {
   "cell_type": "code",
   "execution_count": 26,
   "metadata": {
    "colab": {},
    "colab_type": "code",
    "id": "vo75VLCi8a_S",
    "outputId": "a48d28f5-1514-42b2-ce93-2f7523ce9354"
   },
   "outputs": [
    {
     "name": "stdout",
     "output_type": "stream",
     "text": [
      "ABC123\n"
     ]
    }
   ],
   "source": [
    "headers = [\"DEF456\",\"ABC123\",\"HIJ789\"]\n",
    "one_header = headers[1]\n",
    "print(one_header)"
   ]
  },
  {
   "cell_type": "markdown",
   "metadata": {
    "colab_type": "text",
    "id": "5wiwLIEe8a_U"
   },
   "source": [
    "How do we do something for every element of a list?"
   ]
  },
  {
   "cell_type": "code",
   "execution_count": 27,
   "metadata": {
    "colab": {
     "base_uri": "https://localhost:8080/",
     "height": 35
    },
    "colab_type": "code",
    "executionInfo": {
     "elapsed": 404,
     "status": "ok",
     "timestamp": 1599042181632,
     "user": {
      "displayName": "Timothy Booth",
      "photoUrl": "https://lh3.googleusercontent.com/a-/AOh14Gh24VHUYMFBG3YmueeOVT5__lb3QHnjZ2H86Aft=s64",
      "userId": "02076426724042679010"
     },
     "user_tz": -60
    },
    "id": "2e391wmM8a_V",
    "outputId": "74552cb4-6b5e-4fef-a91f-84b879ed4431"
   },
   "outputs": [
    {
     "name": "stdout",
     "output_type": "stream",
     "text": [
      "one header is DEF456\n",
      "one header is ABC123\n",
      "one header is HIJ789\n"
     ]
    }
   ],
   "source": [
    "for header in headers:\n",
    "    print(\"one header is \" + header)#headers is like i in R for i in blah"
   ]
  },
  {
   "cell_type": "markdown",
   "metadata": {
    "colab_type": "text",
    "id": "8P8BA5A78a_X"
   },
   "source": [
    " - `header` is a new variable that you can read inside the loop\n",
    " - The `for` line ends with a colon\n",
    " - The body of the loop is indented (in Jupyter you may use Tab or Space to do this)\n",
    " - The value of header is set to each element in turn:\n",
    " \n",
    " We can do all the stuff that we already know how to do inside a loop."
   ]
  },
  {
   "cell_type": "code",
   "execution_count": 28,
   "metadata": {
    "colab": {},
    "colab_type": "code",
    "id": "fF00oIQa8a_Y",
    "outputId": "5029af89-7bd6-45e0-f080-c3dacfea6751"
   },
   "outputs": [
    {
     "name": "stdout",
     "output_type": "stream",
     "text": [
      "one sequence is actgtacgact\n",
      "it starts with a\n",
      "its length is 11\n",
      "it contains 2 g bases\n",
      "\n",
      "one sequence is catgc\n",
      "it starts with c\n",
      "its length is 5\n",
      "it contains 1 g bases\n",
      "\n",
      "one sequence is atcgatatagctag\n",
      "it starts with a\n",
      "its length is 14\n",
      "it contains 3 g bases\n",
      "\n"
     ]
    }
   ],
   "source": [
    "seqs = ['actgtacgact', 'catgc', 'atcgatatagctag']\n",
    "for seq in seqs:\n",
    "    print(\"one sequence is \" + seq)\n",
    "    print(\"it starts with \" + seq[0])\n",
    "    print(\"its length is \" + str(len(seq)))\n",
    "    print(\"it contains \" + str(seq.count('g')) + ' g bases\\n') ## indenting the loops puts it into the loop"
   ]
  },
  {
   "cell_type": "markdown",
   "metadata": {
    "colab_type": "text",
    "id": "qXk7_ryV8a_c"
   },
   "source": [
    "### Loops and strings\n",
    "\n",
    "We can write a loop that uses a string as if it were a list - each character will behave like an individual element:"
   ]
  },
  {
   "cell_type": "code",
   "execution_count": 29,
   "metadata": {
    "colab": {},
    "colab_type": "code",
    "id": "rDJbRm9C8a_d",
    "outputId": "7a9624c0-bb0f-41f1-905b-c65a17b36161"
   },
   "outputs": [
    {
     "name": "stdout",
     "output_type": "stream",
     "text": [
      "a\n",
      "g\n",
      "c\n",
      "a\n",
      "c\n",
      "g\n",
      "a\n",
      "c\n",
      "g\n",
      "t\n",
      "a\n",
      "g\n",
      "t\n",
      "g\n",
      "a\n",
      "t\n",
      "c\n",
      "g\n",
      "g\n",
      "c\n",
      "t\n",
      "a\n"
     ]
    }
   ],
   "source": [
    "dna = \"agcacgacgtagtgatcggcta\"\n",
    "\n",
    "# strings can pretend to be lists\n",
    "# each element is a character\n",
    "for base in dna:\n",
    "    print(base)"
   ]
  },
  {
   "cell_type": "markdown",
   "metadata": {
    "colab_type": "text",
    "id": "RT7Uk-VI8a_g"
   },
   "source": [
    "It's easy to do this by accident so if you see individual characters, check you're looping over the right value. \n",
    "\n",
    "### Loops and files\n",
    "\n",
    "We can treat a file object as if it were a list, each line is a list element:"
   ]
  },
  {
   "cell_type": "code",
   "execution_count": 30,
   "metadata": {
    "colab": {
     "base_uri": "https://localhost:8080/",
     "height": 71
    },
    "colab_type": "code",
    "executionInfo": {
     "elapsed": 639,
     "status": "ok",
     "timestamp": 1599042934032,
     "user": {
      "displayName": "Timothy Booth",
      "photoUrl": "https://lh3.googleusercontent.com/a-/AOh14Gh24VHUYMFBG3YmueeOVT5__lb3QHnjZ2H86Aft=s64",
      "userId": "02076426724042679010"
     },
     "user_tz": -60
    },
    "id": "NLcoFVym8a_g",
    "outputId": "59fa27c7-d245-4b3c-b028-1f81270f1a14"
   },
   "outputs": [
    {
     "name": "stdout",
     "output_type": "stream",
     "text": [
      "5\n",
      "6\n",
      "6\n"
     ]
    }
   ],
   "source": [
    "my_file = open(\"test.txt\")\n",
    "\n",
    "# files can pretend to be lists\n",
    "# each element is a line\n",
    "for line in my_file:\n",
    "    # remember the lines still end in \"\\n\"\n",
    "    line_length = len(line.rstrip(\"\\n\"))\n",
    "    print(line_length)"
   ]
  },
  {
   "cell_type": "markdown",
   "metadata": {
    "colab_type": "text",
    "id": "It5CixU98a_j"
   },
   "source": [
    "Remember that files are **exhaustible**, so we can't both read the contents of a file and then loop over it:"
   ]
  },
  {
   "cell_type": "code",
   "execution_count": 31,
   "metadata": {
    "colab": {},
    "colab_type": "code",
    "id": "9amKTH4H8a_j"
   },
   "outputs": [],
   "source": [
    "my_file = open(\"test.txt\")\n",
    "my_file_contents = my_file.read()\n",
    "# now my_file is exhausted\n",
    "\n",
    "# this loop never runs because we are already at the end of the file\n",
    "for line in my_file:\n",
    "    line_length = len(line.rstrip(\"\\n\"))\n",
    "    print(line_length)\n",
    "    \n",
    "#can also do:\n",
    "#my_file_contents = my_file.read()\n",
    "#for line in my_file_contents.split()"
   ]
  },
  {
   "cell_type": "markdown",
   "metadata": {
    "colab_type": "text",
    "id": "BYcje8378a_m"
   },
   "source": [
    "and we can't loop over a file twice:"
   ]
  },
  {
   "cell_type": "code",
   "execution_count": 32,
   "metadata": {
    "colab": {},
    "colab_type": "code",
    "id": "mT1d90HB8a_m",
    "outputId": "769c0fd0-f1dc-4963-9274-6b6ef7f87730"
   },
   "outputs": [
    {
     "name": "stdout",
     "output_type": "stream",
     "text": [
      "apple\n",
      "\n",
      "banana\n",
      "\n",
      "orange\n",
      "\n"
     ]
    }
   ],
   "source": [
    "my_file = open(\"test.txt\")\n",
    "\n",
    "for line in my_file:\n",
    "    print(line)\n",
    "\n",
    "# this loop never runs because we are already at the end of the file\n",
    "for line in my_file:\n",
    "    line_length = len(line.rstrip(\"\\n\"))\n",
    "    print(line_length)\n",
    "    ## loop doesnt run, needs to re-open file\n",
    "    \n"
   ]
  },
  {
   "cell_type": "markdown",
   "metadata": {
    "colab_type": "text",
    "id": "XJfaxzezEC_U"
   },
   "source": [
    "### The enumerate function\n",
    "\n",
    "Sometimes, when looping through a list, you really need both the item *and* the index in the list. From what we already know, there's an obvious way to do this:"
   ]
  },
  {
   "cell_type": "code",
   "execution_count": 33,
   "metadata": {
    "colab": {
     "base_uri": "https://localhost:8080/",
     "height": 71
    },
    "colab_type": "code",
    "executionInfo": {
     "elapsed": 1111,
     "status": "ok",
     "timestamp": 1599138532835,
     "user": {
      "displayName": "Timothy Booth",
      "photoUrl": "https://lh3.googleusercontent.com/a-/AOh14Gh24VHUYMFBG3YmueeOVT5__lb3QHnjZ2H86Aft=s64",
      "userId": "02076426724042679010"
     },
     "user_tz": -60
    },
    "id": "C4TZgH3vEqCl",
    "outputId": "52e814b9-e289-4671-aeca-b99051ae4069"
   },
   "outputs": [
    {
     "name": "stdout",
     "output_type": "stream",
     "text": [
      "Sequence 0 is actgtacgact\n",
      "Sequence 1 is catgc\n",
      "Sequence 2 is atcgatatagctag\n"
     ]
    }
   ],
   "source": [
    "seqs = ['actgtacgact', 'catgc', 'atcgatatagctag']\n",
    "for idx in range(len(seqs)):##range is like nrow so is looping over 0,1 and 2 the use index to get other items \n",
    "  seq = seqs[idx]\n",
    "  print(\"Sequence \" + str(idx) + \" is \" + seq)"
   ]
  },
  {
   "cell_type": "markdown",
   "metadata": {
    "colab_type": "text",
    "id": "5Lhfgt4GFscy"
   },
   "source": [
    "There's nothing wrong with this code, but if `seqs` were a file object this wouldn't work (you can't call `len()` on the file object). Python has an alternative, which is more succinct and it works with loops over files. "
   ]
  },
  {
   "cell_type": "code",
   "execution_count": 34,
   "metadata": {
    "colab": {
     "base_uri": "https://localhost:8080/",
     "height": 71
    },
    "colab_type": "code",
    "executionInfo": {
     "elapsed": 1089,
     "status": "ok",
     "timestamp": 1599138564811,
     "user": {
      "displayName": "Timothy Booth",
      "photoUrl": "https://lh3.googleusercontent.com/a-/AOh14Gh24VHUYMFBG3YmueeOVT5__lb3QHnjZ2H86Aft=s64",
      "userId": "02076426724042679010"
     },
     "user_tz": -60
    },
    "id": "4MbutIyeFXe0",
    "outputId": "aa9116dd-b87c-4179-ad9c-57dc6bcc8cd1"
   },
   "outputs": [
    {
     "name": "stdout",
     "output_type": "stream",
     "text": [
      "Sequence 0 is actgtacgact\n",
      "Sequence 1 is catgc\n",
      "Sequence 2 is atcgatatagctag\n"
     ]
    }
   ],
   "source": [
    "seqs = ['actgtacgact', 'catgc', 'atcgatatagctag']\n",
    "for idx, seq in enumerate(seqs):# need to give enumerate two things to work with so idx is the index number here\n",
    "  print(\"Sequence \" + str(idx) + \" is \" + seq)"
   ]
  },
  {
   "cell_type": "markdown",
   "metadata": {
    "colab_type": "text",
    "id": "CFzI9tKIHMnW"
   },
   "source": [
    "Note that you now need two variable names in the `for` line, because the `enumerate()` function returns pairs of results."
   ]
  },
  {
   "cell_type": "markdown",
   "metadata": {
    "colab_type": "text",
    "id": "lYG-bzn78a_p"
   },
   "source": [
    "## Exercises\n",
    "\n",
    "### Processing DNA in a file\n",
    "\n",
    "The file _input.txt_ contains a number of DNA sequences, one per line. Each sequence starts with the same 14 base pair fragment – a sequencing adapter that needs to be removed. \n",
    "\n",
    "Write a program that will (a) trim this adapter and write the cleaned sequences to a new file and (b) print the length of each sequence to the screen.\n",
    "\n",
    "__Side note: if you open this file in Windows Notepad, it will look like it's all one long line. That's because Notepad is a very old program that can't properly read files created on other operating systems, e.g. Linux which I used to prepare the exercise files. Any other text editor, or Jupyter, or Python itself will be able to read the file correctly.__"
   ]
  },
  {
   "cell_type": "code",
   "execution_count": 56,
   "metadata": {},
   "outputs": [],
   "source": [
    "dna_seq = open(\"input.txt\") #dont open input file with a w!!\n",
    "output=open('output.txt','w')\n",
    "\n",
    "for i in dna_seq:\n",
    "    i=i.rstrip('\\n')\n",
    "    print(i[14:], file=output)#can specify where to print using file=\n",
    "    print(\"The length is:\"+ str(len(i)), file=output)\n",
    "    \n",
    "    \n",
    "dna_seq.close()\n",
    "output.close()"
   ]
  },
  {
   "cell_type": "markdown",
   "metadata": {
    "colab_type": "text",
    "id": "lYG-bzn78a_p"
   },
   "source": [
    "### Multiple exons from genomic DNA\n",
    "\n",
    "The file *genomic_dna2.txt* contains a section of genomic DNA, and the file _exons.txt_ contains a list of start/stop positions of exons. Each exon is on a separate line and the start and stop positions are separated by a comma. The start and stop positions follow Python conventions: i.e. they start counting from zero and are inclusive at the start and exclusive at the end. \n",
    "\n",
    "Hint: open these two files up in a text editor before you start coding so you can make sure you understand their format.\n",
    "\n",
    "Write a program that will process the exons.txt file and print the length of each exon. You'll need to:\n",
    "\n",
    " - open the file\n",
    " - process it one line at a time using a loop\n",
    " - split the line when you see a comma\n",
    " - take the first and second parts and assign them to variables\n",
    " - make sure they are converted to numbers\n",
    " - subtract the start position from the stop position to give the length\n",
    " \n",
    "Next, write a program that will use the start/stop positions to extract the exon segments, concatenate them, and write them to a new file. You'll need to open the genomic DNA file and extract one exon each time round the loop.\n",
    "\n",
    "Hint: for each file, think about how you want to get the data - do you want to read the whole contents in one go, or do you want to process one line at a time?"
   ]
  },
  {
   "cell_type": "code",
   "execution_count": 98,
   "metadata": {},
   "outputs": [
    {
     "name": "stdout",
     "output_type": "stream",
     "text": [
      "Exon is 53bp long\n",
      "Exon is 61bp long\n",
      "Exon is 86bp long\n",
      "Exon is 58bp long\n"
     ]
    }
   ],
   "source": [
    "genome_dna_file=open(\"genomic_dna2.txt\")\n",
    "exons_file=open(\"exons.txt\")\n",
    "outfile=open(\"outfile_03.txt\",'w')\n",
    "\n",
    "for line in exons_file:\n",
    "    line = line.rstrip('\\n').split(\",\")\n",
    "    start=int(line[0])\n",
    "    end=int(line[1])\n",
    "    length=end-start\n",
    "    print(\"Exon is \" + str(length)+\"bp long\")\n",
    "    #outfile.write(genome_dna_file[start:end])\n",
    "\n"
   ]
  },
  {
   "cell_type": "code",
   "execution_count": 93,
   "metadata": {},
   "outputs": [
    {
     "ename": "TypeError",
     "evalue": "'_io.TextIOWrapper' object is not subscriptable",
     "output_type": "error",
     "traceback": [
      "\u001b[1;31m---------------------------------------------------------------------------\u001b[0m",
      "\u001b[1;31mTypeError\u001b[0m                                 Traceback (most recent call last)",
      "\u001b[1;32m<ipython-input-93-26230ca1658b>\u001b[0m in \u001b[0;36m<module>\u001b[1;34m\u001b[0m\n\u001b[1;32m----> 1\u001b[1;33m \u001b[0mall_exons\u001b[0m\u001b[1;33m=\u001b[0m\u001b[0mall_exons\u001b[0m\u001b[1;33m+\u001b[0m\u001b[0mgenome_dna_file\u001b[0m\u001b[1;33m[\u001b[0m\u001b[0mstart\u001b[0m\u001b[1;33m:\u001b[0m\u001b[0mend\u001b[0m\u001b[1;33m]\u001b[0m\u001b[1;33m\u001b[0m\u001b[1;33m\u001b[0m\u001b[0m\n\u001b[0m",
      "\u001b[1;31mTypeError\u001b[0m: '_io.TextIOWrapper' object is not subscriptable"
     ]
    }
   ],
   "source": [
    "\n",
    "all_exons=all_exons+genome_dna_file[start:end]"
   ]
  },
  {
   "cell_type": "markdown",
   "metadata": {
    "colab_type": "text",
    "id": "lYG-bzn78a_p"
   },
   "source": [
    "### Bonus exercise: sliding windows\n",
    "\n",
    "Write a program that will print a list of overlapping short segments from a long string (i.e. a sliding window approach). \n",
    "\n",
    "E.g. with input `abcdefg` and window size 4:\n",
    "\n",
    "`abcd, bcde, cdef, defg`\n",
    "\n",
    "Modify your program to print the AT content of each sliding window rather than the sequence. You can expand your list of segments to include the partial ones at the end."
   ]
  },
  {
   "cell_type": "code",
   "execution_count": null,
   "metadata": {},
   "outputs": [],
   "source": [
    "# break stops the loop\n",
    "#for idx, letter in enumerate(seq_test[:-3])\n",
    "# if need to stop 3 before the end .... give letters up to but not including the 3rd letter from the end"
   ]
  },
  {
   "cell_type": "markdown",
   "metadata": {
    "colab_type": "text",
    "collapsed": true,
    "id": "KTGcvRwu8a_q"
   },
   "source": [
    "## Bonus exercise: alignment columns\n",
    "\n",
    "Given a list of aligned DNA sequences:\n",
    "\n",
    "```\n",
    "['atgctcgatcgctag',\n",
    " 'aag-tcgctcgct--',\n",
    " 'atcctc--tcgcggg']\n",
    "```\n",
    "write a program that will print out each column of the alignment one at a time:\n",
    "\n",
    "```\n",
    "column 1: aaa\n",
    "column 2: tat\n",
    "column 3: ggc\n",
    "column 4: c-c\n",
    "...\n",
    "```\n",
    " \n",
    "   \n",
    "   \n",
    "## Bonus exercise: restriction fragments\n",
    "\n",
    "Modify your program from yesterday to calculate the lengths of restriction fragments when the DNA sequence has multiple restriction sites. Make a small test DNA sequence for working on, then try on the sequence in the file *ce1.txt* which contains the sequence for chromosome one of *C. elegans*. Hint: there's an optional second argument to `find()` which tells Python where in the string to start looking. \n",
    "\n",
    "__Side note: to solve this exercise in a satisfying way, you need some way of telling Python when to stop looking for additional restriction sites. We will cover the tools required to do this in the next session: for now, just print the first x positions (where x can be a large number) and don't worry if the final ones get printed multiple times.__\n",
    "\n",
    "\n"
   ]
  }
 ],
 "metadata": {
  "anaconda-cloud": {},
  "colab": {
   "name": "03 Lists and loops.ipynb",
   "provenance": []
  },
  "kernelspec": {
   "display_name": "Python 3",
   "language": "python",
   "name": "python3"
  },
  "language_info": {
   "codemirror_mode": {
    "name": "ipython",
    "version": 3
   },
   "file_extension": ".py",
   "mimetype": "text/x-python",
   "name": "python",
   "nbconvert_exporter": "python",
   "pygments_lexer": "ipython3",
   "version": "3.8.5"
  }
 },
 "nbformat": 4,
 "nbformat_minor": 1
}
