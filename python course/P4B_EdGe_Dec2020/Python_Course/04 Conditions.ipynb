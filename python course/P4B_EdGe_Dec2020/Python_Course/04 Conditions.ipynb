{
 "cells": [
  {
   "cell_type": "markdown",
   "metadata": {
    "colab_type": "text",
    "id": "G6nOezWy0uY8"
   },
   "source": [
    "<h1 id=\"toctitle\">Conditions</h1>\n",
    "<ul id=\"toc\"/>"
   ]
  },
  {
   "cell_type": "markdown",
   "metadata": {
    "colab_type": "text",
    "collapsed": true,
    "id": "R9_cYozq0uY9"
   },
   "source": [
    "## True and False\n",
    "\n",
    "__Conditions__ are things that can be evaluated as either `True` or `False`:"
   ]
  },
  {
   "cell_type": "code",
   "execution_count": 1,
   "metadata": {
    "colab": {},
    "colab_type": "code",
    "id": "O375HJ6U0uY-",
    "outputId": "2ef73106-2c7a-4708-d422-7f68859a1131"
   },
   "outputs": [
    {
     "name": "stdout",
     "output_type": "stream",
     "text": [
      "False\n",
      "False\n",
      "True\n",
      "True\n",
      "False\n",
      "True\n",
      "True\n",
      "False\n",
      "True\n",
      "False\n",
      "True\n"
     ]
    }
   ],
   "source": [
    "print(3 == 5)# prints the result from the test\n",
    "print(3 > 5)\n",
    "print(3 <= 5)\n",
    "print(5 != 4)\n",
    "\n",
    "print(len(\"ATGC\") > 5)\n",
    "print(\"GAATTC\".count(\"T\") > 1)#counts the number of Ts in the seq is that greater than 1 = yes\n",
    "\n",
    "print(\"ATGCTT\".startswith(\"ATG\"))\n",
    "print(\"ATGCTT\".endswith(\"TTT\"))\n",
    "print(\"ATGCTT\".isupper())\n",
    "print(\"ATGCTT\".islower())\n",
    "\n",
    "print(\"V\" in [\"V\", \"W\", \"L\"])"
   ]
  },
  {
   "cell_type": "markdown",
   "metadata": {
    "colab_type": "text",
    "id": "Dm2-6PEn0uZE"
   },
   "source": [
    "Above are a bunch of different ways to test true/false conditions in Python:\n",
    "\n",
    "- equals (`==`) -- and not equals (`!=`)\n",
    "- numerical comparisons (`>`, `<`, `>=`, `<=`)\n",
    "- string methods (`startswith`, `isupper`)\n",
    "- is a value in a list (`in` keyword)\n",
    "\n",
    "We can experiment with these directly. Note that `True` and `False` are special values in Python and always have the initial capital:"
   ]
  },
  {
   "cell_type": "code",
   "execution_count": 2,
   "metadata": {
    "colab": {
     "base_uri": "https://localhost:8080/",
     "height": 35
    },
    "colab_type": "code",
    "executionInfo": {
     "elapsed": 969,
     "status": "ok",
     "timestamp": 1599050812823,
     "user": {
      "displayName": "Timothy Booth",
      "photoUrl": "https://lh3.googleusercontent.com/a-/AOh14Gh24VHUYMFBG3YmueeOVT5__lb3QHnjZ2H86Aft=s64",
      "userId": "02076426724042679010"
     },
     "user_tz": -60
    },
    "id": "PX15RDDj0uZE",
    "outputId": "52c5b300-ca66-4c26-a594-f4556e0c73d0"
   },
   "outputs": [
    {
     "data": {
      "text/plain": [
       "True"
      ]
     },
     "execution_count": 2,
     "metadata": {},
     "output_type": "execute_result"
    }
   ],
   "source": [
    "4 != 5"
   ]
  },
  {
   "cell_type": "markdown",
   "metadata": {
    "colab_type": "text",
    "id": "agvODzbA0uZI"
   },
   "source": [
    "## Using conditions\n",
    "\n",
    "### `if` statements\n",
    "\n",
    "The simplest thing we can do with a condition, apart from printing it, is execute some code if it's true:"
   ]
  },
  {
   "cell_type": "code",
   "execution_count": 3,
   "metadata": {
    "colab": {},
    "colab_type": "code",
    "id": "6Xfk_4vR0uZJ",
    "outputId": "3f80096e-2526-4c79-d833-630bddf033c4"
   },
   "outputs": [
    {
     "name": "stdout",
     "output_type": "stream",
     "text": [
      "gene is highly expressed\n"
     ]
    }
   ],
   "source": [
    "expression_level = 125\n",
    "if expression_level > 100:\n",
    "    print(\"gene is highly expressed\")#execute code if its true"
   ]
  },
  {
   "cell_type": "markdown",
   "metadata": {
    "colab_type": "text",
    "id": "sZRduQOO0uZM"
   },
   "source": [
    "Notice that\n",
    "\n",
    "- the condition line starts with `if`\n",
    "- the thing we want to test goes after the `if`\n",
    "- the line ends with a colon\n",
    "- just like with loops, the body is indented\n",
    "- can have multiple lines in the body\n",
    "\n",
    "A more interesting example:"
   ]
  },
  {
   "cell_type": "code",
   "execution_count": 5,
   "metadata": {
    "colab": {},
    "colab_type": "code",
    "id": "y9olQygk0uZN",
    "outputId": "5b373921-481b-46ee-9b0f-7137633f14cb"
   },
   "outputs": [
    {
     "name": "stdout",
     "output_type": "stream",
     "text": [
      "atcgatgctact contains more than one G\n",
      "still in the loop\n",
      "still in the loop\n",
      "tctgatgctagct contains more than one G\n",
      "still in the loop\n",
      "still in the loop\n"
     ]
    }
   ],
   "source": [
    "sequences = ['atcgatgctact', 'ccttacgt', 'tctgatgctagct', 'atctactg']\n",
    "for sequence in sequences:\n",
    "    if sequence.count(\"g\") > 1:\n",
    "        print(sequence + \" contains more than one G\")\n",
    "        \n",
    "    print(\"still in the loop\")#if you want something in the loop but not in the if statement need to watch indents"
   ]
  },
  {
   "cell_type": "markdown",
   "metadata": {
    "colab_type": "text",
    "id": "hi9Nu9bn0uZQ"
   },
   "source": [
    "Code with conditions often involves mulitple levels of indentation. Watch out for `IndentationErrors` and indentation mistakes."
   ]
  },
  {
   "cell_type": "markdown",
   "metadata": {
    "colab_type": "text",
    "id": "bVLq-fkU0uZR"
   },
   "source": [
    "### `else` statements\n",
    "\n",
    "The `if` examples above are yes/no - either we execute the bit of code, or we do nothing. \n",
    "\n",
    "Sometimes we want either/or - two different branches:"
   ]
  },
  {
   "cell_type": "code",
   "execution_count": 6,
   "metadata": {
    "colab": {},
    "colab_type": "code",
    "id": "qsu6JN8D0uZS",
    "outputId": "04f6dd87-3ece-4771-c744-2fe31e92375a",
    "scrolled": true
   },
   "outputs": [
    {
     "name": "stdout",
     "output_type": "stream",
     "text": [
      "atcgatgctact starts with a\n",
      "ccttacgt doesn't start with a\n",
      "tctgatgctagct doesn't start with a\n",
      "atctactg starts with a\n"
     ]
    }
   ],
   "source": [
    "sequences = ['atcgatgctact', 'ccttacgt', 'tctgatgctagct', 'atctactg']\n",
    "for sequence in sequences:\n",
    "    if sequence.startswith('a'):\n",
    "        print(sequence  + \" starts with a\")\n",
    "    else:\n",
    "        print(sequence  + \" doesn't start with a\")"
   ]
  },
  {
   "cell_type": "markdown",
   "metadata": {
    "colab_type": "text",
    "id": "Bj1A_qVR0uZV"
   },
   "source": [
    "Notice that:\n",
    "- The `else` is followed by a colon\n",
    "- This line has nothing more on it\n",
    "- The `else` block is indented and is run when the condition is false\n",
    "\n",
    "---"
   ]
  },
  {
   "cell_type": "markdown",
   "metadata": {
    "colab_type": "text",
    "id": "GUrYWe000uZW"
   },
   "source": [
    "### `elif` statements\n",
    "\n",
    "Sometimes we need more than two branches. Use `elif` for each extra branch:"
   ]
  },
  {
   "cell_type": "code",
   "execution_count": 8,
   "metadata": {
    "colab": {},
    "colab_type": "code",
    "id": "VNsqbdlL0uZW",
    "outputId": "15e938f1-5dca-4ea1-fef7-08e4fe74a8d7"
   },
   "outputs": [
    {
     "name": "stdout",
     "output_type": "stream",
     "text": [
      "atcgatgctact starts with a\n",
      "ccttacgt starts with something else\n",
      "tctgatgctagct starts with t\n",
      "atctactg starts with a\n",
      "gctagctga starts with something else\n",
      "tctagtacg starts with t\n"
     ]
    }
   ],
   "source": [
    "sequences = ['atcgatgctact', 'ccttacgt', 'tctgatgctagct', 'atctactg', 'gctagctga', 'tctagtacg']\n",
    "for sequence in sequences:\n",
    "    if sequence.startswith('a'):\n",
    "        print(sequence  + \" starts with a\")\n",
    "    elif sequence.startswith('t'):\n",
    "        print(sequence  + \" starts with t\")\n",
    "    else:#else need colon\n",
    "        print(sequence  + \" starts with something else\")"
   ]
  },
  {
   "cell_type": "markdown",
   "metadata": {
    "colab_type": "text",
    "id": "mIybGrg_0uZa"
   },
   "source": [
    "This is equivalent to putting a second `if`/`else` into the `else` block, but much easier to read, and we can add as many conditions as we like without introducing a huge multi-level indent:"
   ]
  },
  {
   "cell_type": "code",
   "execution_count": 9,
   "metadata": {
    "colab": {
     "base_uri": "https://localhost:8080/",
     "height": 143
    },
    "colab_type": "code",
    "executionInfo": {
     "elapsed": 1062,
     "status": "ok",
     "timestamp": 1599051099050,
     "user": {
      "displayName": "Timothy Booth",
      "photoUrl": "https://lh3.googleusercontent.com/a-/AOh14Gh24VHUYMFBG3YmueeOVT5__lb3QHnjZ2H86Aft=s64",
      "userId": "02076426724042679010"
     },
     "user_tz": -60
    },
    "id": "A0uiqtp70uZb",
    "outputId": "831a3bda-55fd-4742-c314-26d9dca41bfe"
   },
   "outputs": [
    {
     "name": "stdout",
     "output_type": "stream",
     "text": [
      "a!\n",
      "c!\n",
      "t!\n",
      "a!\n",
      "g!\n",
      "t!\n",
      "something else!\n"
     ]
    }
   ],
   "source": [
    "sequences = ['atcgatgctact', 'ccttacgt', 'tctgatgctagct', 'atctactg', 'gctagctga', 'tctagtacg', 'ntggattg']\n",
    "\n",
    "for sequence in sequences:\n",
    "    if sequence.startswith('a'):\n",
    "        print('a!')\n",
    "    elif sequence.startswith('t'):\n",
    "        print('t!')\n",
    "    elif sequence.startswith('g'):\n",
    "        print('g!')\n",
    "    elif sequence.startswith('c'):\n",
    "        print('c!')\n",
    "    else:\n",
    "        print('something else!')"
   ]
  },
  {
   "cell_type": "markdown",
   "metadata": {
    "colab_type": "text",
    "id": "YbeN6vEo0uZf"
   },
   "source": [
    "`else` and `elif` are good when we have _mutually exclusive_ posibilities. If more than one can be `True`, then use multiple `if` lines:"
   ]
  },
  {
   "cell_type": "code",
   "execution_count": 10,
   "metadata": {
    "colab": {},
    "colab_type": "code",
    "id": "9CyJB2Bq0uZg",
    "outputId": "681b3ed3-c3cd-49e5-8a8a-17e401da5115"
   },
   "outputs": [
    {
     "name": "stdout",
     "output_type": "stream",
     "text": [
      "atcgatgctact starts with a\n",
      "atcgatgctact ends with t\n",
      "ccttacgt ends with t\n",
      "tctgatgctagct ends with t\n",
      "atctactg starts with a\n"
     ]
    }
   ],
   "source": [
    "sequences = ['atcgatgctact', 'ccttacgt', 'tctgatgctagct', 'atctactg', 'gctagctga', 'tctagtacg', 'ntggattg']\n",
    "for sequence in sequences:\n",
    "    if sequence.startswith('a'):\n",
    "        print(sequence  + \" starts with a\")\n",
    "    if sequence.endswith('t'):\n",
    "        print(sequence  + \" ends with t\")"
   ]
  },
  {
   "cell_type": "markdown",
   "metadata": {
    "colab_type": "text",
    "id": "uqnQVhUV0uZj"
   },
   "source": [
    "## Combining conditions\n",
    "### `and`\n",
    "\n",
    "We can join together two conditions with `and` to make a combined one that's only true if both of the simple ones are true:"
   ]
  },
  {
   "cell_type": "code",
   "execution_count": 11,
   "metadata": {
    "colab": {},
    "colab_type": "code",
    "id": "Frl5fKdH0uZj",
    "outputId": "8c493dcb-e053-4d66-8113-4d75526b87d9"
   },
   "outputs": [
    {
     "name": "stdout",
     "output_type": "stream",
     "text": [
      "both conditions are true for tctgatgctagct\n"
     ]
    }
   ],
   "source": [
    "sequences = ['atcgatgctact', 'ccttacgt', 'tctgatgctagct', 'atctactg', 'gctagctga', 'tctagtacg', 'ntggattg']\n",
    "for sequence in sequences:\n",
    "    if sequence.startswith('t') and sequence.count('g') > 2:\n",
    "        print(\"both conditions are true for \" + sequence)"
   ]
  },
  {
   "cell_type": "markdown",
   "metadata": {
    "colab_type": "text",
    "id": "iFsOQAyT0uZn"
   },
   "source": [
    "### `or`\n",
    "\n",
    "We can do the same with `or` and it will be true if either of the simple conditions are true:"
   ]
  },
  {
   "cell_type": "code",
   "execution_count": 12,
   "metadata": {
    "colab": {},
    "colab_type": "code",
    "id": "AokLF7aa0uZn",
    "outputId": "c0a1cf8c-010d-47af-c048-9cc25c3f2e52"
   },
   "outputs": [
    {
     "name": "stdout",
     "output_type": "stream",
     "text": [
      "at least one condition is true for tctgatgctagct\n",
      "at least one condition is true for gctagctga\n",
      "at least one condition is true for tctagtacg\n",
      "at least one condition is true for ntggattg\n"
     ]
    }
   ],
   "source": [
    "sequences = ['atcgatgctact', 'ccttacgt', 'tctgatgctagct', 'atctactg', 'gctagctga', 'tctagtacg', 'ntggattg']\n",
    "for sequence in sequences:\n",
    "    if sequence.startswith('t') or sequence.count('g') > 2:\n",
    "        print(\"at least one condition is true for \" + sequence)"
   ]
  },
  {
   "cell_type": "markdown",
   "metadata": {
    "colab_type": "text",
    "id": "nGxPO6F50uZq"
   },
   "source": [
    "We can even join together complex conditions in this way. Use parentheses `()` to disambiguate the order in which combinations are evaluated:"
   ]
  },
  {
   "cell_type": "code",
   "execution_count": 13,
   "metadata": {
    "colab": {},
    "colab_type": "code",
    "id": "siGa6L2r0uZr",
    "outputId": "4a42515c-39d1-4e31-a7be-a1c510b598d4"
   },
   "outputs": [
    {
     "name": "stdout",
     "output_type": "stream",
     "text": [
      "the condition is true for tctgatgctagct\n",
      "the condition is true for ntggattg\n"
     ]
    }
   ],
   "source": [
    "sequences = ['atcgatgctact', 'ccttacgt', 'tctgatgctagct', 'atctactg', 'gctagctga', 'tctagtacg', 'ntggattg']\n",
    "for sequence in sequences:\n",
    "    if (sequence.startswith('t') or sequence.startswith('n')) and sequence.count('g') > 2:\n",
    "        print(\"the condition is true for \" + sequence)"
   ]
  },
  {
   "cell_type": "markdown",
   "metadata": {
    "colab_type": "text",
    "id": "2u8KqdYI0uZu"
   },
   "source": [
    "## Exercises\n",
    "\n",
    "### Processing tabular data\n",
    "\n",
    "Open the text file called _data.csv_, which contains some made-up data for a number of genes. Each line contains the following fields for a single gene in this order: species name, sequence, gene name, expression level. The fields are separated by commas (hence the name of the file – __csv__ stands for __Comma Separated Values__):\n",
    "\n",
    "```\n",
    "Drosophila yakuba,cgcgcgc...gatgc,hdt739,85\n",
    "```\n",
    "\n",
    "Think of it as a representation of a table in a spreadsheet – each line is a row, and each field in a line is a column. \n",
    "\n",
    "Print out the gene names for all genes belonging to Drosophila melanogaster or Drosophila simulans.\n",
    "\n",
    "Print out the gene names for all genes between 90 and 110 bases long.\n",
    "\n",
    "Print out the gene names for all genes whose AT content is less than 0.5 and whose expression level is greater than 200.\n",
    "\n",
    "Print out the gene names for all genes whose name begins with \"k\" or \"h\" except those belonging to Drosophila melanogaster.\n",
    "\n",
    "For each gene, print out a message giving the gene name and saying whether its AT content is high (greater than 0.65), low (less than 0.45) or medium (between 0.45 and 0.65).\n",
    "\n",
    "__Important note: for this exercise, it's quite easy to write a program that works, but which gives incorrect output, so check each answer carefully.__"
   ]
  },
  {
   "cell_type": "code",
   "execution_count": 3,
   "metadata": {},
   "outputs": [
    {
     "name": "stdout",
     "output_type": "stream",
     "text": [
      "Gene names belonging to D.melanogaster and D. simulans: kdy647\n",
      "Gene names belonging to D.melanogaster and D. simulans: jdg766\n",
      "Gene names belonging to D.melanogaster and D. simulans: kdy533\n",
      "Gene names for genes between 90 and 110 bp long: kdy647\n",
      "Gene names for genes between 90 and 110 bp long: teg436\n"
     ]
    }
   ],
   "source": [
    "dros = list(open(\"data.csv\")) #takes file and turns file into a list \n",
    "#...but if have a large dataset then other way will take each line as ypu need it (less computing power)\n",
    "\n",
    "for line in dros:\n",
    "    line=line.rstrip('\\n').split(',')\n",
    "    if line[0]=='Drosophila melanogaster' or line[0]=='Drosophila simulans':\n",
    "        print(\"Gene names belonging to D.melanogaster and D. simulans: \" + str(line[2]))\n",
    "        \n",
    "#dros.seek(0) = resets the list back to the beginning if we have a stop in the loop\n",
    "#dros.close()\n",
    "\n",
    "for line in dros:\n",
    "    line=line.rstrip('\\n').split(',')\n",
    "    if len(line[1])>90 and len(line[1])<110:\n",
    "           print(\"Gene names for genes between 90 and 110 bp long: \" + str(line[2]))\n",
    "            \n",
    "            \n"
   ]
  },
  {
   "cell_type": "code",
   "execution_count": 53,
   "metadata": {},
   "outputs": [
    {
     "name": "stdout",
     "output_type": "stream",
     "text": [
      "kdy647\n",
      "jdg766\n",
      "kdy533\n"
     ]
    }
   ],
   "source": [
    "#### how tutor did it ####\n",
    "\n",
    "data = open(\"data.csv\")\n",
    "organism=[] #create list to populate\n",
    "\n",
    "for line in data:\n",
    "    columns = line.rstrip('\\n').split(',')\n",
    "    spp_name = columns[0]\n",
    "    seq = columns[1]\n",
    "    gene_name = columns[2]\n",
    "    expression = columns[3]\n",
    "    \n",
    "    if spp_name == 'Drosophila melanogaster' or spp_name == 'Drosophila simulans':\n",
    "        organism.append(\"organism\" + gene_name) ##adding the answer to the list made"
   ]
  },
  {
   "cell_type": "code",
   "execution_count": 54,
   "metadata": {},
   "outputs": [
    {
     "name": "stdout",
     "output_type": "stream",
     "text": [
      "Gene names for genes with AT cont < 0.5 and expression lvl > 200: teg436\n"
     ]
    }
   ],
   "source": [
    "for line in dros:\n",
    "    line=line.rstrip('\\n').split(',')\n",
    "    ATcont=(line[1].count(\"a\")+line[1].count(\"t\"))/len(line[1])\n",
    "    #AT_con=int(ATcont) dont need this .. why? ... rounds down to 0 so all would be 0\n",
    "    if ATcont < 0.5 and int(line[3]) > 200:\n",
    "        print(\"Gene names for genes with AT cont < 0.5 and expression lvl > 200: \" + str(line[2]))\n",
    "    "
   ]
  },
  {
   "cell_type": "code",
   "execution_count": 40,
   "metadata": {},
   "outputs": [
    {
     "name": "stdout",
     "output_type": "stream",
     "text": [
      "0.45918367346938777\n"
     ]
    },
    {
     "data": {
      "text/plain": [
       "0.45918367346938777"
      ]
     },
     "execution_count": 40,
     "metadata": {},
     "output_type": "execute_result"
    }
   ],
   "source": [
    "#print(ATcont)\n",
    "#(line[1].count(\"a\")+line[1].count(\"t\"))/len(line[1])\n",
    "\n",
    "    #Acont=(line[1]).count(\"a\")\n",
    "    #Tcont=(line[1]).count(\"t\")\n",
    "    #fulllen=len(line[1])\n",
    "    #didnt work but try again if time"
   ]
  },
  {
   "cell_type": "code",
   "execution_count": 26,
   "metadata": {},
   "outputs": [
    {
     "name": "stdout",
     "output_type": "stream",
     "text": [
      "Gene names beginning w/ k or h not incl D. melanogaster: kdy533 in Drosophila simulans\n",
      "Gene names beginning w/ k or h not incl D. melanogaster: hdt739 in Drosophila yakuba\n",
      "Gene names beginning w/ k or h not incl D. melanogaster: hdu045 in Drosophila ananassae\n"
     ]
    }
   ],
   "source": [
    "#Print out the gene names for all genes whose name begins with \"k\" or \"h\" except those belonging to Drosophila melanogaster.\n",
    "\n",
    "for line in dros:\n",
    "    line=line.rstrip('\\n').split(',')\n",
    "    if line[0] != 'Drosophila melanogaster'and line[2].startswith(\"k\") or line[2].startswith(\"h\"):\n",
    "        print(\"Gene names beginning w/ k or h not incl D. melanogaster: \" + str(line[2]) + \" in \" + str(line[0]))\n",
    "        \n"
   ]
  },
  {
   "cell_type": "code",
   "execution_count": 50,
   "metadata": {},
   "outputs": [
    {
     "name": "stdout",
     "output_type": "stream",
     "text": [
      "For gene kdy647 the AT cont is high(>0.65)\n",
      "For gene jdg766 the AT cont is medium(0.45 - 0.65)\n",
      "For gene kdy533 the AT cont is medium(0.45 - 0.65)\n",
      "For gene hdt739 the AT cont is low(<0.45)\n",
      "For gene hdu045 the AT cont is medium(0.45 - 0.65)\n",
      "For gene teg436 the AT cont is medium(0.45 - 0.65)\n",
      "For gene kdy647 the AT cont is high(>0.65)\n",
      "For gene jdg766 the AT cont is medium(0.45 - 0.65)\n",
      "For gene kdy533 the AT cont is medium(0.45 - 0.65)\n",
      "For gene hdt739 the AT cont is low(<0.45)\n",
      "For gene hdu045 the AT cont is medium(0.45 - 0.65)\n",
      "For gene teg436 the AT cont is medium(0.45 - 0.65)\n"
     ]
    }
   ],
   "source": [
    "#For each gene, print out a message giving the gene name and saying whether its AT content is \n",
    "#high (greater than 0.65), low (less than 0.45) or medium (between 0.45 and 0.65).\n",
    "\n",
    "for line in dros:\n",
    "    line=line.rstrip('\\n').split(',')\n",
    "    ATcont=(line[1].count(\"a\")+line[1].count(\"t\"))/len(line[1])\n",
    "    #AT_con=int(ATcont)\n",
    "    if ATcont > 0.65:\n",
    "        print(\"For gene \"+ str(line[2]) + \" the AT cont is high(>0.65)\")\n",
    "    elif ATcont < 0.45:\n",
    "        print(\"For gene \"+ str(line[2]) + \" the AT cont is low(<0.45)\")\n",
    "    elif ATcont >= 0.45 and AT_con <= 0.65:\n",
    "        print(\"For gene \"+ str(line[2]) + \" the AT cont is medium(0.45 - 0.65)\")\n",
    "    else:\n",
    "        print(\"error\")\n",
    "\n",
    "##### or more efficient code : \n",
    "\n",
    "dros = list(open(\"data.csv\")) #takes file and turns file into a list \n",
    "        \n",
    "for line in dros:\n",
    "    line=line.rstrip('\\n').split(',')\n",
    "    ATcont=(line[1].count(\"a\")+line[1].count(\"t\"))/len(line[1])\n",
    "    if ATcont > 0.65:\n",
    "        print(\"For gene \"+ str(line[2]) + \" the AT cont is high(>0.65)\")\n",
    "    elif ATcont < 0.45:\n",
    "        print(\"For gene \"+ str(line[2]) + \" the AT cont is low(<0.45)\")\n",
    "    else:\n",
    "        print(\"For gene \"+ str(line[2]) + \" the AT cont is medium(0.45 - 0.65)\")\n",
    "    \n",
    "        \n",
    "    \n",
    "    "
   ]
  },
  {
   "cell_type": "code",
   "execution_count": 43,
   "metadata": {},
   "outputs": [
    {
     "name": "stdout",
     "output_type": "stream",
     "text": [
      "0.45918367346938777\n"
     ]
    }
   ],
   "source": [
    "print(ATcont)"
   ]
  },
  {
   "cell_type": "markdown",
   "metadata": {
    "colab_type": "text",
    "id": "rFRqoHMv0uZu"
   },
   "source": [
    "### Bonus exercise: pairwise distance\n",
    "\n",
    "*Warning: This takes a bit of thought. Plan your whole strategy before writing any code!*\n",
    "\n",
    "Here is a list of DNA sequences:\n",
    "\n",
    "`['ATTGTACGGA', 'AATGAACCGA', 'AATGAACCCA', 'AATGGGAATA']`\n",
    "\n",
    "Write a program that calculates and prints, for each pair of sequences, the percentage of identical positions. \n",
    "\n",
    "Hint: \n",
    "\n",
    "```\n",
    "if base1 == base2:\n",
    "    # do something\n",
    "```"
   ]
  },
  {
   "cell_type": "code",
   "execution_count": 58,
   "metadata": {},
   "outputs": [
    {
     "name": "stdout",
     "output_type": "stream",
     "text": [
      "yes\n"
     ]
    }
   ],
   "source": [
    "DNA_seqs = ['ATTGTACGGA', 'AATGAACCGA', 'AATGAACCCA', 'AATGGGAATA']\n",
    "\n",
    "\n",
    "if (DNA_seqs[1][:1]) == (DNA_seqs[2][:1]):\n",
    "    print(\"yes\")"
   ]
  },
  {
   "cell_type": "markdown",
   "metadata": {
    "colab_type": "text",
    "id": "v8ZjGG8f0uZv"
   },
   "source": [
    "### Bonus exercise: kmer counting\n",
    "\n",
    "*Warning: difficult!*\n",
    "\n",
    "Write a program that, given a DNA sequence, will print all the k-mers (e.g. 4-mers) that occur more than n times. \n",
    "\n",
    "E.g. with dna=\"ATGCATCATG\", k=2 and n=2 print:\n",
    "\n",
    "AT \n"
   ]
  },
  {
   "cell_type": "code",
   "execution_count": null,
   "metadata": {
    "colab": {},
    "colab_type": "code",
    "id": "XD-Ff0sU_EnA"
   },
   "outputs": [],
   "source": [
    "#set can have a collection of things but cannot hold more than one of the same thing\n",
    "#if kmer not in - not in opposite of in\n",
    "\n",
    "dna = \"ATGCATCATG\"\n",
    "k = 2\n",
    "n = 2\n",
    "\n",
    "# An empty list\n",
    "all_kmers = []\n",
    "\n",
    "# First get the k-mers...\n",
    "# Need to stop at k-1 because if k==2 we need to stop reading 1 base \n",
    "# (ie. k - 1) from the end\n",
    "for idx in range(len(dna) - (k-1)):\n",
    "\n",
    "    # Put them into a list\n",
    "    kmer = dna[idx:idx+k]\n",
    "    if kmer not in all_kmers:\n",
    "        all_kmers.append(kmer)\n",
    "\n",
    "print(all_kmers)\n",
    "\n",
    "# Now for all the kmers, print them if they occur >n times\n",
    "for kmer in all_kmers:\n",
    "    count_of_kmer = dna.count(kmer)\n",
    "    if dna.count(kmer) > n:\n",
    "        print(\"I saw \" + str(count_of_kmer) + \" of the kmer \" + kmer)\n",
    "_\n"
   ]
  }
 ],
 "metadata": {
  "anaconda-cloud": {},
  "colab": {
   "name": "04 Conditions.ipynb",
   "provenance": []
  },
  "kernelspec": {
   "display_name": "Python 3",
   "language": "python",
   "name": "python3"
  },
  "language_info": {
   "codemirror_mode": {
    "name": "ipython",
    "version": 3
   },
   "file_extension": ".py",
   "mimetype": "text/x-python",
   "name": "python",
   "nbconvert_exporter": "python",
   "pygments_lexer": "ipython3",
   "version": "3.8.5"
  }
 },
 "nbformat": 4,
 "nbformat_minor": 1
}
