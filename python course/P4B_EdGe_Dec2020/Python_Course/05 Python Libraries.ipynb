{
 "cells": [
  {
   "cell_type": "markdown",
   "metadata": {
    "colab_type": "text",
    "id": "aAa71odg8a-H"
   },
   "source": [
    "<h1 id=\"toctitle\">Python Libraries</h1>\n",
    "<ul id=\"toc\"/>"
   ]
  },
  {
   "cell_type": "markdown",
   "metadata": {
    "colab_type": "text",
    "id": "TK_9huYS8a-L"
   },
   "source": [
    "Up until now we've been using the core language features of Python - string manipulation, file reading, arithmetic, lists, loops, conditions, ...\n",
    "\n",
    "These are essential for all Python code, but what if you want to:\n",
    "  - perform statistical calculations\n",
    "  - write a web application\n",
    "  - make a GUI application\n",
    "  - list and manipulate the filesystem\n",
    "  - read complex structured data files\n",
    "  - connect to databases\n",
    "  - produce data plots and visualisations\n",
    "  - *etc., etc.*\n",
    "\n",
    "The Python world looks a bit like this...\n",
    "\n",
    "```\n",
    " _______________________________________________________________________\n",
    "/   ______________________________________________                      \\\n",
    "|  /   ________________________________           \\                     |\n",
    "|  |  /                                \\          |                     |\n",
    "|  |  |  Core \"Built-In\" functions and |          |                     |\n",
    "|  |  |  types, eg:                    |          |                     |\n",
    "|  |  |    print() len() str() int()   |          |                     |\n",
    "|  |  |    list() enumerate()          |          |                     |\n",
    "|  |  \\________________________________/          |                     |\n",
    "|  |                                              |                     |\n",
    "|  |  The Python Standard Library, eg.            |                     |\n",
    "|  |    itertools, re, statistics, json           |                     |\n",
    "|  \\______________________________________________/                     |\n",
    "|                                                                       |\n",
    "|   The Python Package Index, eg.                                       |\n",
    "|     NumPy, SciPy, Seaborn, Biopython, Plotly, Snakemake, Jupyter,     |\n",
    "|     PyGTK, Tornado ... and 250 000 more!                              |\n",
    "\\_______________________________________________________________________/\n",
    "\n",
    "```\n",
    "\n",
    "- The \"Built-In\" stuff can just be used any time\n",
    "- The Standard Library is guaranteed to be available, but you have to `import` any bit you want to use in a given program\n",
    "- https://docs.python.org/3/library/ <<< ... can learn more about python here!\n",
    "- PyPi modules are contributed by the community - have to be installed separately to Python, and then you can `import` them.\n",
    "- https://pypi.org\n",
    "- Anaconda is a bundle of regular Python plus many of the PyPi packages made by Anaconda Inc.\n",
    "- https://anaconda.com"
   ]
  },
  {
   "cell_type": "markdown",
   "metadata": {
    "colab_type": "text",
    "id": "1KSg4kCTXSb8"
   },
   "source": [
    "## Some examples from the Standard Library\n",
    "\n",
    "Calculate the standard deviation of a list of numbers. You could program the calculation yourself, but why bother?"
   ]
  },
  {
   "cell_type": "code",
   "execution_count": 1,
   "metadata": {
    "colab": {
     "base_uri": "https://localhost:8080/",
     "height": 35
    },
    "colab_type": "code",
    "executionInfo": {
     "elapsed": 834,
     "status": "ok",
     "timestamp": 1599143395331,
     "user": {
      "displayName": "Timothy Booth",
      "photoUrl": "https://lh3.googleusercontent.com/a-/AOh14Gh24VHUYMFBG3YmueeOVT5__lb3QHnjZ2H86Aft=s64",
      "userId": "02076426724042679010"
     },
     "user_tz": -60
    },
    "id": "eiQplE4IXnEn",
    "outputId": "bfc16399-621d-4f59-83c3-f79d2488c3d2"
   },
   "outputs": [
    {
     "data": {
      "text/plain": [
       "6.079106489796481"
      ]
     },
     "execution_count": 1,
     "metadata": {},
     "output_type": "execute_result"
    }
   ],
   "source": [
    "import statistics\n",
    "statistics.stdev([110.1, 107.3, 100.4, 94.7, 95.6, 103.8, 102.7, 93.5])#calculates the standard deviationof the numbers "
   ]
  },
  {
   "cell_type": "markdown",
   "metadata": {
    "colab_type": "text",
    "id": "ti6SgVetX-gO"
   },
   "source": [
    "Loop through possible combinations of values from a list."
   ]
  },
  {
   "cell_type": "code",
   "execution_count": 2,
   "metadata": {
    "colab": {
     "base_uri": "https://localhost:8080/",
     "height": 377
    },
    "colab_type": "code",
    "executionInfo": {
     "elapsed": 1188,
     "status": "ok",
     "timestamp": 1599150296217,
     "user": {
      "displayName": "Timothy Booth",
      "photoUrl": "https://lh3.googleusercontent.com/a-/AOh14Gh24VHUYMFBG3YmueeOVT5__lb3QHnjZ2H86Aft=s64",
      "userId": "02076426724042679010"
     },
     "user_tz": -60
    },
    "id": "6Cu6l_OD8a-S",
    "outputId": "6d03660c-39ed-4fdd-e29c-ae7daa488440"
   },
   "outputs": [
    {
     "name": "stdout",
     "output_type": "stream",
     "text": [
      "Serve up tofu and cous-cous with kale\n",
      "Serve up tofu and cous-cous with mung beans\n",
      "Serve up tofu and cous-cous with lentils\n",
      "Serve up tofu and cous-cous with chia seeds\n",
      "Serve up tofu and kale with mung beans\n",
      "Serve up tofu and kale with lentils\n",
      "Serve up tofu and kale with chia seeds\n",
      "Serve up tofu and mung beans with lentils\n",
      "Serve up tofu and mung beans with chia seeds\n",
      "Serve up tofu and lentils with chia seeds\n",
      "Serve up cous-cous and kale with mung beans\n",
      "Serve up cous-cous and kale with lentils\n",
      "Serve up cous-cous and kale with chia seeds\n",
      "Serve up cous-cous and mung beans with lentils\n",
      "Serve up cous-cous and mung beans with chia seeds\n",
      "Serve up cous-cous and lentils with chia seeds\n",
      "Serve up kale and mung beans with lentils\n",
      "Serve up kale and mung beans with chia seeds\n",
      "Serve up kale and lentils with chia seeds\n",
      "Serve up mung beans and lentils with chia seeds\n"
     ]
    }
   ],
   "source": [
    "import itertools #to process a list of things\n",
    "veg = [\"tofu\", \"cous-cous\", \"kale\", \"mung beans\", \"lentils\", \"chia seeds\"]\n",
    "# Plan a vegan diet\n",
    "for veg1, veg2, veg3 in itertools.combinations(veg, 3):#all combinations of veg list in 3s \n",
    "  print(\"Serve up \" + veg1 + \" and \" + veg2 + \" with \" + veg3)## all possible combinations of things "
   ]
  },
  {
   "cell_type": "markdown",
   "metadata": {
    "colab_type": "text",
    "id": "RlrzBaQnc1Ja"
   },
   "source": [
    "Open a file that contains .json data."
   ]
  },
  {
   "cell_type": "code",
   "execution_count": 3,
   "metadata": {
    "colab": {
     "base_uri": "https://localhost:8080/",
     "height": 35
    },
    "colab_type": "code",
    "executionInfo": {
     "elapsed": 943,
     "status": "ok",
     "timestamp": 1599145882916,
     "user": {
      "displayName": "Timothy Booth",
      "photoUrl": "https://lh3.googleusercontent.com/a-/AOh14Gh24VHUYMFBG3YmueeOVT5__lb3QHnjZ2H86Aft=s64",
      "userId": "02076426724042679010"
     },
     "user_tz": -60
    },
    "id": "CSAkn7JbdYuh",
    "outputId": "2c506e8d-4ef7-48da-f12f-17e533680710"
   },
   "outputs": [
    {
     "data": {
      "text/plain": [
       "dict_keys(['seq1', 'seq2', 'seq3', 'seq4'])"
      ]
     },
     "execution_count": 3,
     "metadata": {},
     "output_type": "execute_result"
    }
   ],
   "source": [
    "import json\n",
    "\n",
    "oligos = json.load(open(\"oligos.json\"))#openning file object and conversts \n",
    "oligos.keys()"
   ]
  },
  {
   "cell_type": "markdown",
   "metadata": {
    "colab_type": "text",
    "id": "lYG-bzn78a_p"
   },
   "source": [
    "## Exercises\n",
    "\n",
    "### Using itertools.combinations\n",
    "\n",
    "Back in the Conditionals part there was an exercise which said:\n",
    "\n",
    "> Here is a list of DNA sequences:\n",
    "> \n",
    "> `['ATTGTACGGA', 'AATGAACCGA', 'AATGAACCCA', 'AATGGGAATA']`\n",
    ">\n",
    "> Write a program that calculates and prints, for each pair of sequences, the  percentage of identical positions.\n",
    "\n",
    "Modify your anwer to use the `itertools.combinations()` function to produce all the possible pairings.\n"
   ]
  },
  {
   "cell_type": "code",
   "execution_count": null,
   "metadata": {
    "colab": {},
    "colab_type": "code",
    "id": "TCRmHkJZyZTO"
   },
   "outputs": [],
   "source": [
    "dna=['ATTGTACGGA', 'AATGAACCGA', 'AATGAACCCA', 'AATGGGAATA']\n",
    "\n"
   ]
  }
 ],
 "metadata": {
  "anaconda-cloud": {},
  "colab": {
   "collapsed_sections": [],
   "name": "Python Libraries.ipynb",
   "provenance": [
    {
     "file_id": "1ZrUkhPVwdlrEMD9jUaMQg_QRkOisb_9m",
     "timestamp": 1599140991978
    }
   ]
  },
  "kernelspec": {
   "display_name": "Python 3",
   "language": "python",
   "name": "python3"
  },
  "language_info": {
   "codemirror_mode": {
    "name": "ipython",
    "version": 3
   },
   "file_extension": ".py",
   "mimetype": "text/x-python",
   "name": "python",
   "nbconvert_exporter": "python",
   "pygments_lexer": "ipython3",
   "version": "3.8.5"
  }
 },
 "nbformat": 4,
 "nbformat_minor": 1
}
