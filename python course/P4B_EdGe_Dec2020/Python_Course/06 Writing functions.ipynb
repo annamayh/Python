{
 "cells": [
  {
   "cell_type": "markdown",
   "metadata": {
    "colab_type": "text",
    "id": "2F03XUB1_eXy"
   },
   "source": [
    "<h1 id=\"toctitle\">Writing functions</h1>\n",
    "<ul id=\"toc\"/>"
   ]
  },
  {
   "cell_type": "markdown",
   "metadata": {
    "colab_type": "text",
    "id": "n3wbFmdv_eXz"
   },
   "source": [
    "## Writing a simple function\n",
    "\n",
    "Look at the AT content calculation code from the start of the course:"
   ]
  },
  {
   "cell_type": "code",
   "execution_count": 1,
   "metadata": {
    "colab": {},
    "colab_type": "code",
    "id": "b-7z05V5_eX0",
    "outputId": "a395d8bf-eb35-4c28-a122-7fc3bc5f1e23"
   },
   "outputs": [
    {
     "name": "stdout",
     "output_type": "stream",
     "text": [
      "AT content is 0.6785714285714286\n"
     ]
    }
   ],
   "source": [
    "my_dna = \"ACTGATACATATATATCGATGCGTTCAT\"\n",
    "length = len(my_dna)\n",
    "a_count = my_dna.count('A')\n",
    "t_count = my_dna.count('T')\n",
    "at_content = (a_count + t_count) / length\n",
    "print(\"AT content is \" + str(at_content))"
   ]
  },
  {
   "cell_type": "markdown",
   "metadata": {
    "colab_type": "text",
    "id": "3lY0NOug_eX7"
   },
   "source": [
    "There's one line to define the input:\n",
    "\n",
    "```python\n",
    "my_dna = \"ACTGATACATATATATCGATGCGTTCAT\"\n",
    "```\n",
    "\n",
    "and one line to define the output:\n",
    "\n",
    "```python\n",
    "print(\"AT content is \" + str(at_content))\n",
    "```\n",
    "\n",
    "and four lines to do the actual calculation:\n",
    "\n",
    "```python\n",
    "length = len(my_dna)\n",
    "a_count = my_dna.count('A')\n",
    "t_count = my_dna.count('T')\n",
    "at_content = (a_count + t_count) / length\n",
    "```\n",
    "\n",
    "We can turn this part of the code into a function that we call call:"
   ]
  },
  {
   "cell_type": "code",
   "execution_count": 6,
   "metadata": {
    "colab": {},
    "colab_type": "code",
    "id": "ImtjgGvk_eX7",
    "outputId": "4c5d08c5-7cb5-4b72-c4cf-7fcc122a3b74"
   },
   "outputs": [
    {
     "name": "stdout",
     "output_type": "stream",
     "text": [
      "0.3214285714285714\n"
     ]
    }
   ],
   "source": [
    "# define a new function\n",
    "def get_at_content(dna): #def short for define function, blue is name for function ... creating variable called dna (can be called anything)which can only be used in the function itself\n",
    "    length = len(dna)\n",
    "    a_count = dna.count('A')\n",
    "    t_count = dna.count('T')\n",
    "    at_content = (a_count + t_count) / length\n",
    "    return at_content #not all funcs need to return something, best to just return\n",
    "\n",
    "def get_gc_content(same_dna):\n",
    "    return 1 - get_at_content(same_dna)#using a function within a function can use the same variable name\n",
    "\n",
    "# call the function\n",
    "at = get_at_content(\"ACTGATACATATATATCGATGCGTTCAT\")\n",
    "print(at)"
   ]
  },
  {
   "cell_type": "markdown",
   "metadata": {
    "colab_type": "text",
    "id": "cWP2mMJt_eYA"
   },
   "source": [
    "Things to note about the definition line:\n",
    "\n",
    "- the definition line starts with `def`\n",
    "- next comes the name of our new function (arbitrary, as with variable names)\n",
    "- function argument names go in brackets (also arbitrary)\n",
    "- def line ends with a colon\n",
    "- body is indented\n",
    "- argument names become variables inside the body\n",
    "- body ends with `return` to return the result\n",
    "\n",
    "__Defining__ a function doesn't cause it to run; that only happens when we __call__ it. \n",
    "\n",
    "Argument variables (`dna`) and local variables (e.g. `a_count`) only exist inside the function.\n",
    "\n",
    "When we write a function we don't have to worry about how it will be used - we just need to know the __inputs__ (arguments) and __output__.\n",
    "\n",
    "When we use a function we don't have to worry about how it works inside - we just need to know the __inputs__ and __output__.\n",
    "\n",
    "### Calling our new function\n",
    "\n",
    "Once we've written our function, we can use it in lots of different ways:\n",
    "\n",
    "\n",
    "Calculate the AT content of a sequence in a file...\n",
    "```python\n",
    "dna = open('dna.txt').read()\n",
    "at = get_at_content(dna.rstrip('\\n'))\n",
    "```\n",
    "\n",
    "Print the AT content for a given sequence without storing it to a variable...\n",
    "```python\n",
    "print(get_at_content(\"ATTAGCGTAGC\"))\n",
    "```\n",
    "\n",
    "Write the AT content for a sequence directly to a file...\n",
    "```python\n",
    "result = open('output.txt', 'w')\n",
    "result.write(str(get_at_content('ACTGTCGA')) + \"\\n\")\n",
    "```\n",
    "\n",
    "Use our function in another function...\n",
    "```python\n",
    "def get_gc_content(dna):\n",
    "    return 1.0 - get_at_content(dna)\n",
    "```\n",
    "\n",
    "Separation of code into neat building blocks is very valuable and called __encapsulation__. Without encapsulation, you'll be writing \"spaghetti code\". 🍝\n"
   ]
  },
  {
   "cell_type": "markdown",
   "metadata": {
    "colab_type": "text",
    "id": "FYSeTFnd_eYB"
   },
   "source": [
    "## Things to avoid when writing functions\n",
    "### No input\n",
    "\n",
    "We could write a function that relies on variables defined outside it rather than arguments:"
   ]
  },
  {
   "cell_type": "code",
   "execution_count": 7,
   "metadata": {
    "colab": {},
    "colab_type": "code",
    "id": "3WJviy8M_eYC",
    "outputId": "284fd9bd-be18-4535-cb92-148b979f4ad9"
   },
   "outputs": [
    {
     "name": "stdout",
     "output_type": "stream",
     "text": [
      "0.4166666666666667\n"
     ]
    }
   ],
   "source": [
    "dna = \"ATCGCTAGCTGC\"\n",
    "def get_at_content(): #BAD\n",
    "    length = len(dna)\n",
    "    a_count = dna.count('A')\n",
    "    t_count = dna.count('T')\n",
    "    at_content = (a_count + t_count) / length\n",
    "    return at_content\n",
    "\n",
    "at = get_at_content()\n",
    "print(at)"
   ]
  },
  {
   "cell_type": "markdown",
   "metadata": {
    "colab_type": "text",
    "id": "gK2-RILX_eYH"
   },
   "source": [
    "This breaks encapsulation - now we have to know what variables are set in order to write the function. \n",
    "\n",
    "### No output\n",
    "\n",
    "We could write a function that prints the value instead of returning it:"
   ]
  },
  {
   "cell_type": "code",
   "execution_count": 8,
   "metadata": {
    "colab": {},
    "colab_type": "code",
    "id": "jxojqbcu_eYH",
    "outputId": "3e88ae94-3d2c-495e-9c94-c383005c6b73"
   },
   "outputs": [
    {
     "name": "stdout",
     "output_type": "stream",
     "text": [
      "0.6\n"
     ]
    }
   ],
   "source": [
    "def get_at_content(dna):\n",
    "    length = len(dna)\n",
    "    a_count = dna.count('A')\n",
    "    t_count = dna.count('T')\n",
    "    at_content = (a_count + t_count) / length\n",
    "    print(at_content)\n",
    "\n",
    "get_at_content(\"ATGCGTATTTGAGCA\") #BAD"
   ]
  },
  {
   "cell_type": "markdown",
   "metadata": {
    "colab_type": "text",
    "id": "-fXXN0jo_eYM"
   },
   "source": [
    "but this also breaks encapsulation - we have to know how the function will be used in order to write it. \n",
    "\n",
    "A good rule of thumb: _information gets in by arguments, information gets out by return value_.\n",
    "\n",
    "## Pure functions\n",
    "\n",
    "The rule of thumb above has a more formal definition. A **pure** function is a function which:\n",
    "- Always returns the same result given the same arguments\n",
    "- Has no side-effects\n",
    "\n",
    "We've already seen some **pure** functions like `len()`, `str()`\n",
    "\n",
    "And some **impure** ones like `print()`, `open()` (side effect is causing text to appear, and open can depend on external factors)\n",
    "\n",
    "Many functions cannot be pure, but in most cases if you can make a pure function then do so."
   ]
  },
  {
   "cell_type": "markdown",
   "metadata": {
    "colab_type": "text",
    "id": "ZOuzpqReuX8n"
   },
   "source": [
    "## Improving our function\n",
    "### Adding another argument\n",
    "\n",
    "One problem currently is that we get too many decimal places:"
   ]
  },
  {
   "cell_type": "code",
   "execution_count": 9,
   "metadata": {
    "colab": {},
    "colab_type": "code",
    "id": "CuvDSv2G_eYM",
    "outputId": "082522fe-818f-4a99-d3f0-9e14b5054615"
   },
   "outputs": [
    {
     "data": {
      "text/plain": [
       "0.6470588235294118"
      ]
     },
     "execution_count": 9,
     "metadata": {},
     "output_type": "execute_result"
    }
   ],
   "source": [
    "def get_at_content(dna):\n",
    "    length = len(dna)\n",
    "    a_count = dna.count('A')\n",
    "    t_count = dna.count('T')\n",
    "    at_content = (a_count + t_count) / length\n",
    "    return(at_content)\n",
    "\n",
    "get_at_content(\"ATGCGTATTTTTGAGCA\")"
   ]
  },
  {
   "cell_type": "markdown",
   "metadata": {
    "colab_type": "text",
    "id": "7_0DKgo4_eYR"
   },
   "source": [
    "We can call the builtin `round()` function on the answer before we return it:"
   ]
  },
  {
   "cell_type": "code",
   "execution_count": 10,
   "metadata": {
    "colab": {
     "base_uri": "https://localhost:8080/",
     "height": 35
    },
    "colab_type": "code",
    "executionInfo": {
     "elapsed": 980,
     "status": "ok",
     "timestamp": 1599061896739,
     "user": {
      "displayName": "Timothy Booth",
      "photoUrl": "https://lh3.googleusercontent.com/a-/AOh14Gh24VHUYMFBG3YmueeOVT5__lb3QHnjZ2H86Aft=s64",
      "userId": "02076426724042679010"
     },
     "user_tz": -60
    },
    "id": "ewaQneLV_eYR",
    "outputId": "c41f8eea-be3d-42d8-ceff-a0d81084a155"
   },
   "outputs": [
    {
     "data": {
      "text/plain": [
       "1.23457"
      ]
     },
     "execution_count": 10,
     "metadata": {},
     "output_type": "execute_result"
    }
   ],
   "source": [
    "round(1.23456789, 5) #rounds to 5 dp"
   ]
  },
  {
   "cell_type": "code",
   "execution_count": 11,
   "metadata": {
    "colab": {},
    "colab_type": "code",
    "id": "yPNh4nW9_eYW",
    "outputId": "d90e607f-a270-4764-f830-485e5a1829af"
   },
   "outputs": [
    {
     "data": {
      "text/plain": [
       "0.65"
      ]
     },
     "execution_count": 11,
     "metadata": {},
     "output_type": "execute_result"
    }
   ],
   "source": [
    "def get_at_content(dna):\n",
    "    length = len(dna)\n",
    "    a_count = dna.count('A')\n",
    "    t_count = dna.count('T')\n",
    "    at_content = (a_count + t_count) / length\n",
    "    return round(at_content, 2)\n",
    "                 \n",
    "get_at_content(\"ATGCGTATTTTTGAGCA\")"
   ]
  },
  {
   "cell_type": "markdown",
   "metadata": {
    "colab_type": "text",
    "id": "niZ9gLPy_eYa"
   },
   "source": [
    "What if we want more/fewer decimal places? Make the argument to `round()` an argument of our function:"
   ]
  },
  {
   "cell_type": "code",
   "execution_count": 12,
   "metadata": {
    "colab": {},
    "colab_type": "code",
    "id": "_f7QNqiu_eYa",
    "outputId": "352f4847-e7f0-4ba6-ba15-ffd4251b3d90"
   },
   "outputs": [
    {
     "data": {
      "text/plain": [
       "0.65"
      ]
     },
     "execution_count": 12,
     "metadata": {},
     "output_type": "execute_result"
    }
   ],
   "source": [
    "def get_at_content(dna, decimal_places): #can define two factors by adding a new argument\n",
    "    length = len(dna)\n",
    "    a_count = dna.count('A')\n",
    "    t_count = dna.count('T')\n",
    "    at_content = (a_count + t_count) / length\n",
    "    return round(at_content, decimal_places)\n",
    "\n",
    "get_at_content(\"ATGCGTATTTTTGAGCA\", 2)"
   ]
  },
  {
   "cell_type": "code",
   "execution_count": 13,
   "metadata": {
    "colab": {},
    "colab_type": "code",
    "id": "puFzvc9v_eYe",
    "outputId": "73923f5e-d562-4f19-b37f-3d36902824ac"
   },
   "outputs": [
    {
     "data": {
      "text/plain": [
       "0.6471"
      ]
     },
     "execution_count": 13,
     "metadata": {},
     "output_type": "execute_result"
    }
   ],
   "source": [
    "get_at_content(\"ATGCGTATTTTTGAGCA\", 4)"
   ]
  },
  {
   "cell_type": "markdown",
   "metadata": {
    "colab_type": "text",
    "id": "PxqH5muz_eYi"
   },
   "source": [
    "### Default values for function arguments\n",
    "\n",
    "In many cases, we don't really care about picking a number of decimal places. We can add a default to the definition:"
   ]
  },
  {
   "cell_type": "code",
   "execution_count": 2,
   "metadata": {
    "colab": {},
    "colab_type": "code",
    "id": "RccBEJnW_eYi"
   },
   "outputs": [],
   "source": [
    "def get_at_content(dna, decimal_places=2): #default = 2 but can specify if needed\n",
    "    length = len(dna)\n",
    "    a_count = dna.count('A')\n",
    "    t_count = dna.count('T')\n",
    "    at_content = (a_count + t_count) / length\n",
    "    return round(at_content, decimal_places)"
   ]
  },
  {
   "cell_type": "code",
   "execution_count": 3,
   "metadata": {
    "colab": {
     "base_uri": "https://localhost:8080/",
     "height": 35
    },
    "colab_type": "code",
    "executionInfo": {
     "elapsed": 892,
     "status": "ok",
     "timestamp": 1599061985665,
     "user": {
      "displayName": "Timothy Booth",
      "photoUrl": "https://lh3.googleusercontent.com/a-/AOh14Gh24VHUYMFBG3YmueeOVT5__lb3QHnjZ2H86Aft=s64",
      "userId": "02076426724042679010"
     },
     "user_tz": -60
    },
    "id": "Qv38FYJa_eYn",
    "outputId": "6e6eda71-e901-4c81-9334-6630c0e463ca"
   },
   "outputs": [
    {
     "data": {
      "text/plain": [
       "0.6471"
      ]
     },
     "execution_count": 3,
     "metadata": {},
     "output_type": "execute_result"
    }
   ],
   "source": [
    "get_at_content(\"ATGCGTATTTTTGAGCA\", 4)"
   ]
  },
  {
   "cell_type": "code",
   "execution_count": 4,
   "metadata": {
    "colab": {
     "base_uri": "https://localhost:8080/",
     "height": 35
    },
    "colab_type": "code",
    "executionInfo": {
     "elapsed": 713,
     "status": "ok",
     "timestamp": 1599061987224,
     "user": {
      "displayName": "Timothy Booth",
      "photoUrl": "https://lh3.googleusercontent.com/a-/AOh14Gh24VHUYMFBG3YmueeOVT5__lb3QHnjZ2H86Aft=s64",
      "userId": "02076426724042679010"
     },
     "user_tz": -60
    },
    "id": "8_tM3Pfl_eYr",
    "outputId": "2a575475-b0e3-4b7b-8a99-12da1b43025c"
   },
   "outputs": [
    {
     "data": {
      "text/plain": [
       "0.65"
      ]
     },
     "execution_count": 4,
     "metadata": {},
     "output_type": "execute_result"
    }
   ],
   "source": [
    "get_at_content(\"ATGCGTATTTTTGAGCA\")#if you dont give a value for dp then it just uses the default"
   ]
  },
  {
   "cell_type": "markdown",
   "metadata": {
    "colab_type": "text",
    "id": "hLCxhsaZ_eYu"
   },
   "source": [
    "### Keyword arguments\n",
    "\n",
    "In all the examples above, we supply the arguments in the same order as the definition. If we want to use a different order (or just be more explicit) we can use the argument names explicitly when callign the function:"
   ]
  },
  {
   "cell_type": "code",
   "execution_count": 5,
   "metadata": {
    "colab": {
     "base_uri": "https://localhost:8080/",
     "height": 35
    },
    "colab_type": "code",
    "executionInfo": {
     "elapsed": 740,
     "status": "ok",
     "timestamp": 1599061989616,
     "user": {
      "displayName": "Timothy Booth",
      "photoUrl": "https://lh3.googleusercontent.com/a-/AOh14Gh24VHUYMFBG3YmueeOVT5__lb3QHnjZ2H86Aft=s64",
      "userId": "02076426724042679010"
     },
     "user_tz": -60
    },
    "id": "R4SXNklh_eYv",
    "outputId": "cd56cb34-a40c-4ed5-aab3-c123208c0183"
   },
   "outputs": [
    {
     "data": {
      "text/plain": [
       "0.647"
      ]
     },
     "execution_count": 5,
     "metadata": {},
     "output_type": "execute_result"
    }
   ],
   "source": [
    "get_at_content(decimal_places=3, dna=\"ATGCGTATTTTTGAGCA\") #call functuon w/ arguments being named in a diff order, helpful to keep track of code"
   ]
  },
  {
   "cell_type": "markdown",
   "metadata": {
    "colab_type": "text",
    "id": "56DG7gGy_eYy"
   },
   "source": [
    "## Testing functions\n",
    "\n",
    "When we're working on a new function, we might want to test if it's working correctly. Use `assert` with a condition:"
   ]
  },
  {
   "cell_type": "code",
   "execution_count": 8,
   "metadata": {
    "colab": {},
    "colab_type": "code",
    "id": "wJ0ZhVlH_eYz"
   },
   "outputs": [],
   "source": [
    "assert get_at_content(\"A\") == 1\n",
    "assert get_at_content(\"G\") == 0\n",
    "assert get_at_content(\"ATGC\") == 0.5\n",
    "assert get_at_content(\"AGG\") == 0.33\n",
    "assert get_at_content(\"AGG\", 1) == 0.3\n",
    "assert get_at_content(\"AGG\", 5) == 0.33333\n",
    "\n",
    "#easier than having to go back and edit things again and again"
   ]
  },
  {
   "cell_type": "markdown",
   "metadata": {
    "colab_type": "text",
    "id": "KBke_rke_eY2"
   },
   "source": [
    "If the `assert` is true nothing happens, but if an `assert` is `False`, then Python will stop and print an error message:"
   ]
  },
  {
   "cell_type": "code",
   "execution_count": 7,
   "metadata": {
    "colab": {
     "base_uri": "https://localhost:8080/",
     "height": 172
    },
    "colab_type": "code",
    "executionInfo": {
     "elapsed": 710,
     "status": "error",
     "timestamp": 1599062968354,
     "user": {
      "displayName": "Timothy Booth",
      "photoUrl": "https://lh3.googleusercontent.com/a-/AOh14Gh24VHUYMFBG3YmueeOVT5__lb3QHnjZ2H86Aft=s64",
      "userId": "02076426724042679010"
     },
     "user_tz": -60
    },
    "id": "KxrYzHEz_eY2",
    "outputId": "e7a511fb-c7a2-409b-f791-5d95505a7ab4"
   },
   "outputs": [
    {
     "ename": "AssertionError",
     "evalue": "",
     "output_type": "error",
     "traceback": [
      "\u001b[1;31m---------------------------------------------------------------------------\u001b[0m",
      "\u001b[1;31mAssertionError\u001b[0m                            Traceback (most recent call last)",
      "\u001b[1;32m<ipython-input-7-d551ef6a2f62>\u001b[0m in \u001b[0;36m<module>\u001b[1;34m\u001b[0m\n\u001b[1;32m----> 1\u001b[1;33m \u001b[1;32massert\u001b[0m \u001b[0mget_at_content\u001b[0m\u001b[1;33m(\u001b[0m\u001b[1;34m\"AGNN\"\u001b[0m\u001b[1;33m)\u001b[0m \u001b[1;33m==\u001b[0m \u001b[1;36m0.5\u001b[0m\u001b[1;33m\u001b[0m\u001b[1;33m\u001b[0m\u001b[0m\n\u001b[0m",
      "\u001b[1;31mAssertionError\u001b[0m: "
     ]
    }
   ],
   "source": [
    "assert get_at_content(\"AGNN\") == 0.5 ##this is not a correct statement so brings back an error"
   ]
  },
  {
   "cell_type": "markdown",
   "metadata": {
    "colab_type": "text",
    "id": "vKG04uYs_eY7"
   },
   "source": [
    "Assertions are good for:\n",
    "\n",
    "- providing some documentation about the behaviour of the function\n",
    "- reassuring you that your function is giving the right answer\n",
    "- letting you know if you break the function, should you ever change it \n",
    "- demonstrating how the function can be used to other people\n",
    "\n",
    "Writing assertions about your functions is a **very good habit**, but many programmers don't bother. So now after the course, ask your local bioinformatician if they write assertion tests (also known as unit tests) for their own functions. If not, just sigh, and shake your head sadly."
   ]
  },
  {
   "cell_type": "markdown",
   "metadata": {
    "colab_type": "text",
    "id": "LCsfWA5A_eY8"
   },
   "source": [
    "---\n",
    "\n",
    "## Exercises\n",
    "\n",
    "### Amino acid percentage, part one\n",
    "\n",
    "Write a function that takes two arguments – a protein sequence and an amino acid residue code – and returns the percentage of the protein that the amino acid makes up. Use the following assertions to test your function:\n",
    "\n",
    "```python\n",
    "assert my_function(\"MSRSLLLRFLLFLLLLPPLP\", \"M\") == 5\n",
    "assert my_function(\"MSRSLLLRFLLFLLLLPPLP\", \"r\") == 10\n",
    "assert my_function(\"MSRSLLLRFLLFLLLLPPLP\", \"L\") == 50\n",
    "assert my_function(\"MSRSLLLRFLLFLLLLPPLP\", \"Y\") == 0\n",
    "```\n",
    "\n",
    "If you choose a different name for your function then change the name in the `assert` statements to match your function name. But don't change the assertions themselves - modify your function until they all pass."
   ]
  },
  {
   "cell_type": "code",
   "execution_count": 1,
   "metadata": {},
   "outputs": [],
   "source": [
    "def percent_protien(protien, AA):\n",
    "    AA=AA.upper()\n",
    "    aa_count = protien.count(AA)\n",
    "    percent=(aa_count/len(protien))*100\n",
    "    return int(percent)#otherwise will give you floating point number \n",
    "\n",
    "assert percent_protien(\"MSRSLLLRFLLFLLLLPPLP\", \"M\") == 5 #can do 'is 5' as a stricter version\n",
    "assert percent_protien(\"MSRSLLLRFLLFLLLLPPLP\", \"r\") == 10 #need to convert to .upper for this one \n",
    "assert percent_protien(\"MSRSLLLRFLLFLLLLPPLP\", \"L\") == 50\n",
    "assert percent_protien(\"MSRSLLLRFLLFLLLLPPLP\", \"Y\") == 0 ##no output == good\n",
    "\n"
   ]
  },
  {
   "cell_type": "markdown",
   "metadata": {
    "colab_type": "text",
    "id": "LCsfWA5A_eY8"
   },
   "source": [
    "### Amino acid percentage, part two\n",
    "\n",
    "Modify the function from part one so that it accepts a list of amino acid residues rather than a single one. If no list is given, the function should return the percentage of hydrophobic amino acid residues (A, I, L, M, F, W, Y and V). Your function should pass the following assertions:\n",
    "\n",
    "```python\n",
    "assert my_function(\"MSRSLLLRFLLFLLLLPPLP\", [\"M\"]) == 5\n",
    "assert my_function(\"MSRSLLLRFLLFLLLLPPLP\", ['F', 'S', 'L']) == 70\n",
    "assert my_function(\"MSRSLLLRFLLFLLLLPPLP\") == 65\n",
    "```\n",
    "\n",
    "To get this one to work, you'll have to go through the list of amino acid residues one at a time, generate the count for each one, and come up with a total count."
   ]
  },
  {
   "cell_type": "code",
   "execution_count": 38,
   "metadata": {},
   "outputs": [
    {
     "name": "stdout",
     "output_type": "stream",
     "text": [
      "['A', 'I', 'L', 'M', 'F', 'W', 'Y', 'V']\n"
     ]
    },
    {
     "ename": "TypeError",
     "evalue": "must be str, not list",
     "output_type": "error",
     "traceback": [
      "\u001b[1;31m---------------------------------------------------------------------------\u001b[0m",
      "\u001b[1;31mTypeError\u001b[0m                                 Traceback (most recent call last)",
      "\u001b[1;32m<ipython-input-38-e082090448ae>\u001b[0m in \u001b[0;36m<module>\u001b[1;34m\u001b[0m\n\u001b[0;32m     11\u001b[0m \u001b[1;33m\u001b[0m\u001b[0m\n\u001b[0;32m     12\u001b[0m \u001b[1;33m\u001b[0m\u001b[0m\n\u001b[1;32m---> 13\u001b[1;33m \u001b[0mpercent_protien\u001b[0m\u001b[1;33m(\u001b[0m\u001b[1;34m\"MSRSLLLRFLLFLLLLPPLP\"\u001b[0m\u001b[1;33m,\u001b[0m\u001b[1;33m[\u001b[0m\u001b[1;34m'F'\u001b[0m\u001b[1;33m,\u001b[0m \u001b[1;34m'S'\u001b[0m\u001b[1;33m,\u001b[0m \u001b[1;34m'L'\u001b[0m\u001b[1;33m]\u001b[0m\u001b[1;33m)\u001b[0m\u001b[1;33m\u001b[0m\u001b[1;33m\u001b[0m\u001b[0m\n\u001b[0m",
      "\u001b[1;32m<ipython-input-38-e082090448ae>\u001b[0m in \u001b[0;36mpercent_protien\u001b[1;34m(protien, AA)\u001b[0m\n\u001b[0;32m      6\u001b[0m     \u001b[0maa_count_all\u001b[0m\u001b[1;33m=\u001b[0m\u001b[1;33m[\u001b[0m\u001b[1;33m]\u001b[0m\u001b[1;33m\u001b[0m\u001b[1;33m\u001b[0m\u001b[0m\n\u001b[0;32m      7\u001b[0m     \u001b[1;32mfor\u001b[0m \u001b[0mi\u001b[0m \u001b[1;32min\u001b[0m \u001b[0mAA\u001b[0m\u001b[1;33m:\u001b[0m\u001b[1;33m\u001b[0m\u001b[1;33m\u001b[0m\u001b[0m\n\u001b[1;32m----> 8\u001b[1;33m         \u001b[0maa_count\u001b[0m\u001b[1;33m[\u001b[0m\u001b[0mi\u001b[0m\u001b[1;33m]\u001b[0m \u001b[1;33m=\u001b[0m \u001b[0mprotien\u001b[0m\u001b[1;33m.\u001b[0m\u001b[0mcount\u001b[0m\u001b[1;33m(\u001b[0m\u001b[0mAA\u001b[0m\u001b[1;33m)\u001b[0m\u001b[1;33m\u001b[0m\u001b[1;33m\u001b[0m\u001b[0m\n\u001b[0m\u001b[0;32m      9\u001b[0m         \u001b[0maa_count_all\u001b[0m\u001b[1;33m.\u001b[0m\u001b[0mappend\u001b[0m\u001b[1;33m(\u001b[0m\u001b[0maa_count\u001b[0m\u001b[1;33m[\u001b[0m\u001b[0mi\u001b[0m\u001b[1;33m]\u001b[0m\u001b[1;33m)\u001b[0m\u001b[1;33m\u001b[0m\u001b[1;33m\u001b[0m\u001b[0m\n\u001b[0;32m     10\u001b[0m     \u001b[1;32mreturn\u001b[0m \u001b[0maa_count_all\u001b[0m\u001b[1;33m\u001b[0m\u001b[1;33m\u001b[0m\u001b[0m\n",
      "\u001b[1;31mTypeError\u001b[0m: must be str, not list"
     ]
    }
   ],
   "source": [
    "hydrophobic_aa=['A','I','L','M','F','W','Y','V']\n",
    "print(hydrophobic_aa)\n",
    "\n",
    "def percent_protien(protien, AA=hydrophobic_aa):\n",
    "    aa_count_all=[]\n",
    "    for i in AA:\n",
    "        aa_count = protien.count(i)\n",
    "        aa_count_all.append(aa_count)\n",
    "        \n",
    "\n",
    "percent_protien(\"MSRSLLLRFLLFLLLLPPLP\",['F', 'S', 'L'])      "
   ]
  },
  {
   "cell_type": "code",
   "execution_count": 53,
   "metadata": {},
   "outputs": [
    {
     "name": "stdout",
     "output_type": "stream",
     "text": [
      "[2, 2, 10]\n"
     ]
    }
   ],
   "source": [
    "protien = \"MSRSLLLRFLLFLLLLPPLP\"\n",
    "AA = ['F', 'S', 'L']\n",
    "aa_count_all=[]\n",
    "\n",
    "for i in AA:\n",
    "    aa_count = protien.count(i)\n",
    "    aa_count_all.append(aa_count)\n",
    "    \n",
    "\n",
    "    \n",
    "print(aa_count_all) "
   ]
  },
  {
   "cell_type": "code",
   "execution_count": 2,
   "metadata": {},
   "outputs": [
    {
     "name": "stdout",
     "output_type": "stream",
     "text": [
      "[2, 2, 10]\n"
     ]
    }
   ],
   "source": [
    "protien = \"MSRSLLLRFLLFLLLLPPLP\"\n",
    "AA = ['F', 'S', 'L']\n",
    "aa_count_all=[]\n",
    "\n",
    "for i in AA:\n",
    "    aa_count = protien.count(i)\n",
    "    aa_count_all.append(aa_count)\n",
    "    \n",
    "\n",
    "    \n",
    "print(aa_count_all) "
   ]
  },
  {
   "cell_type": "code",
   "execution_count": 9,
   "metadata": {},
   "outputs": [
    {
     "name": "stdout",
     "output_type": "stream",
     "text": [
      "['A', 'I', 'L', 'M', 'F', 'W', 'Y', 'V']\n"
     ]
    },
    {
     "ename": "AssertionError",
     "evalue": "",
     "output_type": "error",
     "traceback": [
      "\u001b[1;31m---------------------------------------------------------------------------\u001b[0m",
      "\u001b[1;31mAssertionError\u001b[0m                            Traceback (most recent call last)",
      "\u001b[1;32m<ipython-input-9-5c8ab2ea3c76>\u001b[0m in \u001b[0;36m<module>\u001b[1;34m\u001b[0m\n\u001b[0;32m     12\u001b[0m \u001b[1;32massert\u001b[0m \u001b[0mpercent_protien\u001b[0m\u001b[1;33m(\u001b[0m\u001b[1;34m\"MSRSLLLRFLLFLLLLPPLP\"\u001b[0m\u001b[1;33m,\u001b[0m \u001b[1;33m[\u001b[0m\u001b[1;34m\"M\"\u001b[0m\u001b[1;33m]\u001b[0m\u001b[1;33m)\u001b[0m \u001b[1;33m==\u001b[0m \u001b[1;36m5\u001b[0m\u001b[1;33m\u001b[0m\u001b[1;33m\u001b[0m\u001b[0m\n\u001b[0;32m     13\u001b[0m \u001b[1;32massert\u001b[0m \u001b[0mpercent_protien\u001b[0m\u001b[1;33m(\u001b[0m\u001b[1;34m\"MSRSLLLRFLLFLLLLPPLP\"\u001b[0m\u001b[1;33m,\u001b[0m \u001b[1;33m[\u001b[0m\u001b[1;34m'F'\u001b[0m\u001b[1;33m,\u001b[0m \u001b[1;34m'S'\u001b[0m\u001b[1;33m,\u001b[0m \u001b[1;34m'L'\u001b[0m\u001b[1;33m]\u001b[0m\u001b[1;33m)\u001b[0m \u001b[1;33m==\u001b[0m \u001b[1;36m70\u001b[0m\u001b[1;33m\u001b[0m\u001b[1;33m\u001b[0m\u001b[0m\n\u001b[1;32m---> 14\u001b[1;33m \u001b[1;32massert\u001b[0m \u001b[0mpercent_protien\u001b[0m\u001b[1;33m(\u001b[0m\u001b[1;34m\"MSRSLLLRFLLFLLLLPPLP\"\u001b[0m\u001b[1;33m)\u001b[0m \u001b[1;33m==\u001b[0m \u001b[1;36m6\u001b[0m\u001b[1;33m\u001b[0m\u001b[1;33m\u001b[0m\u001b[0m\n\u001b[0m\u001b[0;32m     15\u001b[0m \u001b[1;33m\u001b[0m\u001b[0m\n\u001b[0;32m     16\u001b[0m \u001b[1;33m\u001b[0m\u001b[0m\n",
      "\u001b[1;31mAssertionError\u001b[0m: "
     ]
    }
   ],
   "source": [
    "hydrophobic_aa=['A','I','L','M','F','W','Y','V']\n",
    "print(hydrophobic_aa)\n",
    "\n",
    "def percent_protien(protien, AA=hydrophobic_aa):\n",
    "    residue_count=0 #use this to count!\n",
    "    for i in AA:\n",
    "        aa_count = protien.count(i)\n",
    "        residue_count=int(residue_count)+int(aa_count)\n",
    "    percent=(residue_count/len(protien))*100\n",
    "    return int(percent)#otherwise will give you floating point number\n",
    "\n",
    "assert percent_protien(\"MSRSLLLRFLLFLLLLPPLP\", [\"M\"]) == 5\n",
    "assert percent_protien(\"MSRSLLLRFLLFLLLLPPLP\", ['F', 'S', 'L']) == 70\n",
    "assert percent_protien(\"MSRSLLLRFLLFLLLLPPLP\") == 6\n",
    "\n",
    "\n",
    "\n",
    "    "
   ]
  },
  {
   "cell_type": "markdown",
   "metadata": {
    "colab_type": "text",
    "id": "LCsfWA5A_eY8"
   },
   "source": [
    "### Base counter\n",
    "\n",
    "Write a function that will take a DNA sequence along with an optional threshold and return `True` or `False` to indicate whether the DNA sequence contains a high proportion of undetermined bases (i.e not A, T, G or C).\n",
    "\n",
    "Write at least three `assert` statements about your function before you write the function itself."
   ]
  },
  {
   "cell_type": "code",
   "execution_count": null,
   "metadata": {},
   "outputs": [],
   "source": []
  }
 ],
 "metadata": {
  "colab": {
   "collapsed_sections": [],
   "name": "06 Writing functions.ipynb",
   "provenance": [
    {
     "file_id": "1zaAvkDeyF4TJtzt2GNnEr89Sq5zpeEXp",
     "timestamp": 1599216183545
    }
   ]
  },
  "kernelspec": {
   "display_name": "Python 3",
   "language": "python",
   "name": "python3"
  },
  "language_info": {
   "codemirror_mode": {
    "name": "ipython",
    "version": 3
   },
   "file_extension": ".py",
   "mimetype": "text/x-python",
   "name": "python",
   "nbconvert_exporter": "python",
   "pygments_lexer": "ipython3",
   "version": "3.8.5"
  }
 },
 "nbformat": 4,
 "nbformat_minor": 1
}
