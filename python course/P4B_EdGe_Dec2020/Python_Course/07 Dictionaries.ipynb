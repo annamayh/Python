{
 "cells": [
  {
   "cell_type": "markdown",
   "metadata": {
    "colab_type": "text",
    "id": "zz2Z2rb7cS3G"
   },
   "source": [
    "<h1 id=\"toctitle\">Dictionaries</h1>\n",
    "<ul id=\"toc\"/>"
   ]
  },
  {
   "cell_type": "markdown",
   "metadata": {
    "colab_type": "text",
    "id": "M_xLvShYcS3H"
   },
   "source": [
    "## Introducing paired data\n",
    "\n",
    "Say we want to count all the A's in a DNA sequence:"
   ]
  },
  {
   "cell_type": "code",
   "execution_count": 1,
   "metadata": {
    "colab": {},
    "colab_type": "code",
    "id": "Tetx33yMcS3I",
    "outputId": "665b4b40-23b4-4e6f-cd8b-529dd7c836d8"
   },
   "outputs": [
    {
     "data": {
      "text/plain": [
       "5"
      ]
     },
     "execution_count": 1,
     "metadata": {},
     "output_type": "execute_result"
    }
   ],
   "source": [
    "dna = \"ATCGATCGATCGTACGCTGA\"\n",
    "a_count = dna.count(\"A\")\n",
    "a_count"
   ]
  },
  {
   "cell_type": "markdown",
   "metadata": {
    "colab_type": "text",
    "id": "bII7t62vcS3O"
   },
   "source": [
    "That was pretty straightforward. How about all four bases:"
   ]
  },
  {
   "cell_type": "code",
   "execution_count": 2,
   "metadata": {
    "colab": {},
    "colab_type": "code",
    "id": "EnOJk0NHcS3P",
    "outputId": "230788e8-491a-4cad-e942-35449076ddd7"
   },
   "outputs": [
    {
     "name": "stdout",
     "output_type": "stream",
     "text": [
      "5 6 5 4\n"
     ]
    }
   ],
   "source": [
    "dna = \"ATCGTATCGATGTACGCTGA\"\n",
    "a_count = dna.count(\"A\")\n",
    "t_count = dna.count(\"T\")\n",
    "g_count = dna.count(\"G\")\n",
    "c_count = dna.count(\"C\")\n",
    "print(a_count, t_count, g_count, c_count)"
   ]
  },
  {
   "cell_type": "markdown",
   "metadata": {
    "colab_type": "text",
    "id": "_QqYPmqTcS3T"
   },
   "source": [
    "Getting repetitive. How about dinucldeotides (16 variables):\n",
    "\n",
    "```python\n",
    "aa_count = dna.count(\"AA\")\n",
    "at_count = dna.count(\"AT\")\n",
    "ag_count = dna.count(\"AG\")\n",
    "...\n",
    "```\n",
    "\n",
    "or trinucleotides (64 variables):\n",
    "\n",
    "```python\n",
    "aaa_count = dna.count(\"AAA\")\n",
    "aat_count = dna.count(\"AAT\")\n",
    "aag_count = dna.count(\"AAG\")\n",
    "```\n",
    "\n",
    "We could use a list to store these counts:"
   ]
  },
  {
   "cell_type": "code",
   "execution_count": 3,
   "metadata": {
    "colab": {
     "base_uri": "https://localhost:8080/",
     "height": 53
    },
    "colab_type": "code",
    "executionInfo": {
     "elapsed": 760,
     "status": "ok",
     "timestamp": 1599127993203,
     "user": {
      "displayName": "Timothy Booth",
      "photoUrl": "https://lh3.googleusercontent.com/a-/AOh14Gh24VHUYMFBG3YmueeOVT5__lb3QHnjZ2H86Aft=s64",
      "userId": "02076426724042679010"
     },
     "user_tz": -60
    },
    "id": "dIFd3z2ncS3U",
    "outputId": "7e774b41-1275-442d-cbb5-4fde6a230bc2"
   },
   "outputs": [
    {
     "name": "stdout",
     "output_type": "stream",
     "text": [
      "['AA', 'AT', 'AG', 'AC', 'TA', 'TT', 'TG', 'TC', 'GA', 'GT', 'GG', 'GC', 'CA', 'CT', 'CG', 'CC']\n",
      "[0, 3, 0, 1, 2, 0, 2, 2, 2, 2, 0, 1, 0, 1, 3, 0]\n"
     ]
    }
   ],
   "source": [
    "dna = \"ATCGTATCGATGTACGCTGA\"\n",
    "dinucleotides = ['AA','AT','AG','AC',\n",
    "                 'TA','TT','TG','TC',\n",
    "                 'GA','GT','GG','GC',\n",
    "                 'CA','CT','CG','CC']\n",
    "all_counts = []\n",
    "for dinucleotide in dinucleotides:\n",
    "    count = dna.count(dinucleotide)\n",
    "    all_counts.append(count)\n",
    "print(dinucleotides)\n",
    "print(all_counts)"
   ]
  },
  {
   "cell_type": "markdown",
   "metadata": {
    "colab_type": "text",
    "id": "kXW-A7b0cS3X"
   },
   "source": [
    "But you can see the problem: once they're stored in the list, there's no easy way to look up the count for a given dinucleotide. There's no longer any connection between the dinucleotides and the counts.\n",
    "\n",
    "This is an example of paired data - also called key/value data\n",
    "\n",
    "| keys | values |\n",
    "|------|--------|\n",
    "|dinucleotide|count|\n",
    "|name|protein sequence|\n",
    "|codon|amino acid residue|\n",
    "|sample|coordinates|\n",
    "|word|definition|\n",
    "\n",
    "Python's data structure for storing this type of data is a __dict__ (short for dictionary).\n",
    "\n",
    "## Creating dicts\n",
    "\n",
    "### Literal dicts\n",
    "\n",
    "To make a dict \n",
    "\n",
    "- start and end with curly brackets\n",
    "- separate keys and values with colons\n",
    "- separate each pair (item) with a comma"
   ]
  },
  {
   "cell_type": "code",
   "execution_count": 4,
   "metadata": {
    "colab": {},
    "colab_type": "code",
    "id": "T5ZEUNbycS3Y"
   },
   "outputs": [],
   "source": [
    "enzymes = { \n",
    "'EcoRI' : 'GAATTC',\n",
    "'AvaII' : 'GGACC',\n",
    "'BisI' : 'GCNGC' \n",
    "}\n",
    "\n",
    "#key has to be unique but value doesnt. so enzyme name is the key and wouldnt be able to use the seq to find the enzyme"
   ]
  },
  {
   "cell_type": "markdown",
   "metadata": {
    "colab_type": "text",
    "id": "8cFpypoucS3b"
   },
   "source": [
    "We often write dicts on multiple lines. Getting a single value is similar to a list, but instead of giving the numeric index, we give the key for the value we want:"
   ]
  },
  {
   "cell_type": "code",
   "execution_count": 5,
   "metadata": {
    "colab": {},
    "colab_type": "code",
    "id": "X8xX0qNHcS3c",
    "outputId": "b1c1912d-5d40-4526-e97c-f736241093e5"
   },
   "outputs": [
    {
     "data": {
      "text/plain": [
       "'GCNGC'"
      ]
     },
     "execution_count": 5,
     "metadata": {},
     "output_type": "execute_result"
    }
   ],
   "source": [
    "enzymes['BisI']"
   ]
  },
  {
   "cell_type": "markdown",
   "metadata": {
    "colab_type": "text",
    "id": "VtflFVWOcS3g"
   },
   "source": [
    "### Building up a dict\n",
    "\n",
    "We can create an empty dict, and add items to it one at a time:"
   ]
  },
  {
   "cell_type": "code",
   "execution_count": 6,
   "metadata": {
    "colab": {},
    "colab_type": "code",
    "id": "Tx5GuaXUcS3k",
    "outputId": "1a2b79fa-22a3-43bf-df35-6e6946711835"
   },
   "outputs": [
    {
     "data": {
      "text/plain": [
       "{'EcoRI': 'GAATTC', 'AvaII': 'GGACC', 'BisI': 'GCNGC'}"
      ]
     },
     "execution_count": 6,
     "metadata": {},
     "output_type": "execute_result"
    }
   ],
   "source": [
    "# create an empty dict\n",
    "enzymes = {}\n",
    "\n",
    "# add one key/value pair at a time\n",
    "enzymes['EcoRI'] = 'GAATTC'\n",
    "enzymes['AvaII'] = 'GGACC'\n",
    "enzymes['BisI'] = 'GCNGC'\n",
    "\n",
    "enzymes"
   ]
  },
  {
   "cell_type": "markdown",
   "metadata": {
    "colab_type": "text",
    "id": "K9lRjNuicS3p"
   },
   "source": [
    "The thing that goes inside the square brackets is always the key, whether we are setting a value or retrieving a value. \n",
    "\n",
    "How does this help us with our dinucletodies problem?\n",
    "\n",
    "## Counting dinucleotides with a dict\n",
    "\n",
    "Here's how we store the counts in a dict. We start with an empty dict, and add one key/value pair for each dinucleotide:"
   ]
  },
  {
   "cell_type": "code",
   "execution_count": 7,
   "metadata": {
    "colab": {},
    "colab_type": "code",
    "id": "d7NCoBvtcS3q",
    "outputId": "eeff68e8-116f-4fae-bec1-908363c6961b"
   },
   "outputs": [
    {
     "name": "stdout",
     "output_type": "stream",
     "text": [
      "{'AA': 2, 'AT': 2, 'AG': 0, 'AC': 2, 'TA': 0, 'TT': 0, 'TG': 2, 'TC': 0, 'GA': 3, 'GT': 0, 'GG': 0, 'GC': 0, 'CA': 0, 'CT': 0, 'CG': 1, 'CC': 0}\n"
     ]
    }
   ],
   "source": [
    "dna = \"AATGATGAACGAC\" \n",
    "dinucleotides = ['AA','AT','AG','AC', \n",
    "                 'TA','TT','TG','TC', \n",
    "                 'GA','GT','GG','GC', \n",
    "                 'CA','CT','CG','CC'] \n",
    "\n",
    "\n",
    "all_counts = {} #creating a dictionary\n",
    "for dinucleotide in dinucleotides: \n",
    "    count = dna.count(dinucleotide) \n",
    "    all_counts[dinucleotide] = count #sets a different key for each part of the dictionary\n",
    "        \n",
    "print(all_counts) "
   ]
  },
  {
   "cell_type": "markdown",
   "metadata": {
    "colab_type": "text",
    "id": "FtSP7sfgcS3t"
   },
   "source": [
    "Notice how although it's bigger than our previous examples the `all_counts` dict has the same key/value structure. \n",
    "\n",
    "We can now look up the count (value) for a particular dinucleotide (key) very easily:"
   ]
  },
  {
   "cell_type": "code",
   "execution_count": 8,
   "metadata": {
    "colab": {},
    "colab_type": "code",
    "id": "PE0BuzTecS3t",
    "outputId": "a30c0742-8ea0-4fb0-f1fd-2de9c4768ecf"
   },
   "outputs": [
    {
     "data": {
      "text/plain": [
       "3"
      ]
     },
     "execution_count": 8,
     "metadata": {},
     "output_type": "execute_result"
    }
   ],
   "source": [
    "all_counts['GA']"
   ]
  },
  {
   "cell_type": "markdown",
   "metadata": {
    "colab_type": "text",
    "id": "syX4smCAcS3x"
   },
   "source": [
    "### Removing zero counts\n",
    "\n",
    "Problem: many of the counts are zero (and for 3mers, 4mer, etc. nearly all the counts will be zero). Solution: just store the counts that are greater than zero:"
   ]
  },
  {
   "cell_type": "code",
   "execution_count": 9,
   "metadata": {
    "colab": {
     "base_uri": "https://localhost:8080/",
     "height": 35
    },
    "colab_type": "code",
    "executionInfo": {
     "elapsed": 526,
     "status": "ok",
     "timestamp": 1599128551442,
     "user": {
      "displayName": "Timothy Booth",
      "photoUrl": "https://lh3.googleusercontent.com/a-/AOh14Gh24VHUYMFBG3YmueeOVT5__lb3QHnjZ2H86Aft=s64",
      "userId": "02076426724042679010"
     },
     "user_tz": -60
    },
    "id": "-uidszB5cS3x",
    "outputId": "c0307a01-8e04-4063-a43d-b931ae7540df"
   },
   "outputs": [
    {
     "name": "stdout",
     "output_type": "stream",
     "text": [
      "{'AA': 1, 'AT': 3, 'AC': 1, 'TA': 1, 'TG': 2, 'TC': 2, 'GA': 3, 'GT': 1, 'GC': 1, 'CT': 1, 'CG': 3}\n"
     ]
    }
   ],
   "source": [
    "dna = \"AATGATCGATCGTACGCTGA\"\n",
    "all_counts = {}\n",
    "\n",
    "dinucleotides = ['AA','AT','AG','AC', \n",
    "                 'TA','TT','TG','TC', \n",
    "                 'GA','GT','GG','GC', \n",
    "                 'CA','CT','CG','CC'] \n",
    "\n",
    "for dinucleotide in dinucleotides: \n",
    "        count = dna.count(dinucleotide)\n",
    "        if count > 0:\n",
    "            all_counts[dinucleotide] = count\n",
    "print(all_counts)"
   ]
  },
  {
   "cell_type": "markdown",
   "metadata": {
    "colab_type": "text",
    "id": "vdn3KU83cS30"
   },
   "source": [
    "Now we are just storing the positive counts. This can lead to trouble when looking up counts for a dinucelotide that doesn't occur in the sequence:"
   ]
  },
  {
   "cell_type": "code",
   "execution_count": 10,
   "metadata": {
    "colab": {},
    "colab_type": "code",
    "id": "MXPBM0JacS31",
    "outputId": "c094dfa3-67c7-415e-c6eb-ab5db7724d7d"
   },
   "outputs": [
    {
     "data": {
      "text/plain": [
       "1"
      ]
     },
     "execution_count": 10,
     "metadata": {},
     "output_type": "execute_result"
    }
   ],
   "source": [
    "all_counts['AA']"
   ]
  },
  {
   "cell_type": "code",
   "execution_count": 11,
   "metadata": {
    "colab": {
     "base_uri": "https://localhost:8080/",
     "height": 172
    },
    "colab_type": "code",
    "executionInfo": {
     "elapsed": 609,
     "status": "error",
     "timestamp": 1599128555209,
     "user": {
      "displayName": "Timothy Booth",
      "photoUrl": "https://lh3.googleusercontent.com/a-/AOh14Gh24VHUYMFBG3YmueeOVT5__lb3QHnjZ2H86Aft=s64",
      "userId": "02076426724042679010"
     },
     "user_tz": -60
    },
    "id": "egBUGqzzcS35",
    "outputId": "19ea7530-d77a-40ec-e5a4-3c8a7402ef55"
   },
   "outputs": [
    {
     "ename": "KeyError",
     "evalue": "'AG'",
     "output_type": "error",
     "traceback": [
      "\u001b[1;31m---------------------------------------------------------------------------\u001b[0m",
      "\u001b[1;31mKeyError\u001b[0m                                  Traceback (most recent call last)",
      "\u001b[1;32m<ipython-input-11-f3e4615c23e0>\u001b[0m in \u001b[0;36m<module>\u001b[1;34m\u001b[0m\n\u001b[1;32m----> 1\u001b[1;33m \u001b[0mall_counts\u001b[0m\u001b[1;33m[\u001b[0m\u001b[1;34m'AG'\u001b[0m\u001b[1;33m]\u001b[0m\u001b[1;33m\u001b[0m\u001b[1;33m\u001b[0m\u001b[0m\n\u001b[0m",
      "\u001b[1;31mKeyError\u001b[0m: 'AG'"
     ]
    }
   ],
   "source": [
    "all_counts['AG']"
   ]
  },
  {
   "cell_type": "markdown",
   "metadata": {
    "colab_type": "text",
    "id": "7Pxmeq1dcS38"
   },
   "source": [
    "The `get()` method lets us specify a default for when the key isn't found:\n"
   ]
  },
  {
   "cell_type": "code",
   "execution_count": 12,
   "metadata": {
    "colab": {
     "base_uri": "https://localhost:8080/",
     "height": 35
    },
    "colab_type": "code",
    "executionInfo": {
     "elapsed": 530,
     "status": "ok",
     "timestamp": 1599128559610,
     "user": {
      "displayName": "Timothy Booth",
      "photoUrl": "https://lh3.googleusercontent.com/a-/AOh14Gh24VHUYMFBG3YmueeOVT5__lb3QHnjZ2H86Aft=s64",
      "userId": "02076426724042679010"
     },
     "user_tz": -60
    },
    "id": "WU_C7YNvcS39",
    "outputId": "d419ea18-893f-453b-af6f-d10036c82975"
   },
   "outputs": [
    {
     "data": {
      "text/plain": [
       "0"
      ]
     },
     "execution_count": 12,
     "metadata": {},
     "output_type": "execute_result"
    }
   ],
   "source": [
    "all_counts.get('AG', 0) #getting value from dict but if it isnt there it gives you 0 as the default\n",
    "#works for non-zeros too"
   ]
  },
  {
   "cell_type": "markdown",
   "metadata": {
    "colab_type": "text",
    "id": "wMdOeTl2cS4A"
   },
   "source": [
    "## Looping with dicts\n",
    "\n",
    "The `keys()` method returns a list of all the keys in a dict:"
   ]
  },
  {
   "cell_type": "code",
   "execution_count": 13,
   "metadata": {
    "colab": {
     "base_uri": "https://localhost:8080/",
     "height": 35
    },
    "colab_type": "code",
    "executionInfo": {
     "elapsed": 453,
     "status": "ok",
     "timestamp": 1599128563717,
     "user": {
      "displayName": "Timothy Booth",
      "photoUrl": "https://lh3.googleusercontent.com/a-/AOh14Gh24VHUYMFBG3YmueeOVT5__lb3QHnjZ2H86Aft=s64",
      "userId": "02076426724042679010"
     },
     "user_tz": -60
    },
    "id": "0pIvGVebcS4A",
    "outputId": "00311444-7f48-4318-d40f-69b08d2ebc44"
   },
   "outputs": [
    {
     "data": {
      "text/plain": [
       "dict_keys(['AA', 'AT', 'AC', 'TA', 'TG', 'TC', 'GA', 'GT', 'GC', 'CT', 'CG'])"
      ]
     },
     "execution_count": 13,
     "metadata": {},
     "output_type": "execute_result"
    }
   ],
   "source": [
    "all_counts.keys()"
   ]
  },
  {
   "cell_type": "markdown",
   "metadata": {
    "colab_type": "text",
    "id": "KUXcyKJScS4D"
   },
   "source": [
    "There's also a `values()`:"
   ]
  },
  {
   "cell_type": "code",
   "execution_count": 17,
   "metadata": {
    "colab": {
     "base_uri": "https://localhost:8080/",
     "height": 35
    },
    "colab_type": "code",
    "executionInfo": {
     "elapsed": 486,
     "status": "ok",
     "timestamp": 1599128565302,
     "user": {
      "displayName": "Timothy Booth",
      "photoUrl": "https://lh3.googleusercontent.com/a-/AOh14Gh24VHUYMFBG3YmueeOVT5__lb3QHnjZ2H86Aft=s64",
      "userId": "02076426724042679010"
     },
     "user_tz": -60
    },
    "id": "jCm3VuqIcS4E",
    "outputId": "c31c309a-0589-4ed3-b071-d65c3adaebc7"
   },
   "outputs": [
    {
     "data": {
      "text/plain": [
       "dict_items([('AA', 1), ('AT', 3), ('AC', 1), ('TA', 1), ('TG', 2), ('TC', 2), ('GA', 3), ('GT', 1), ('GC', 1), ('CT', 1), ('CG', 3)])"
      ]
     },
     "execution_count": 17,
     "metadata": {},
     "output_type": "execute_result"
    }
   ],
   "source": [
    "all_counts.values()\n",
    "all_counts.items()"
   ]
  },
  {
   "cell_type": "markdown",
   "metadata": {
    "colab_type": "text",
    "id": "gdeV-CNwcS4G"
   },
   "source": [
    "To loop over all the key/value pairs in a dict, use the `items()` method. Note that we have to pick **two** variable names for the loop:"
   ]
  },
  {
   "cell_type": "code",
   "execution_count": 16,
   "metadata": {
    "colab": {
     "base_uri": "https://localhost:8080/",
     "height": 53
    },
    "colab_type": "code",
    "executionInfo": {
     "elapsed": 489,
     "status": "ok",
     "timestamp": 1599128568030,
     "user": {
      "displayName": "Timothy Booth",
      "photoUrl": "https://lh3.googleusercontent.com/a-/AOh14Gh24VHUYMFBG3YmueeOVT5__lb3QHnjZ2H86Aft=s64",
      "userId": "02076426724042679010"
     },
     "user_tz": -60
    },
    "id": "pb3eRha5cS4H",
    "outputId": "db15c03e-bae2-43ed-ae7f-7b6de2274e10"
   },
   "outputs": [
    {
     "name": "stdout",
     "output_type": "stream",
     "text": [
      "TG\n",
      "TC\n"
     ]
    }
   ],
   "source": [
    "# which dinucleotides occur exactly twice in the sequence?\n",
    "\n",
    "for dinucleotide, count in all_counts.items(): #items gives you a list of matched pairs\n",
    "    if count == 2:\n",
    "        print(dinucleotide)"
   ]
  },
  {
   "cell_type": "markdown",
   "metadata": {
    "colab_type": "text",
    "id": "CoDnNatFcS4K"
   },
   "source": [
    "### Lookup vs. iteration\n",
    "\n",
    "Remember, we don't need to write a loop if we just want to get a single value. If we are looking for the count for 'AT' then we __dont__ need to do this:"
   ]
  },
  {
   "cell_type": "code",
   "execution_count": 18,
   "metadata": {
    "colab": {
     "base_uri": "https://localhost:8080/",
     "height": 35
    },
    "colab_type": "code",
    "executionInfo": {
     "elapsed": 471,
     "status": "ok",
     "timestamp": 1599128572136,
     "user": {
      "displayName": "Timothy Booth",
      "photoUrl": "https://lh3.googleusercontent.com/a-/AOh14Gh24VHUYMFBG3YmueeOVT5__lb3QHnjZ2H86Aft=s64",
      "userId": "02076426724042679010"
     },
     "user_tz": -60
    },
    "id": "bIDF9gZvcS4K",
    "outputId": "1dc69c62-e166-4a42-d530-ecb8dd88f005"
   },
   "outputs": [
    {
     "name": "stdout",
     "output_type": "stream",
     "text": [
      "3\n"
     ]
    }
   ],
   "source": [
    "for dinucleotide, count in all_counts.items():\n",
    "    if dinucleotide == 'AT':\n",
    "        print(count)"
   ]
  },
  {
   "cell_type": "markdown",
   "metadata": {
    "colab_type": "text",
    "id": "_40Hpym4cS4N"
   },
   "source": [
    "We can just ask for the value directly:"
   ]
  },
  {
   "cell_type": "code",
   "execution_count": 19,
   "metadata": {
    "colab": {
     "base_uri": "https://localhost:8080/",
     "height": 35
    },
    "colab_type": "code",
    "executionInfo": {
     "elapsed": 507,
     "status": "ok",
     "timestamp": 1599128576118,
     "user": {
      "displayName": "Timothy Booth",
      "photoUrl": "https://lh3.googleusercontent.com/a-/AOh14Gh24VHUYMFBG3YmueeOVT5__lb3QHnjZ2H86Aft=s64",
      "userId": "02076426724042679010"
     },
     "user_tz": -60
    },
    "id": "J1dXHNaOcS4N",
    "outputId": "fab53fdb-c03e-42ee-be75-a572c5c1813f"
   },
   "outputs": [
    {
     "name": "stdout",
     "output_type": "stream",
     "text": [
      "3\n"
     ]
    }
   ],
   "source": [
    "print(all_counts.get('AT'))"
   ]
  },
  {
   "cell_type": "markdown",
   "metadata": {
    "colab_type": "text",
    "id": "_DwpPWghvtWc"
   },
   "source": [
    "## In summary\n",
    "\n",
    "- If you find yourself with two `list`s containing corresponding items, you probably wanted a `dict`\n",
    "- Declare your dict with the `{key: value, ...}` syntax or...\n",
    "- ...add values in a loop using the `dict[key] = value` syntax\n",
    "- Retrieve values with `dict[key]` syntax or `.get()` to have a default value\n",
    "- Loop over the whole thing using `.items()` method\n",
    "- But don't use a loop just to get at one value\n"
   ]
  },
  {
   "cell_type": "markdown",
   "metadata": {
    "colab_type": "text",
    "id": "iL0-KvBBgD-g"
   },
   "source": [
    "## A note on dict ordering\n",
    "\n",
    "In Python 3.5 and older, `dict`s did not remember their ordering. If you looped through the dictionary you would see the values all muddled up. Since Python 3.6 (released December 2016), somebody found a clever way to make dictionaries fast *and* memory efficient *and* to remember the order of their elements. But if you ever have to run code on a system with a really old Python version then this is a gotcha. "
   ]
  },
  {
   "cell_type": "markdown",
   "metadata": {
    "colab_type": "text",
    "id": "1llAMPuZcS4Q"
   },
   "source": [
    "## Exercises\n",
    "\n",
    "### Scientific and common names\n",
    "\n",
    "Look at the file called _names.txt_. Each line contains the scientific name and common name for one species, separated by a comma:\n",
    "\n",
    "```\n",
    "Channa gachua,red-tailed snakehead\n",
    "Jacquinia keyensis,joewood\n",
    "Homo sapiens,man\n",
    "Stomias affinis,Guenther's boatfish\n",
    "Podarcis tauricus,Balkan wall lizard\n",
    "Tylenchulus semipenetrans,citrus nematode\n",
    "```\n",
    "\n",
    "Write a program that will read this file and turn it into a dict where the keys are scientific names and the values are common names. You'll have to read the file line-by-line, split each line into two parts, and add one key to the dict for each pair of names. Test your program by looking up the common names of some of your favourite species. How many common names contain the word 'frog'? What are their scientific names?"
   ]
  },
  {
   "cell_type": "code",
   "execution_count": 30,
   "metadata": {},
   "outputs": [],
   "source": [
    "names = open(\"names.txt\")\n",
    "\n",
    "names_dict = {}#creates empty dictionary\n",
    "\n",
    "for n in names:\n",
    "    list = n.rstrip(\"\\n\").split(\",\")#looping over open file, opens file for each line and splitting and removing spaces \n",
    "    names_dict[list[0]] = list[1]#adding to dictionary, line [0] = scientific name, is first item in lisy 1=common name\n",
    "    \n",
    "#print(names_dict)\n",
    "### OR CAN DO: \n",
    "\n",
    "spp_name{}\n",
    "for line in names_file \n",
    "line=line.rstrip\n",
    "scientific_name, common_name = line.split"
   ]
  },
  {
   "cell_type": "markdown",
   "metadata": {
    "colab_type": "text",
    "id": "1llAMPuZcS4Q"
   },
   "source": [
    "There's another file called *seq_counts.csv* which has the same format but stores the number of sequences available in a made up sequence database for each scientific name:\n",
    "\n",
    "```\n",
    "Harpadon microchir,41\n",
    "Nicotiana alata,906\n",
    "Meandrusa payeni,14\n",
    "Ballota nigra,48\n",
    "Hymenocallis latifolia,758\n",
    "```\n",
    "\n",
    "Write a program that will use your dict to make a similar file, but with common names rather than scientific names."
   ]
  },
  {
   "cell_type": "code",
   "execution_count": null,
   "metadata": {},
   "outputs": [],
   "source": []
  },
  {
   "cell_type": "markdown",
   "metadata": {
    "colab_type": "text",
    "id": "1llAMPuZcS4Q"
   },
   "source": [
    "### DNA translation \n",
    "\n",
    "Here's a variable that stores the genetic code (https://en.wikipedia.org/wiki/DNA_codon_table) using a dict:"
   ]
  },
  {
   "cell_type": "code",
   "execution_count": null,
   "metadata": {
    "colab": {},
    "colab_type": "code",
    "id": "RxjWOWAVcS4T"
   },
   "outputs": [],
   "source": [
    "gencode = {\n",
    "'ATA':'I', 'ATC':'I', 'ATT':'I', 'ATG':'M',\n",
    "'ACA':'T', 'ACC':'T', 'ACG':'T', 'ACT':'T',\n",
    "'AAC':'N', 'AAT':'N', 'AAA':'K', 'AAG':'K',\n",
    "'AGC':'S', 'AGT':'S', 'AGA':'R', 'AGG':'R',\n",
    "'CTA':'L', 'CTC':'L', 'CTG':'L', 'CTT':'L',\n",
    "'CCA':'P', 'CCC':'P', 'CCG':'P', 'CCT':'P',\n",
    "'CAC':'H', 'CAT':'H', 'CAA':'Q', 'CAG':'Q',\n",
    "'CGA':'R', 'CGC':'R', 'CGG':'R', 'CGT':'R',\n",
    "'GTA':'V', 'GTC':'V', 'GTG':'V', 'GTT':'V',\n",
    "'GCA':'A', 'GCC':'A', 'GCG':'A', 'GCT':'A',\n",
    "'GAC':'D', 'GAT':'D', 'GAA':'E', 'GAG':'E',\n",
    "'GGA':'G', 'GGC':'G', 'GGG':'G', 'GGT':'G',\n",
    "'TCA':'S', 'TCC':'S', 'TCG':'S', 'TCT':'S',\n",
    "'TTC':'F', 'TTT':'F', 'TTA':'L', 'TTG':'L',\n",
    "'TAC':'Y', 'TAT':'Y', 'TAA':'_', 'TAG':'_',\n",
    "'TGC':'C', 'TGT':'C', 'TGA':'_', 'TGG':'W'}"
   ]
  },
  {
   "cell_type": "markdown",
   "metadata": {
    "colab_type": "text",
    "id": "rIp8OCEUcS4V"
   },
   "source": [
    "Write a program (or function) that will take a DNA sequence and translate it into protein using the translation table.\n",
    "\n",
    "What happens if the DNA sequence contains undetermined bases (e.g. N)?\n",
    "\n",
    "Can you generate a translation in all three forward frames? All three reverse frames?\n",
    "\n",
    "### Bonus exercise\n",
    "\n",
    "__Large File Warning!__\n",
    "\n",
    "The NCBI taxonomy stores the relationships between all species (and orders, phyla, etc.) in GenBank. Each node in the tree has a unique ID. There are two files which store the taxonomic information. The _child2parent.txt_ file stores the parent for a single relationship on each line: for example, the line\n",
    "\n",
    "`12,34`\n",
    "\n",
    "means that node 12 is the child of node 34. (This works because each node has exactly one parent; it wouldn't work the other way round because each node can have more than one child).\n",
    "\n",
    "The _id2name.txt_ file stores the scientific or common name for each node: for example the line:\n",
    "\n",
    "`9606,Homo sapiens`\n",
    "\n",
    "means that node 9606 represents the human species.\n",
    "\n",
    "Write a function that will take two species IDs as arguments and return the ID of the last common ancestor of the two. We just need the _child2parent.txt_ file for this, not the names one. You can find the ID for your favourite species (or genus, order, etc.) by either browsing the NCBI taxonomy website or by searching in the names file. \n",
    "\n",
    "### Super bonus exercise\n",
    "\n",
    "Extend your function from above so that it can find the last common ancestor of any number of input species. Modify it so that you can give the species names as arguments rather than the species IDs.\n"
   ]
  }
 ],
 "metadata": {
  "colab": {
   "collapsed_sections": [],
   "name": "07 Dictionaries.ipynb",
   "provenance": []
  },
  "kernelspec": {
   "display_name": "Python 3",
   "language": "python",
   "name": "python3"
  },
  "language_info": {
   "codemirror_mode": {
    "name": "ipython",
    "version": 3
   },
   "file_extension": ".py",
   "mimetype": "text/x-python",
   "name": "python",
   "nbconvert_exporter": "python",
   "pygments_lexer": "ipython3",
   "version": "3.8.5"
  }
 },
 "nbformat": 4,
 "nbformat_minor": 1
}
