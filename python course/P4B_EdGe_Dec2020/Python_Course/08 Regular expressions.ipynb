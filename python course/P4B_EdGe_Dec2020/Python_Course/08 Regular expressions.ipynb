{
 "cells": [
  {
   "cell_type": "markdown",
   "metadata": {
    "colab_type": "text",
    "id": "HL5q0QQOt7nh"
   },
   "source": [
    "<h1 id=\"toctitle\">Regular expressions</h1>\n",
    "<ul id=\"toc\"/>"
   ]
  },
  {
   "cell_type": "markdown",
   "metadata": {
    "colab_type": "text",
    "id": "C0G4hzrjt7ni"
   },
   "source": [
    "## What are regular expressions?\n",
    "\n",
    "Regular expressions (aka. _regex_) are a special mini-language for describing patterns in strings. \n",
    "\n",
    "Handy for working with patterns in DNA/protein, also text files of many different types.\n",
    "\n",
    "Also crop up in other tools: text editors, grep.\n",
    "\n",
    "### Regular expression module\n",
    "\n",
    "The tools for using regular expressions live in the `re` module. We have to `import` the module, then use the module name when running functions:"
   ]
  },
  {
   "cell_type": "code",
   "execution_count": 1,
   "metadata": {
    "colab": {
     "base_uri": "https://localhost:8080/",
     "height": 35
    },
    "colab_type": "code",
    "executionInfo": {
     "elapsed": 1432,
     "status": "ok",
     "timestamp": 1599066086011,
     "user": {
      "displayName": "Timothy Booth",
      "photoUrl": "https://lh3.googleusercontent.com/a-/AOh14Gh24VHUYMFBG3YmueeOVT5__lb3QHnjZ2H86Aft=s64",
      "userId": "02076426724042679010"
     },
     "user_tz": -60
    },
    "id": "R4VDqvM-t7nj",
    "outputId": "7fb8794e-62bb-4673-f6be-e34bedda634a"
   },
   "outputs": [
    {
     "data": {
      "text/plain": [
       "<re.Match object; span=(0, 1), match='a'>"
      ]
     },
     "execution_count": 1,
     "metadata": {},
     "output_type": "execute_result"
    }
   ],
   "source": [
    "import re\n",
    "re.search('a', 'abc')#looking for a in abc"
   ]
  },
  {
   "cell_type": "code",
   "execution_count": 2,
   "metadata": {
    "colab": {},
    "colab_type": "code",
    "id": "qCU4EpzAt7no",
    "outputId": "48c08b64-20c6-4f4f-fa15-072fed95bb7e"
   },
   "outputs": [
    {
     "ename": "NameError",
     "evalue": "name 'search' is not defined",
     "output_type": "error",
     "traceback": [
      "\u001b[1;31m---------------------------------------------------------------------------\u001b[0m",
      "\u001b[1;31mNameError\u001b[0m                                 Traceback (most recent call last)",
      "\u001b[1;32m<ipython-input-2-48f21ceabec3>\u001b[0m in \u001b[0;36m<module>\u001b[1;34m\u001b[0m\n\u001b[1;32m----> 1\u001b[1;33m \u001b[0msearch\u001b[0m\u001b[1;33m(\u001b[0m\u001b[1;34m'a'\u001b[0m\u001b[1;33m,\u001b[0m \u001b[1;34m'abc'\u001b[0m\u001b[1;33m)\u001b[0m\u001b[1;33m\u001b[0m\u001b[1;33m\u001b[0m\u001b[0m\n\u001b[0m",
      "\u001b[1;31mNameError\u001b[0m: name 'search' is not defined"
     ]
    }
   ],
   "source": [
    "search('a', 'abc')"
   ]
  },
  {
   "cell_type": "markdown",
   "metadata": {
    "colab_type": "text",
    "id": "m2rtDPHYt7ns"
   },
   "source": [
    "## Searching for patterns with variation\n",
    "\n",
    "`re.search()` takes two arguments: a pattern and a string. It searches for the pattern in the string and returns `True` or `False`. (Actually it returns a \"match object\" or `None` but we can treat these as `True` or `False` for the purpose of an `if` statement.)\n",
    "\n",
    "Here is a boring pattern:"
   ]
  },
  {
   "cell_type": "code",
   "execution_count": 3,
   "metadata": {
    "colab": {},
    "colab_type": "code",
    "id": "Gqiy0FVZt7nt",
    "outputId": "2f13810c-f114-4634-9374-9f6421eb770c"
   },
   "outputs": [
    {
     "name": "stdout",
     "output_type": "stream",
     "text": [
      "restriction site found!\n"
     ]
    }
   ],
   "source": [
    "dna = \"ATCGCGAATTCAC\"\n",
    "\n",
    "if re.search(\"GAATTC\", dna):\n",
    "    print(\"restriction site found!\")\n",
    "else:\n",
    "    print(\"no restriction site!\")"
   ]
  },
  {
   "cell_type": "markdown",
   "metadata": {
    "colab_type": "text",
    "id": "ZwHkFOTDt7nx"
   },
   "source": [
    "### Alternation\n",
    "\n",
    "Here's an example of a pattern that's a bit more interesting. When there are two different possibilities we surround them with parentheses and separate with pipe characters:"
   ]
  },
  {
   "cell_type": "code",
   "execution_count": null,
   "metadata": {
    "colab": {},
    "colab_type": "code",
    "id": "-aHeDpFot7ny",
    "outputId": "2ef5b7cb-acba-4f7c-ba7f-267c4a41dab3"
   },
   "outputs": [],
   "source": [
    "dna = \"ATCGCGAATTCAC\"\n",
    "\n",
    "if re.search(\"GG(A|T)CC\", dna):# search for a or t\n",
    "    print(\"restriction site found!\")\n",
    "else:\n",
    "    print(\"no restriction site!\")"
   ]
  },
  {
   "cell_type": "markdown",
   "metadata": {
    "colab_type": "text",
    "id": "K_avylvct7n2"
   },
   "source": [
    "### Character groups\n",
    "\n",
    "A very common type of alternation is when we want to allow any one of a list of characters. We can write it like this:"
   ]
  },
  {
   "cell_type": "code",
   "execution_count": null,
   "metadata": {
    "colab": {},
    "colab_type": "code",
    "id": "Y0aodGCMt7n3"
   },
   "outputs": [],
   "source": [
    "dna = \"ATCGCGAATTCAC\"\n",
    "if re.search(\"GC(A|T|G|C)GC\", dna):\n",
    "    print(\"restriction site found!\")"
   ]
  },
  {
   "cell_type": "markdown",
   "metadata": {
    "colab_type": "text",
    "id": "dGw33lcEt7n6"
   },
   "source": [
    "or with a shorthand like this:"
   ]
  },
  {
   "cell_type": "code",
   "execution_count": null,
   "metadata": {
    "colab": {},
    "colab_type": "code",
    "id": "mp64zu9jt7n7"
   },
   "outputs": [],
   "source": [
    "if re.search(\"GC[ATGC]GC\", dna): #sq brakets = any of characters in this \n",
    "    print(\"restriction site found!\")"
   ]
  },
  {
   "cell_type": "markdown",
   "metadata": {
    "colab_type": "text",
    "id": "ntQLfewrt7oB"
   },
   "source": [
    "Sometimes it's easier to describe a character group by listing the characters that are __not__ allowed. Special rule: if the character group starts with ^ then it means any character except these ones:"
   ]
  },
  {
   "cell_type": "code",
   "execution_count": 4,
   "metadata": {
    "colab": {},
    "colab_type": "code",
    "id": "K7xRplhmt7oB",
    "outputId": "7e719241-734c-4f95-918b-c39612b4a361"
   },
   "outputs": [
    {
     "name": "stdout",
     "output_type": "stream",
     "text": [
      "ambiguous base found!\n"
     ]
    }
   ],
   "source": [
    "dna = \"ATCGCGYAATTCAC\"\n",
    "\n",
    "if re.search(\"[^ATGC]\", dna): #hat means looking for anything that is not ATGC \n",
    "    print(\"ambiguous base found!\")"
   ]
  },
  {
   "cell_type": "markdown",
   "metadata": {
    "colab_type": "text",
    "id": "IokrreUXt7oF"
   },
   "source": [
    "There are useful shortcuts for some commonly-used character groups:\n",
    "\n",
    "- A full stop (aka dot, period, `.`) stands for any character\n",
    "- `\\d` means any digit\n",
    "- `\\s` means any whitespace (spaces, tabs)"
   ]
  },
  {
   "cell_type": "markdown",
   "metadata": {
    "colab_type": "text",
    "id": "lucXqd-At7oF"
   },
   "source": [
    "### Quantifiers\n",
    "\n",
    "Another type of variation is the number of times something is repeated.\n",
    "\n",
    "A question mark means the thing preceding it is optional. In the pattern `GCG?Y`the second G is optional. The pattern will match `GCGY` and `GCY`. \n",
    "\n",
    "A plus means that the thing preceding it can be repeated more than once. In the pattern `GCG+Y` the second G can be repeated, so it matches `GCGY`, `GCGGY`, `GCGGGY`, etc. but __not__ `GCY`\n",
    "\n",
    "An asterisk is the most flexible quantifier; the thing preceding it optional, but can also be repeated. The pattern `GCG*Y` will match `GCY`, `GCGY`, `GCGGY`, `GCGGGY`, etc. \n",
    "\n",
    "For more specificity, we can specify a minimum and maximum number of repetitions:\n",
    "\n",
    "`GCG{2,4}Y` will match `GCGGY`, `GCGGGY` and `GCGGGGY` but __not__ `GCGY` or `GCGGGGGY`, etc. \n",
    "\n",
    "Can write {2,} to say 2 or more times, as only setting lower limit\n",
    "\n"
   ]
  },
  {
   "cell_type": "markdown",
   "metadata": {
    "colab_type": "text",
    "id": "maS65Thbt7oG"
   },
   "source": [
    "### Anchors\n",
    "\n",
    "Unlike all the stuff above, __anchors__ specify where the pattern has to match the string. \n",
    "\n",
    "`^` means the start (only within square brackets it means a negated character group as described earlier). So `^G` will match `GATC` but not `ATGC`. \n",
    "\n",
    "(Hat outside the bracket now)\n",
    "\n",
    "`$` means the end, so the pattern `G$` will match `ATCG` but not `AGTC` "
   ]
  },
  {
   "cell_type": "markdown",
   "metadata": {
    "colab_type": "text",
    "id": "05vDGyWRt7oG"
   },
   "source": [
    "### Combinations\n",
    "\n",
    "The real power of regular expressions comes from combining all these features. Here's a complex regular expression that describes a full length messenger RNA with start codon and polyA tail:\n",
    "\n",
    "`^ATG[ATGC]{30,1000}A{5,10}$`\n",
    "\n",
    "Look at the features:\n",
    "\n",
    "- string must start with ATG\n",
    "- then between 30 and 1000 bases that must be A/T/G/C\n",
    "- string must end with between 5 and 10 consecutive As\n",
    "\n"
   ]
  },
  {
   "cell_type": "markdown",
   "metadata": {
    "colab_type": "text",
    "collapsed": true,
    "id": "yjYCXHGet7oH"
   },
   "source": [
    "## Other stuff we can do with regular expressions\n",
    "\n",
    "### Extracting the match\n",
    "\n",
    "In an `if` statement, `re.search()` just gives us a true/false answer, but in the case of finding a match it actually returns a \"match object\". We can save that match object and use methods to get information from it. For example with our non-ATGC base example:"
   ]
  },
  {
   "cell_type": "code",
   "execution_count": 5,
   "metadata": {
    "colab": {},
    "colab_type": "code",
    "id": "ycQZzdkot7oI",
    "outputId": "24465e03-f278-449c-f47b-27daba8ddb8b"
   },
   "outputs": [
    {
     "name": "stdout",
     "output_type": "stream",
     "text": [
      "ambiguous base found!\n"
     ]
    }
   ],
   "source": [
    "dna = \"ATCGCGYAATTCAC\"\n",
    "\n",
    "if re.search(\"[^ATGC]\", dna):\n",
    "    print(\"ambiguous base found!\")"
   ]
  },
  {
   "cell_type": "markdown",
   "metadata": {
    "colab_type": "text",
    "id": "qvpUrW-jt7oL"
   },
   "source": [
    "We know that we found a non-ATGC base, but what was it? Calling `group()` on the match object will tell us, and `start()` will show the position:"
   ]
  },
  {
   "cell_type": "code",
   "execution_count": 6,
   "metadata": {
    "colab": {
     "base_uri": "https://localhost:8080/",
     "height": 71
    },
    "colab_type": "code",
    "executionInfo": {
     "elapsed": 1228,
     "status": "ok",
     "timestamp": 1599066291873,
     "user": {
      "displayName": "Timothy Booth",
      "photoUrl": "https://lh3.googleusercontent.com/a-/AOh14Gh24VHUYMFBG3YmueeOVT5__lb3QHnjZ2H86Aft=s64",
      "userId": "02076426724042679010"
     },
     "user_tz": -60
    },
    "id": "da24MjItt7oM",
    "outputId": "c99aeca4-27a7-4e9f-9887-b9f526d22e0d"
   },
   "outputs": [
    {
     "name": "stdout",
     "output_type": "stream",
     "text": [
      "ambiguous base found!\n",
      "the base is N\n",
      "the base is at position 4\n"
     ]
    }
   ],
   "source": [
    "dna = \"CGATNCGGAAYCGATC\"\n",
    "mo = re.search(\"[^ATGC]\", dna)\n",
    "\n",
    "# mo is now a match object\n",
    "if mo: #if match oject is true then do these following things\n",
    "    print(\"ambiguous base found!\")\n",
    "    ambig = mo.group()\n",
    "    position = mo.start() #tells us the position in string that this occurs\n",
    "    print(\"the base is \" + ambig)\n",
    "    print(\"the base is at position \" + str(position))"
   ]
  },
  {
   "cell_type": "markdown",
   "metadata": {
    "colab_type": "text",
    "id": "6cevaKMfxop5"
   },
   "source": [
    "As always, the position is counted from 0. Also `end()` will give the end, and just like with substring indexing this is one past the last character, so in this case will be 5."
   ]
  },
  {
   "cell_type": "markdown",
   "metadata": {
    "colab_type": "text",
    "id": "RVEncUhUt7oU"
   },
   "source": [
    "### Splitting a string with a regex\n",
    "\n",
    "`re.split()` works just like regular `split()`, but takes a regular expression pattern as the separator. Here we split a DNA sequence whenever we see a non-ATGC base. Note pattern reuse!"
   ]
  },
  {
   "cell_type": "code",
   "execution_count": 7,
   "metadata": {
    "colab": {},
    "colab_type": "code",
    "id": "HhSC7BzSt7oV",
    "outputId": "6c3644f0-6b0f-4e78-bbed-3aae27000ba7"
   },
   "outputs": [
    {
     "name": "stdout",
     "output_type": "stream",
     "text": [
      "['ACT', 'GCAT', 'GCTACGT', 'ACGAT', 'CGA', 'TCG']\n"
     ]
    }
   ],
   "source": [
    "dna = \"ACTNGCATRGCTACGTYACGATSCGAWTCG\"\n",
    "runs = re.split(\"[^ATGC]\", dna) #split at any character that isnt A,T,G, or C i.e. splits at ambiguous bases\n",
    "\n",
    "print(runs)"
   ]
  },
  {
   "cell_type": "markdown",
   "metadata": {
    "colab_type": "text",
    "id": "tIzShmqYt7oY"
   },
   "source": [
    "The output is a list of strings. \n",
    "\n",
    "Above, we exclude the bits of the string that matched the pattern and just keep the non-matching bits. For the opposite, use `re.findall()`. E.g. find all runs of A/T that are at least four bases long:"
   ]
  },
  {
   "cell_type": "code",
   "execution_count": 8,
   "metadata": {
    "colab": {},
    "colab_type": "code",
    "id": "StJv3j-Jt7oZ",
    "outputId": "e8abf11a-66b1-4055-8efe-a4824028f2ec"
   },
   "outputs": [
    {
     "name": "stdout",
     "output_type": "stream",
     "text": [
      "['ATTATAT', 'AAATTATA']\n"
     ]
    }
   ],
   "source": [
    "dna = \"ACTGCATTATATCGTACGAAATTATACGCGCG\"\n",
    "runs = re.findall(\"[AT]{4,}\", dna) #long string of either a or t\n",
    "\n",
    "print(runs)"
   ]
  },
  {
   "cell_type": "markdown",
   "metadata": {
    "colab_type": "text",
    "id": "4Z25MpPWt7od"
   },
   "source": [
    "### Finding multiple matches\n",
    "\n",
    "Some problems require getting a list of match objects for all matches, not just the first - use `re.finditer()`. E.g. using the same pattern and sequence, what are the start/stop positions of all runs of A/T?"
   ]
  },
  {
   "cell_type": "code",
   "execution_count": 9,
   "metadata": {
    "colab": {
     "base_uri": "https://localhost:8080/",
     "height": 53
    },
    "colab_type": "code",
    "executionInfo": {
     "elapsed": 1133,
     "status": "ok",
     "timestamp": 1599066600560,
     "user": {
      "displayName": "Timothy Booth",
      "photoUrl": "https://lh3.googleusercontent.com/a-/AOh14Gh24VHUYMFBG3YmueeOVT5__lb3QHnjZ2H86Aft=s64",
      "userId": "02076426724042679010"
     },
     "user_tz": -60
    },
    "id": "g4WJRTvet7od",
    "outputId": "e5a31320-5c36-48d9-a4d1-7abaf90e9323"
   },
   "outputs": [
    {
     "name": "stdout",
     "output_type": "stream",
     "text": [
      "5 12\n",
      "18 26\n"
     ]
    }
   ],
   "source": [
    "dna = \"ACTGCATTATATCGTACGAAATTATACGCGCG\"\n",
    "runs = re.finditer(\"[AT]{4,}\", dna)\n",
    "\n",
    "for mo in runs:\n",
    "    run_start = mo.start()#where it starts\n",
    "    run_end = mo.end()#where it ends \n",
    "    print(run_start, run_end)"
   ]
  },
  {
   "cell_type": "markdown",
   "metadata": {
    "colab_type": "text",
    "id": "0tC64VHgt7og"
   },
   "source": [
    "## Exercises\n",
    "\n",
    "### Gene names\n",
    "\n",
    "Here's a list of made-up gene accession numbers:\n",
    "\n",
    "`xkn59438, yhdck2, eihd39d9, chdsye847, hedle3455, xjhd53e, 45da, de37dp`\n",
    "\n",
    "Write a program that will print only the accession names that satisfy the following criteria – treat each criterion separately:\n",
    "\n",
    "- contain the number 5\n",
    "- contain the letter d or e\n",
    "- contain the letters d and e in that order\n",
    "- contain the letters d and e in that order with a single letter between them\n",
    "- contain both the letters d and e in any order\n",
    "- start with x or y\n",
    "- start with x or y and end with e\n",
    "- contain three or more digits in a row\n",
    "- end with d followed by either a, r or p\n",
    "\n",
    "__Warning: this is another exercise where it's easy to get the wrong answer, so check your outputs.__"
   ]
  },
  {
   "cell_type": "code",
   "execution_count": 83,
   "metadata": {},
   "outputs": [
    {
     "name": "stdout",
     "output_type": "stream",
     "text": [
      "['xkn59438', 'hedle3455', 'xjhd53e', '45da'] match: 5\n",
      "['yhdck2', 'eihd39d9', 'chdsye847', 'hedle3455', 'xjhd53e', '45da', 'de37dp'] match: d|e\n",
      "['de37dp'] match: de\n",
      "['hedle3455'] match: d.e\n",
      "['yhdck2', 'eihd39d9', 'chdsye847', 'hedle3455', 'xjhd53e', '45da', 'de37dp'] match: [de]\n",
      "['xkn59438', 'yhdck2', 'xjhd53e'] match: ^(x|y)\n",
      "['xjhd53e'] match: ^[xy].*e$\n",
      "['xkn59438', 'chdsye847', 'hedle3455'] match: \\d{3,}\n",
      "['45da', 'de37dp'] match: d[arp]$\n"
     ]
    }
   ],
   "source": [
    "acc_n = ['xkn59438', 'yhdck2', 'eihd39d9', 'chdsye847', 'hedle3455', 'xjhd53e', '45da', 'de37dp']\n",
    "\n",
    "criteria= ['5','d|e','de','d.e','[de]','^(x|y)','^[xy].*e$','\\d{3,}','d[arp]$']\n",
    "\n",
    "for n, specific in enumerate(criteria):\n",
    "    list_of_acc=[]\n",
    "    for item in acc_n:\n",
    "        if re.search(specific,item):\n",
    "            list_of_acc.append(item)\n",
    "    print(str(list_of_acc)+\" match: \"+str(specific))\n",
    "\n",
    "#print(list_of_acc)"
   ]
  },
  {
   "cell_type": "markdown",
   "metadata": {
    "colab_type": "text",
    "id": "a1xuRQJ9t7oh"
   },
   "source": [
    "### Double digest\n",
    "\n",
    "Look at the file *long_dna.txt* which contains a made up DNA sequence. \n",
    "\n",
    "__/ indicates the position of the cut site__ for the following explanation.\n",
    "\n",
    "Predict the fragment lengths that we will get if we digest the sequence with a made up restriction enzyme __AbcI__, whose recognition site is `ANT/AAT`.\n",
    "\n",
    "What will the fragment lengths be if we do a double digest with both __AbcI__ and __AbcII__, whose recognition site is `GCRW/TG` (hard)? Can you predict the sequences of the fragments themselves?"
   ]
  },
  {
   "cell_type": "code",
   "execution_count": 76,
   "metadata": {},
   "outputs": [
    {
     "name": "stdout",
     "output_type": "stream",
     "text": [
      "1140 1146\n",
      "1625 1631\n",
      "2012\n"
     ]
    },
    {
     "ename": "TypeError",
     "evalue": "'int' object is not callable",
     "output_type": "error",
     "traceback": [
      "\u001b[1;31m---------------------------------------------------------------------------\u001b[0m",
      "\u001b[1;31mTypeError\u001b[0m                                 Traceback (most recent call last)",
      "\u001b[1;32m<ipython-input-76-608ac8b98ff5>\u001b[0m in \u001b[0;36m<module>\u001b[1;34m\u001b[0m\n\u001b[0;32m     11\u001b[0m \u001b[0mprint\u001b[0m\u001b[1;33m(\u001b[0m\u001b[0mlen\u001b[0m\u001b[1;33m(\u001b[0m\u001b[0mlong_dna\u001b[0m\u001b[1;33m)\u001b[0m\u001b[1;33m)\u001b[0m\u001b[1;33m\u001b[0m\u001b[1;33m\u001b[0m\u001b[0m\n\u001b[0;32m     12\u001b[0m \u001b[1;33m\u001b[0m\u001b[0m\n\u001b[1;32m---> 13\u001b[1;33m \u001b[0mprint\u001b[0m\u001b[1;33m(\u001b[0m\u001b[0mrist_start\u001b[0m\u001b[1;33m(\u001b[0m\u001b[1;36m1\u001b[0m\u001b[1;33m)\u001b[0m\u001b[1;33m)\u001b[0m\u001b[1;33m\u001b[0m\u001b[1;33m\u001b[0m\u001b[0m\n\u001b[0m\u001b[0;32m     14\u001b[0m \u001b[1;33m\u001b[0m\u001b[0m\n\u001b[0;32m     15\u001b[0m \u001b[1;31m#split = re.split(\"A(A|T|G|C)TAAT\", dna)\u001b[0m\u001b[1;33m\u001b[0m\u001b[1;33m\u001b[0m\u001b[1;33m\u001b[0m\u001b[0m\n",
      "\u001b[1;31mTypeError\u001b[0m: 'int' object is not callable"
     ]
    }
   ],
   "source": [
    "long = open(\"long_dna.txt\")\n",
    "long_dna = long.read().rstrip('\\n')\n",
    "\n",
    "rist_site = re.finditer(\"A(A|T|G|C)TAAT\", long_dna)#using finditer in case there are multiple restriction sites \n",
    "\n",
    "for mo in rist_site:\n",
    "    rist_start = mo.start()#where it starts\n",
    "    rist_end = mo.end()\n",
    "    print(rist_start, rist_end) ##collect into list and print list?\n",
    "\n",
    "print(len(long_dna))\n",
    "\n",
    "#print(rist_start(1))\n",
    "\n",
    "#split = re.split(\"A(A|T|G|C)TAAT\", dna)\n",
    "#print(split)"
   ]
  },
  {
   "cell_type": "markdown",
   "metadata": {
    "colab_type": "text",
    "id": "a1xuRQJ9t7oh"
   },
   "source": [
    "### Super bonus exercise: many restriction enzymes\n",
    "\n",
    "The file *restriction_enzyme_data.txt* contains names and motifs for many different restriction enzymes, one per line. Each line has the name of the enzyme and its motif separated by a comma. In the motifs, forward slash indicates the cut position. Write a program that will take a DNA sequence and predict the fragment lengths when digested with each of these enzymes. You'll have to turn the motifs, which use ambiguity codes, into regular expressions. Use the file *ce1.txt* to test your program (it contains *C. elegans* chromosome one)."
   ]
  },
  {
   "cell_type": "code",
   "execution_count": null,
   "metadata": {},
   "outputs": [],
   "source": []
  }
 ],
 "metadata": {
  "anaconda-cloud": {},
  "colab": {
   "collapsed_sections": [],
   "name": "06 Regular expressions.ipynb",
   "provenance": []
  },
  "kernelspec": {
   "display_name": "Python 3",
   "language": "python",
   "name": "python3"
  },
  "language_info": {
   "codemirror_mode": {
    "name": "ipython",
    "version": 3
   },
   "file_extension": ".py",
   "mimetype": "text/x-python",
   "name": "python",
   "nbconvert_exporter": "python",
   "pygments_lexer": "ipython3",
   "version": "3.8.5"
  }
 },
 "nbformat": 4,
 "nbformat_minor": 1
}
