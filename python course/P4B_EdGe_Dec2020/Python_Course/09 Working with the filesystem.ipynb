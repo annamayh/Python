{
 "cells": [
  {
   "cell_type": "markdown",
   "metadata": {
    "colab_type": "text",
    "id": "aqOYxw_9kCRj"
   },
   "source": [
    "<h1 id=\"toctitle\">Working with the filesystem</h1>\n",
    "<ul id=\"toc\"/>"
   ]
  },
  {
   "cell_type": "markdown",
   "metadata": {
    "colab_type": "text",
    "id": "Y44LPEE6kCRl"
   },
   "source": [
    "## Working with files\n",
    "\n",
    "### About paths\n",
    "\n",
    "__File paths__ are the strings that we use to describe to Python where to find the files that we want. \n",
    "\n",
    "On Windows we are used to writing paths like this:\n",
    "\n",
    "`c:\\path\\to\\a\\file`\n",
    "\n",
    "but in Python, characters preceded by \\ often have a special meaning. To avoid this use / instead:\n",
    "\n",
    "`c:/path/to/a/file` #python is fine with either\n",
    "\n",
    "On Mac/Linux/Unix, use the / character as normal:\n",
    "\n",
    "`/home/martin/path/to/a/file`\n",
    "\n",
    "### Basic file manipulation\n",
    "\n",
    "**Note:** These code snippets are not provided as 'live' cells because they refer to hypothetical files which you probably don't have on your system.\n",
    "\n",
    "Functions for file manipulation live in the `os` module. Renaming files is straightforward:\n",
    "\n",
    "```python\n",
    "import os\n",
    "os.rename(\"old.txt\", \"new.txt\")\n",
    "os.rename(\"biology/old.txt\", \"biology/new.txt\")\n",
    "os.rename(\"old_folder\", \"new_folder\") #renames the first with the second\n",
    "```\n",
    "\n",
    "Moving files is the same as renaming them:\n",
    "\n",
    "```python\n",
    "os.rename(\"biology/old.txt\", \"python/old.txt\")\n",
    "```\n",
    "\n",
    "We can create a folder:\n",
    "\n",
    "```python\n",
    "os.mkdir(\"c:/martin/python\")\n",
    "```\n",
    "\n",
    "### Copying and trees\n",
    "\n",
    "For more advanced stuff, use the `shutil` module. \n",
    "\n",
    "Copying is different for a file:\n",
    "\n",
    "```python\n",
    "shutil.copy(\"original.txt\", \"copy.txt\")\n",
    "```\n",
    "\n",
    "vs a folder:\n",
    "\n",
    "```python\n",
    "shutil.copytree(\"original_folder\", \"copy_folder\")\n",
    "```\n",
    "\n",
    "We can check if a file or folder exists:\n",
    "\n",
    "```python\n",
    "if os.path.exists(\"c:/martin/email.txt\"):\n",
    "\t# do something\n",
    "```\n",
    "\n",
    "### Deleting stuff\n",
    "\n",
    "Deleting files is dangerous in Python - no take backs! Use different functions in increasing order of danger. \n",
    "\n",
    "Deleting a file:\n",
    "```python\n",
    "os.remove(\"c:/martin/unwanted_file.txt\")\n",
    "```\n",
    "\n",
    "Deleting an empty folder:\n",
    "```python\n",
    "os.rmdir(\"c:/martin/emtpy\")\n",
    "```\n",
    "\n",
    "Deleting a folder and all its contents:\n",
    "```python\n",
    "shutil.rmtree(\"c:/martin/full\")\n",
    "```\n",
    "\n",
    "### Listing folder contents\n",
    "\n",
    "With the `os` module we can list files and folders in the current working directory:\n",
    "\n",
    "```python\n",
    "for file_name in os.listdir(\".\"):\n",
    "    print(\"one file name is \" + file_name)\n",
    "```\n",
    "\n",
    "or in a different directory:\n",
    "\n",
    "```python\n",
    "for file_name in os.listdir(\"c:\\martin\"):\n",
    "    print(\"one file name is \" + file_name)\n",
    "```\n",
    "\n"
   ]
  },
  {
   "cell_type": "code",
   "execution_count": 2,
   "metadata": {
    "colab": {},
    "colab_type": "code",
    "id": "jA_rsHiTkCRm"
   },
   "outputs": [
    {
     "data": {
      "text/plain": [
       "['xaa.dna',\n",
       " 'xab.dna',\n",
       " 'xac.dna',\n",
       " 'xad.dna',\n",
       " 'xae.dna',\n",
       " 'xaf.dna',\n",
       " 'xag.dna',\n",
       " 'xah.dna',\n",
       " 'xai.dna',\n",
       " 'xaj.dna']"
      ]
     },
     "execution_count": 2,
     "metadata": {},
     "output_type": "execute_result"
    }
   ],
   "source": [
    "import os\n",
    "sorted(os.listdir('.'))#list of files in the CD \n",
    "sorted(os.listdir('dna_files'))#list files in folder"
   ]
  },
  {
   "cell_type": "markdown",
   "metadata": {
    "colab_type": "text",
    "id": "wNWkEAA5kCRs"
   },
   "source": [
    "## Running external programs\n",
    "\n",
    "Sometimes it's helpful to be able to run an exising program (e.g. an analysis tool e.g. BLAST) from within a Python program. \n",
    "\n",
    "To run a program and display the output on the terminal:\n",
    "\n",
    "```python\n",
    "import subprocess\n",
    "\n",
    "# run the standard Linux date program to print the current month\n",
    "subprocess.run(\"/bin/date +%B\", shell=True)\n",
    "```\n",
    "\n",
    "Note: This won't work within the Jupyter notebooks even if you are on Linux - the program runs but the terminal output gets lost.\n",
    "\n",
    "To run a program and capture the output into a string, use `stdout` and `universal_newlines` parameters:\n",
    "\n",
    "```python\n",
    "res = subprocess.run(\"/bin/date +%B\", shell=True, stdout=subprocess.PIPE, universal_newlines=True)\n",
    "month = res.stdout\n",
    "# month is, eg., 'September\\n'\n",
    "```\n",
    "\n",
    "Note that the stdout comes with newline characters, just as if it was `read()` from a file. Launching long-running programs or programs that produce a lot of output gets tricky, so beware."
   ]
  },
  {
   "cell_type": "markdown",
   "metadata": {
    "colab_type": "text",
    "id": "znxKaXRNkCRs"
   },
   "source": [
    "## Getting command line input\n",
    "\n",
    "\n",
    "\n",
    "```python\n",
    "# e.g. python3 myscript.py apple banana\n",
    "import sys\n",
    "print(sys.argv)      # ['myscript.py', 'apple', 'banana']\n",
    "first = sys.argv[1]  # apple\n",
    "second = sys.argv[2] # banana\n",
    "```\n",
    "\n",
    "Yes, that is \"argv\" not \"args\"! It comes from C programming and is short for \"argument vector\". This is only useful if you're working on the command line, not in Jupyter. "
   ]
  },
  {
   "cell_type": "markdown",
   "metadata": {
    "colab_type": "text",
    "id": "HaNxi8F5kCRt"
   },
   "source": [
    "## Exercises\n",
    "\n",
    "### Binning DNA sequences\n",
    "\n",
    "Inside the __dna_files__ folder is a collection of files that end in .dna . Each file holds a collection of DNA sequences, one per line. \n",
    "\n",
    "Write a program which creates 9 new files – one for sequences between 100 and 199 bases long, one for sequences between 200 and 299 bases long, etc. Write out each DNA sequence in the input files to the correct output file. You will have to:\n",
    "\n",
    " - get a list of all files in the folder\n",
    " - process the files one by one\n",
    " - process each file line by line\n",
    " - calculate the length of each line\n",
    " - figure out the correct output file for each line\n",
    " - create the output files in the right place\n",
    " - write the lines to the correct output file\n",
    " \n",
    "There's lots to think about for this exercise:\n",
    "\n",
    " - how will you make sure that you don't overwrite the output files with each new line?\n",
    " - how can you generate the bin sizes without lots of code?\n",
    " - how will you make sure you only process the right input files?\n",
    " "
   ]
  },
  {
   "cell_type": "code",
   "execution_count": 69,
   "metadata": {},
   "outputs": [
    {
     "name": "stdout",
     "output_type": "stream",
     "text": [
      "333\n",
      "283\n",
      "380\n",
      "115\n",
      "753\n",
      "764\n",
      "234\n",
      "117\n",
      "906\n",
      "160\n"
     ]
    }
   ],
   "source": [
    "file=open(\"dna_files/xaa.dna\")#file contains file object, want to read line by line not all at once\n",
    "#dna_strip=file.rstrip('\\n')\n",
    "#print(dna_strip)\n",
    "\n",
    "for i in file:\n",
    "    i=i.rstrip('\\n')\n",
    "    print(len(i))#can specify where to print using file=\n"
   ]
  },
  {
   "cell_type": "code",
   "execution_count": 71,
   "metadata": {},
   "outputs": [
    {
     "name": "stdout",
     "output_type": "stream",
     "text": [
      "333\n",
      "283\n",
      "380\n",
      "115\n",
      "753\n",
      "764\n",
      "234\n",
      "117\n",
      "906\n",
      "160\n",
      "833\n",
      "390\n",
      "355\n",
      "968\n",
      "999\n",
      "257\n",
      "909\n",
      "236\n",
      "943\n",
      "703\n",
      "665\n",
      "165\n",
      "677\n",
      "454\n",
      "426\n",
      "600\n",
      "177\n",
      "888\n",
      "535\n",
      "974\n",
      "949\n",
      "453\n",
      "988\n",
      "420\n",
      "767\n",
      "221\n",
      "316\n",
      "573\n",
      "231\n",
      "409\n",
      "600\n",
      "707\n",
      "853\n",
      "971\n",
      "279\n",
      "533\n",
      "452\n",
      "332\n",
      "990\n",
      "899\n",
      "242\n",
      "714\n",
      "291\n",
      "313\n",
      "926\n",
      "738\n",
      "516\n",
      "218\n",
      "558\n",
      "465\n",
      "432\n",
      "818\n",
      "604\n",
      "879\n",
      "619\n",
      "500\n",
      "119\n",
      "341\n",
      "303\n",
      "469\n",
      "575\n",
      "987\n",
      "141\n",
      "590\n",
      "833\n",
      "200\n",
      "539\n",
      "625\n",
      "363\n",
      "779\n",
      "317\n",
      "382\n",
      "324\n",
      "747\n",
      "353\n",
      "878\n",
      "692\n",
      "806\n",
      "118\n",
      "556\n",
      "121\n",
      "442\n",
      "520\n",
      "866\n",
      "969\n",
      "672\n",
      "138\n",
      "922\n",
      "652\n",
      "749\n"
     ]
    }
   ],
   "source": [
    "#### yay opening each file individually     \n",
    "for file_name in os.listdir(\"dna_files\"):\n",
    "    name=(\"dna_files/\"+file_name)\n",
    "    file=open(name)\n",
    "    for i in file:\n",
    "        i=i.rstrip('\\n')\n",
    "        print(len(i))\n",
    "    \n",
    "\n",
    "#print(dna_file_strip)"
   ]
  },
  {
   "cell_type": "code",
   "execution_count": null,
   "metadata": {},
   "outputs": [],
   "source": [
    "def len_to_file (seq, length):\n",
    "    if length >100 and <200:\n",
    "        print(seq, file=seq_100_199)\n",
    "    elif length >199 and <300\n",
    "        print(seq, file=seq_200_299)\n",
    "    elif length >299 and <400\n",
    "        print(seq, file=seq_200_299)\n",
    "    elif length >399 and <500\n",
    "        print(seq, file=seq_200_299)\n",
    "    elif length >499 and <600\n",
    "        print(seq, file=seq_200_299)\n",
    "    elif length >599 and <700\n",
    "        print(seq, file=seq_200_299)\n",
    "    elif length >699 and <800\n",
    "        print(seq, file=seq_200_299)\n"
   ]
  },
  {
   "cell_type": "markdown",
   "metadata": {
    "colab_type": "text",
    "id": "HaNxi8F5kCRt"
   },
   "source": [
    "### Kmer counting \n",
    "\n",
    "Write a program that will calculate the number of all kmers of a given length across all DNA sequences in the input files and display just the ones that occur more than a given number of times. You program should take two interactive arguments – the kmer length, and the cutoff number.  "
   ]
  },
  {
   "cell_type": "code",
   "execution_count": 70,
   "metadata": {},
   "outputs": [
    {
     "ename": "AttributeError",
     "evalue": "'_io.TextIOWrapper' object has no attribute 'rstrip'",
     "output_type": "error",
     "traceback": [
      "\u001b[1;31m---------------------------------------------------------------------------\u001b[0m",
      "\u001b[1;31mAttributeError\u001b[0m                            Traceback (most recent call last)",
      "\u001b[1;32m<ipython-input-70-f4756eac722f>\u001b[0m in \u001b[0;36m<module>\u001b[1;34m\u001b[0m\n\u001b[0;32m      3\u001b[0m     \u001b[0mname\u001b[0m\u001b[1;33m=\u001b[0m\u001b[1;33m(\u001b[0m\u001b[1;34m\"dna_files/\"\u001b[0m\u001b[1;33m+\u001b[0m\u001b[0mfile_name\u001b[0m\u001b[1;33m)\u001b[0m\u001b[1;33m\u001b[0m\u001b[1;33m\u001b[0m\u001b[0m\n\u001b[0;32m      4\u001b[0m     \u001b[0mfile\u001b[0m\u001b[1;33m=\u001b[0m\u001b[0mopen\u001b[0m\u001b[1;33m(\u001b[0m\u001b[0mname\u001b[0m\u001b[1;33m)\u001b[0m\u001b[1;33m\u001b[0m\u001b[1;33m\u001b[0m\u001b[0m\n\u001b[1;32m----> 5\u001b[1;33m     \u001b[0mdna_file_strip\u001b[0m\u001b[1;33m=\u001b[0m\u001b[0mfile\u001b[0m\u001b[1;33m.\u001b[0m\u001b[0mrstrip\u001b[0m\u001b[1;33m(\u001b[0m\u001b[1;34m'\\n'\u001b[0m\u001b[1;33m)\u001b[0m\u001b[1;33m\u001b[0m\u001b[1;33m\u001b[0m\u001b[0m\n\u001b[0m\u001b[0;32m      6\u001b[0m \u001b[1;33m\u001b[0m\u001b[0m\n\u001b[0;32m      7\u001b[0m \u001b[0mprint\u001b[0m\u001b[1;33m(\u001b[0m\u001b[0mdna_file_strip\u001b[0m\u001b[1;33m)\u001b[0m\u001b[1;33m\u001b[0m\u001b[1;33m\u001b[0m\u001b[0m\n",
      "\u001b[1;31mAttributeError\u001b[0m: '_io.TextIOWrapper' object has no attribute 'rstrip'"
     ]
    }
   ],
   "source": []
  }
 ],
 "metadata": {
  "colab": {
   "name": "08 Working with the filesystem.ipynb",
   "provenance": []
  },
  "kernelspec": {
   "display_name": "Python 3",
   "language": "python",
   "name": "python3"
  },
  "language_info": {
   "codemirror_mode": {
    "name": "ipython",
    "version": 3
   },
   "file_extension": ".py",
   "mimetype": "text/x-python",
   "name": "python",
   "nbconvert_exporter": "python",
   "pygments_lexer": "ipython3",
   "version": "3.8.5"
  }
 },
 "nbformat": 4,
 "nbformat_minor": 1
}
