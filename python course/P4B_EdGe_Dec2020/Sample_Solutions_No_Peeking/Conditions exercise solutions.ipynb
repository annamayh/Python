{
 "cells": [
  {
   "cell_type": "markdown",
   "metadata": {},
   "source": [
    "<h1 id=\"toctitle\">Conditions exercise solutions</h1>\n",
    "<ul id=\"toc\"/>"
   ]
  },
  {
   "cell_type": "markdown",
   "metadata": {},
   "source": [
    "## Processing tabular data\n",
    "\n",
    "Let's start with just opening the file and splitting it into different bits of data. Remember the column order:"
   ]
  },
  {
   "cell_type": "code",
   "execution_count": 1,
   "metadata": {
    "collapsed": false
   },
   "outputs": [
    {
     "name": "stdout",
     "output_type": "stream",
     "text": [
      "kdy647\n",
      "jdg766\n",
      "kdy533\n",
      "hdt739\n",
      "hdu045\n",
      "teg436\n"
     ]
    }
   ],
   "source": [
    "data = open(\"data.csv\") \n",
    "for line in data: \n",
    "\n",
    "    # split the line up\n",
    "    columns = line.rstrip(\"\\n\").split(\",\") \n",
    "\n",
    "    # assign the columns to variables \n",
    "    species = columns[0] \n",
    "    sequence = columns[1] \n",
    "    name = columns[2] \n",
    "    expression = columns[3] \n",
    "\n",
    "    print(name)"
   ]
  },
  {
   "cell_type": "markdown",
   "metadata": {},
   "source": [
    "Now add in the condition for the first bit of the exercise. It's yes/no; if the species name is _Drosophila melanogaster_ or _Drosophila simulans_ then we want to print the gene name. If not, we don't want to do anything. "
   ]
  },
  {
   "cell_type": "code",
   "execution_count": 2,
   "metadata": {
    "collapsed": false
   },
   "outputs": [
    {
     "name": "stdout",
     "output_type": "stream",
     "text": [
      "kdy647\n",
      "jdg766\n",
      "kdy533\n"
     ]
    }
   ],
   "source": [
    "data = open(\"data.csv\") \n",
    "for line in data: \n",
    "    columns = line.rstrip(\"\\n\").split(\",\") \n",
    "    species = columns[0] \n",
    "    sequence = columns[1] \n",
    "    name = columns[2] \n",
    "    expression = columns[3] \n",
    "\n",
    "    if species == \"Drosophila melanogaster\" or species == \"Drosophila simulans\": \n",
    "        print(name) "
   ]
  },
  {
   "cell_type": "markdown",
   "metadata": {},
   "source": [
    "For the next part of the exercise, what do we need to change? Only the condition - everything else is the same:"
   ]
  },
  {
   "cell_type": "code",
   "execution_count": 3,
   "metadata": {
    "collapsed": false
   },
   "outputs": [
    {
     "name": "stdout",
     "output_type": "stream",
     "text": [
      "kdy647\n",
      "teg436\n"
     ]
    }
   ],
   "source": [
    "data = open(\"data.csv\") \n",
    "for line in data: \n",
    "    columns = line.rstrip(\"\\n\").split(\",\") \n",
    "    species = columns[0] \n",
    "    sequence = columns[1] \n",
    "    name = columns[2] \n",
    "    expression = columns[3] \n",
    "\n",
    "    if len(sequence) > 90 and len(sequence) < 110: \n",
    "        print(name) "
   ]
  },
  {
   "cell_type": "markdown",
   "metadata": {},
   "source": [
    "For the AT content bit, we need to re-use code from earlier in the course. "
   ]
  },
  {
   "cell_type": "code",
   "execution_count": 4,
   "metadata": {
    "collapsed": false
   },
   "outputs": [
    {
     "name": "stdout",
     "output_type": "stream",
     "text": [
      "kdy647\n",
      "jdg766\n",
      "kdy533\n",
      "hdt739\n",
      "hdu045\n",
      "teg436\n"
     ]
    }
   ],
   "source": [
    "from __future__ import division\n",
    "\n",
    "data = open(\"data.csv\") \n",
    "for line in data: \n",
    "    columns = line.rstrip(\"\\n\").split(\",\") \n",
    "    species = columns[0] \n",
    "    sequence = columns[1] \n",
    "    name = columns[2] \n",
    "    expression = columns[3] \n",
    "    \n",
    "    at = ( sequence.count('A') + sequence.count('t') ) / len(sequence)\n",
    "\n",
    "    if at < 0.5 and expression > 200: \n",
    "        print(name) "
   ]
  },
  {
   "cell_type": "markdown",
   "metadata": {},
   "source": [
    "Hmm, this doesn't look right - too many names. Here's the problem:"
   ]
  },
  {
   "cell_type": "code",
   "execution_count": 5,
   "metadata": {
    "collapsed": false
   },
   "outputs": [
    {
     "data": {
      "text/plain": [
       "True"
      ]
     },
     "execution_count": 5,
     "metadata": {},
     "output_type": "execute_result"
    }
   ],
   "source": [
    "'50' > 200"
   ]
  },
  {
   "cell_type": "markdown",
   "metadata": {},
   "source": [
    "We are accidentally comparing a string and a number. We need to turn the expression level into a number so that we can correctly compare it:"
   ]
  },
  {
   "cell_type": "code",
   "execution_count": 15,
   "metadata": {
    "collapsed": false
   },
   "outputs": [
    {
     "name": "stdout",
     "output_type": "stream",
     "text": [
      "teg436\n"
     ]
    }
   ],
   "source": [
    "from __future__ import division\n",
    "\n",
    "data = open(\"data.csv\") \n",
    "for line in data: \n",
    "    columns = line.rstrip(\"\\n\").split(\",\") \n",
    "    species = columns[0] \n",
    "    sequence = columns[1] \n",
    "    name = columns[2] \n",
    "    expression = int(columns[3])\n",
    "    \n",
    "    at = ( sequence.count('a') + sequence.count('t') ) / len(sequence)\n",
    "\n",
    "    if at < 0.5 and expression > 200: \n",
    "        print(name) "
   ]
  },
  {
   "cell_type": "markdown",
   "metadata": {},
   "source": [
    "Now it works. \n",
    "\n",
    "The next bit requires a complex condition - be careful with the parentheses:"
   ]
  },
  {
   "cell_type": "code",
   "execution_count": 7,
   "metadata": {
    "collapsed": false
   },
   "outputs": [
    {
     "name": "stdout",
     "output_type": "stream",
     "text": [
      "kdy533\n",
      "hdt739\n",
      "hdu045\n"
     ]
    }
   ],
   "source": [
    "data = open(\"data.csv\") \n",
    "for line in data: \n",
    "    columns = line.rstrip(\"\\n\").split(\",\") \n",
    "    species = columns[0] \n",
    "    sequence = columns[1] \n",
    "    name = columns[2] \n",
    "    expression = columns[3] \n",
    "    if (name.startswith('k') or name.startswith('h')) and species != \"Drosophila melanogaster\": \n",
    "        print(name) "
   ]
  },
  {
   "cell_type": "markdown",
   "metadata": {},
   "source": [
    "We could also write the condition using `not`:\n",
    "\n",
    "```python\n",
    "if (name.startswith('k') or name.startswith('h')) and not species == \"Drosophila melanogaster\": \n",
    "```\n",
    "\n",
    "depending on what you think is easier to read.\n",
    "\n",
    "For the final part of the exercise, we have to switch from just using `if`. We have three options:"
   ]
  },
  {
   "cell_type": "code",
   "execution_count": 21,
   "metadata": {
    "collapsed": false
   },
   "outputs": [
    {
     "name": "stdout",
     "output_type": "stream",
     "text": [
      "kdy647 has a high AT content (0.724770642202)\n",
      "jdg766 has a medium AT content (0.564102564103)\n",
      "kdy533 has a medium AT content (0.533333333333)\n",
      "hdt739 has a low AT content (0.285714285714)\n",
      "hdu045 has a medium AT content (0.529914529915)\n",
      "teg436 has a medium AT content (0.459183673469)\n"
     ]
    }
   ],
   "source": [
    "from __future__ import division\n",
    "\n",
    "data = open(\"data.csv\") \n",
    "for line in data: \n",
    "    columns = line.rstrip(\"\\n\").split(\",\") \n",
    "    species = columns[0] \n",
    "    sequence = columns[1] \n",
    "    name = columns[2] \n",
    "    expression = int(columns[3])\n",
    "    \n",
    "    at = ( sequence.count('a') + sequence.count('t') ) / len(sequence)\n",
    "    \n",
    "    if at > 0.65:\n",
    "        print(name + \" has a high AT content (\" + str(at) + \")\")\n",
    "    elif at < 0.45:\n",
    "        print(name + \" has a low AT content (\" + str(at) + \")\")\n",
    "    else:\n",
    "        print(name + \" has a medium AT content (\" + str(at) + \")\")\n",
    "\n",
    "        "
   ]
  },
  {
   "cell_type": "markdown",
   "metadata": {},
   "source": [
    "## Pairwise distance\n",
    "\n",
    "First let's forget about pairs and just calculate the distance between two sequences. "
   ]
  },
  {
   "cell_type": "code",
   "execution_count": 22,
   "metadata": {
    "collapsed": true
   },
   "outputs": [],
   "source": [
    "seqA = 'ATTGTACGGA'\n",
    "seqB = 'AATGAACCGA'"
   ]
  },
  {
   "cell_type": "markdown",
   "metadata": {},
   "source": [
    "We want to look at each position in turn, so we'll use a range:"
   ]
  },
  {
   "cell_type": "code",
   "execution_count": 23,
   "metadata": {
    "collapsed": false
   },
   "outputs": [
    {
     "name": "stdout",
     "output_type": "stream",
     "text": [
      "looking at position 0\n",
      "looking at position 1\n",
      "looking at position 2\n",
      "looking at position 3\n",
      "looking at position 4\n",
      "looking at position 5\n",
      "looking at position 6\n",
      "looking at position 7\n",
      "looking at position 8\n",
      "looking at position 9\n"
     ]
    }
   ],
   "source": [
    "for position in range(len(seqA)):\n",
    "    print(\"looking at position \" + str(position))"
   ]
  },
  {
   "cell_type": "markdown",
   "metadata": {},
   "source": [
    "At each position, we want to grab the bases from both sequences:"
   ]
  },
  {
   "cell_type": "code",
   "execution_count": 24,
   "metadata": {
    "collapsed": false
   },
   "outputs": [
    {
     "name": "stdout",
     "output_type": "stream",
     "text": [
      "('A', 'A')\n",
      "('T', 'A')\n",
      "('T', 'T')\n",
      "('G', 'G')\n",
      "('T', 'A')\n",
      "('A', 'A')\n",
      "('C', 'C')\n",
      "('G', 'C')\n",
      "('G', 'G')\n",
      "('A', 'A')\n"
     ]
    }
   ],
   "source": [
    "for position in range(len(seqA)):\n",
    "    baseA = seqA[position]\n",
    "    baseB = seqB[position]\n",
    "    print(baseA, baseB)"
   ]
  },
  {
   "cell_type": "markdown",
   "metadata": {},
   "source": [
    "We check if they match:"
   ]
  },
  {
   "cell_type": "code",
   "execution_count": 27,
   "metadata": {
    "collapsed": false
   },
   "outputs": [
    {
     "name": "stdout",
     "output_type": "stream",
     "text": [
      "('A', 'A', 'match!')\n",
      "('T', 'A', 'no match!')\n",
      "('T', 'T', 'match!')\n",
      "('G', 'G', 'match!')\n",
      "('T', 'A', 'no match!')\n",
      "('A', 'A', 'match!')\n",
      "('C', 'C', 'match!')\n",
      "('G', 'C', 'no match!')\n",
      "('G', 'G', 'match!')\n",
      "('A', 'A', 'match!')\n"
     ]
    }
   ],
   "source": [
    "for position in range(len(seqA)):\n",
    "    baseA = seqA[position]\n",
    "    baseB = seqB[position]\n",
    "    if baseA == baseB:\n",
    "        print(baseA, baseB, \"match!\")\n",
    "    else:\n",
    "        print(baseA, baseB, \"no match!\")"
   ]
  },
  {
   "cell_type": "markdown",
   "metadata": {},
   "source": [
    "Now we add a running total to keep track of the matches"
   ]
  },
  {
   "cell_type": "code",
   "execution_count": 31,
   "metadata": {
    "collapsed": false
   },
   "outputs": [
    {
     "name": "stdout",
     "output_type": "stream",
     "text": [
      "('A', 'A', 'match!')\n",
      "(0, 1)\n",
      "('T', 'A', 'no match!')\n",
      "(1, 1)\n",
      "('T', 'T', 'match!')\n",
      "(2, 2)\n",
      "('G', 'G', 'match!')\n",
      "(3, 3)\n",
      "('T', 'A', 'no match!')\n",
      "(4, 3)\n",
      "('A', 'A', 'match!')\n",
      "(5, 4)\n",
      "('C', 'C', 'match!')\n",
      "(6, 5)\n",
      "('G', 'C', 'no match!')\n",
      "(7, 5)\n",
      "('G', 'G', 'match!')\n",
      "(8, 6)\n",
      "('A', 'A', 'match!')\n",
      "(9, 7)\n"
     ]
    }
   ],
   "source": [
    "matches = 0\n",
    "for position in range(len(seqA)):\n",
    "    baseA = seqA[position]\n",
    "    baseB = seqB[position]\n",
    "    if baseA == baseB:\n",
    "        matches = matches + 1\n",
    "        print(baseA, baseB, \"match!\")\n",
    "    else:\n",
    "        print(baseA, baseB, \"no match!\")\n",
    "    print(position, matches)"
   ]
  },
  {
   "cell_type": "markdown",
   "metadata": {},
   "source": [
    "To get the proportion of matching bases, we divide the number of matches by the length of the sequence:"
   ]
  },
  {
   "cell_type": "code",
   "execution_count": 34,
   "metadata": {
    "collapsed": false
   },
   "outputs": [
    {
     "name": "stdout",
     "output_type": "stream",
     "text": [
      "0.7\n"
     ]
    }
   ],
   "source": [
    "from __future__ import division\n",
    "\n",
    "matches = 0\n",
    "for position in range(len(seqA)):\n",
    "    baseA = seqA[position]\n",
    "    baseB = seqB[position]\n",
    "    if baseA == baseB:\n",
    "        matches = matches + 1\n",
    "match_proportion = matches/len(seqA)\n",
    "\n",
    "print(match_proportion)"
   ]
  },
  {
   "cell_type": "markdown",
   "metadata": {},
   "source": [
    "So in order to solve the problem, we need to try all possible pairs of sequences for `seqA` and `seqB`.\n",
    "\n",
    "The easiest way to generate pairs is to use two nested `for` loops:"
   ]
  },
  {
   "cell_type": "code",
   "execution_count": 35,
   "metadata": {
    "collapsed": false
   },
   "outputs": [
    {
     "name": "stdout",
     "output_type": "stream",
     "text": [
      "('a', 'a')\n",
      "('a', 'b')\n",
      "('a', 'c')\n",
      "('a', 'd')\n",
      "('b', 'a')\n",
      "('b', 'b')\n",
      "('b', 'c')\n",
      "('b', 'd')\n",
      "('c', 'a')\n",
      "('c', 'b')\n",
      "('c', 'c')\n",
      "('c', 'd')\n",
      "('d', 'a')\n",
      "('d', 'b')\n",
      "('d', 'c')\n",
      "('d', 'd')\n"
     ]
    }
   ],
   "source": [
    "letters = ['a', 'b', 'c', 'd']\n",
    "\n",
    "for l1 in letters:\n",
    "    for l2 in letters:\n",
    "        print(l1,l2)"
   ]
  },
  {
   "cell_type": "markdown",
   "metadata": {},
   "source": [
    "If we do the same for our sequences:"
   ]
  },
  {
   "cell_type": "code",
   "execution_count": 36,
   "metadata": {
    "collapsed": false
   },
   "outputs": [
    {
     "name": "stdout",
     "output_type": "stream",
     "text": [
      "('ATTGTACGGA', 'ATTGTACGGA')\n",
      "('ATTGTACGGA', 'AATGAACCGA')\n",
      "('ATTGTACGGA', 'AATGAACCCA')\n",
      "('ATTGTACGGA', 'AATGGGAATA')\n",
      "('AATGAACCGA', 'ATTGTACGGA')\n",
      "('AATGAACCGA', 'AATGAACCGA')\n",
      "('AATGAACCGA', 'AATGAACCCA')\n",
      "('AATGAACCGA', 'AATGGGAATA')\n",
      "('AATGAACCCA', 'ATTGTACGGA')\n",
      "('AATGAACCCA', 'AATGAACCGA')\n",
      "('AATGAACCCA', 'AATGAACCCA')\n",
      "('AATGAACCCA', 'AATGGGAATA')\n",
      "('AATGGGAATA', 'ATTGTACGGA')\n",
      "('AATGGGAATA', 'AATGAACCGA')\n",
      "('AATGGGAATA', 'AATGAACCCA')\n",
      "('AATGGGAATA', 'AATGGGAATA')\n"
     ]
    }
   ],
   "source": [
    "sequences = ['ATTGTACGGA', 'AATGAACCGA', 'AATGAACCCA', 'AATGGGAATA']\n",
    "for seqA in sequences:\n",
    "    for seqB in sequences:\n",
    "        print(seqA, seqB)"
   ]
  },
  {
   "cell_type": "markdown",
   "metadata": {},
   "source": [
    "Now we can plug in our distance code:"
   ]
  },
  {
   "cell_type": "code",
   "execution_count": 37,
   "metadata": {
    "collapsed": false
   },
   "outputs": [
    {
     "name": "stdout",
     "output_type": "stream",
     "text": [
      "('ATTGTACGGA', 'ATTGTACGGA', 1.0)\n",
      "('ATTGTACGGA', 'AATGAACCGA', 0.7)\n",
      "('ATTGTACGGA', 'AATGAACCCA', 0.6)\n",
      "('ATTGTACGGA', 'AATGGGAATA', 0.4)\n",
      "('AATGAACCGA', 'ATTGTACGGA', 0.7)\n",
      "('AATGAACCGA', 'AATGAACCGA', 1.0)\n",
      "('AATGAACCGA', 'AATGAACCCA', 0.9)\n",
      "('AATGAACCGA', 'AATGGGAATA', 0.5)\n",
      "('AATGAACCCA', 'ATTGTACGGA', 0.6)\n",
      "('AATGAACCCA', 'AATGAACCGA', 0.9)\n",
      "('AATGAACCCA', 'AATGAACCCA', 1.0)\n",
      "('AATGAACCCA', 'AATGGGAATA', 0.5)\n",
      "('AATGGGAATA', 'ATTGTACGGA', 0.4)\n",
      "('AATGGGAATA', 'AATGAACCGA', 0.5)\n",
      "('AATGGGAATA', 'AATGAACCCA', 0.5)\n",
      "('AATGGGAATA', 'AATGGGAATA', 1.0)\n"
     ]
    }
   ],
   "source": [
    "sequences = ['ATTGTACGGA', 'AATGAACCGA', 'AATGAACCCA', 'AATGGGAATA']\n",
    "for seqA in sequences:\n",
    "    for seqB in sequences:\n",
    "        \n",
    "        matches = 0\n",
    "        for position in range(len(seqA)):\n",
    "            baseA = seqA[position]\n",
    "            baseB = seqB[position]\n",
    "            if baseA == baseB:\n",
    "                matches = matches + 1\n",
    "        match_proportion = matches/len(seqA)\n",
    "        \n",
    "        print(seqA, seqB, match_proportion)"
   ]
  },
  {
   "cell_type": "markdown",
   "metadata": {},
   "source": [
    "There's no point comparing a sequence to itself:"
   ]
  },
  {
   "cell_type": "code",
   "execution_count": 38,
   "metadata": {
    "collapsed": false
   },
   "outputs": [
    {
     "name": "stdout",
     "output_type": "stream",
     "text": [
      "('ATTGTACGGA', 'AATGAACCGA', 0.7)\n",
      "('ATTGTACGGA', 'AATGAACCCA', 0.6)\n",
      "('ATTGTACGGA', 'AATGGGAATA', 0.4)\n",
      "('AATGAACCGA', 'ATTGTACGGA', 0.7)\n",
      "('AATGAACCGA', 'AATGAACCCA', 0.9)\n",
      "('AATGAACCGA', 'AATGGGAATA', 0.5)\n",
      "('AATGAACCCA', 'ATTGTACGGA', 0.6)\n",
      "('AATGAACCCA', 'AATGAACCGA', 0.9)\n",
      "('AATGAACCCA', 'AATGGGAATA', 0.5)\n",
      "('AATGGGAATA', 'ATTGTACGGA', 0.4)\n",
      "('AATGGGAATA', 'AATGAACCGA', 0.5)\n",
      "('AATGGGAATA', 'AATGAACCCA', 0.5)\n"
     ]
    }
   ],
   "source": [
    "sequences = ['ATTGTACGGA', 'AATGAACCGA', 'AATGAACCCA', 'AATGGGAATA']\n",
    "for seqA in sequences:\n",
    "    for seqB in sequences:\n",
    "        if seqA != seqB:\n",
    "\n",
    "            matches = 0\n",
    "            for position in range(len(seqA)):\n",
    "                baseA = seqA[position]\n",
    "                baseB = seqB[position]\n",
    "                if baseA == baseB:\n",
    "                    matches = matches + 1\n",
    "            match_proportion = matches/len(seqA)\n",
    "\n",
    "            print(seqA, seqB, match_proportion)"
   ]
  },
  {
   "cell_type": "markdown",
   "metadata": {},
   "source": [
    "We can also avoid comparing sequences both ways: this is more complicated because we have to switch to using ranges to refer to the index of the elements in the list:"
   ]
  },
  {
   "cell_type": "code",
   "execution_count": 44,
   "metadata": {
    "collapsed": false
   },
   "outputs": [
    {
     "name": "stdout",
     "output_type": "stream",
     "text": [
      "(0, 1)\n",
      "(0, 2)\n",
      "(0, 3)\n",
      "(1, 2)\n",
      "(1, 3)\n",
      "(2, 3)\n"
     ]
    }
   ],
   "source": [
    "letters = ['a', 'b', 'c', 'd']\n",
    "for index1 in range(len(letters)):\n",
    "    for index2 in range(index1+1, len(letters)):\n",
    "        print(index1, index2)"
   ]
  },
  {
   "cell_type": "code",
   "execution_count": null,
   "metadata": {
    "collapsed": true
   },
   "outputs": [],
   "source": []
  },
  {
   "cell_type": "markdown",
   "metadata": {},
   "source": [
    "This gives us the positions of the element pairs we want. Now we switch to the elements themselves:"
   ]
  },
  {
   "cell_type": "code",
   "execution_count": 45,
   "metadata": {
    "collapsed": false
   },
   "outputs": [
    {
     "name": "stdout",
     "output_type": "stream",
     "text": [
      "('a', 'b')\n",
      "('a', 'c')\n",
      "('a', 'd')\n",
      "('b', 'c')\n",
      "('b', 'd')\n",
      "('c', 'd')\n"
     ]
    }
   ],
   "source": [
    "letters = ['a', 'b', 'c', 'd']\n",
    "for index1 in range(len(letters)):\n",
    "    for index2 in range(index1+1, len(letters)):\n",
    "        l1 = letters[index1]\n",
    "        l2 = letters[index2]\n",
    "        print(l1, l2)"
   ]
  },
  {
   "cell_type": "markdown",
   "metadata": {},
   "source": [
    "Plugging the same logic into our sequences code:"
   ]
  },
  {
   "cell_type": "code",
   "execution_count": 46,
   "metadata": {
    "collapsed": false
   },
   "outputs": [
    {
     "name": "stdout",
     "output_type": "stream",
     "text": [
      "('ATTGTACGGA', 'AATGAACCGA', 0.7)\n",
      "('ATTGTACGGA', 'AATGAACCCA', 0.6)\n",
      "('ATTGTACGGA', 'AATGGGAATA', 0.4)\n",
      "('AATGAACCGA', 'AATGAACCCA', 0.9)\n",
      "('AATGAACCGA', 'AATGGGAATA', 0.5)\n",
      "('AATGAACCCA', 'AATGGGAATA', 0.5)\n"
     ]
    }
   ],
   "source": [
    "sequences = ['ATTGTACGGA', 'AATGAACCGA', 'AATGAACCCA', 'AATGGGAATA']\n",
    "for index1 in range(len(sequences)):\n",
    "    for index2 in range(index1+1, len(sequences)):\n",
    "        seqA = sequences[index1]\n",
    "        seqB = sequences[index2]\n",
    "        matches = 0\n",
    "        for position in range(len(seqA)):\n",
    "            baseA = seqA[position]\n",
    "            baseB = seqB[position]\n",
    "            if baseA == baseB:\n",
    "                matches = matches + 1\n",
    "        match_proportion = matches/len(seqA)\n",
    "\n",
    "        print(seqA, seqB, match_proportion)"
   ]
  },
  {
   "cell_type": "markdown",
   "metadata": {},
   "source": [
    "We will be able to make this much easier to read once we learn how to write our own functions."
   ]
  },
  {
   "cell_type": "markdown",
   "metadata": {},
   "source": [
    "## Kmer counting\n",
    "\n",
    "Given a DNA sequence:"
   ]
  },
  {
   "cell_type": "code",
   "execution_count": 47,
   "metadata": {
    "collapsed": true
   },
   "outputs": [],
   "source": [
    "dna=\"ATGCATCATG\""
   ]
  },
  {
   "cell_type": "markdown",
   "metadata": {},
   "source": [
    "and a given kmer, we know how to count the number of times it occurs:"
   ]
  },
  {
   "cell_type": "code",
   "execution_count": 48,
   "metadata": {
    "collapsed": false
   },
   "outputs": [
    {
     "data": {
      "text/plain": [
       "3"
      ]
     },
     "execution_count": 48,
     "metadata": {},
     "output_type": "execute_result"
    }
   ],
   "source": [
    "dna.count('AT')"
   ]
  },
  {
   "cell_type": "markdown",
   "metadata": {},
   "source": [
    "So the problem is just: how do we check all the kmers in turn? There are two options. \n",
    "\n",
    "One is to try each possible kmer of length k one after another. This is a bad idea, because:\n",
    "\n",
    "- it will take a very long time when k is big, and most of the counts will be zero\n",
    "- the code to do this is actually quite difficult\n",
    "\n",
    "The second option is to just look at the kmers that are in the DNA sequence. It's exactly the same problem as the sliding window example from before:"
   ]
  },
  {
   "cell_type": "code",
   "execution_count": 50,
   "metadata": {
    "collapsed": false
   },
   "outputs": [
    {
     "name": "stdout",
     "output_type": "stream",
     "text": [
      "AT\n",
      " TG\n",
      "  GC\n",
      "   CA\n",
      "    AT\n",
      "     TC\n",
      "      CA\n",
      "       AT\n",
      "        TG\n"
     ]
    }
   ],
   "source": [
    "window_size = 2\n",
    "for start in range(len(dna) - window_size + 1):\n",
    "    stop = start + window_size\n",
    "    window = dna[start:stop]\n",
    "    print (' ' * start) + window"
   ]
  },
  {
   "cell_type": "markdown",
   "metadata": {},
   "source": [
    "We can re-use this code to get a list of all kmers in the DNA sequence. Change the name of the variables to better reflect the problem:"
   ]
  },
  {
   "cell_type": "code",
   "execution_count": 51,
   "metadata": {
    "collapsed": false
   },
   "outputs": [
    {
     "name": "stdout",
     "output_type": "stream",
     "text": [
      "['AT', 'TG', 'GC', 'CA', 'AT', 'TC', 'CA', 'AT', 'TG']\n"
     ]
    }
   ],
   "source": [
    "dna=\"ATGCATCATG\"\n",
    "k = 2\n",
    "kmers = []\n",
    "\n",
    "for start in range(len(dna) - k + 1):\n",
    "    stop = start + k\n",
    "    kmer = dna[start:stop]\n",
    "    kmers.append(kmer)\n",
    "\n",
    "print(kmers)"
   ]
  },
  {
   "cell_type": "markdown",
   "metadata": {},
   "source": [
    "Now we can just loop over the list of kmers, count each one, and print if it occurs more than n times:"
   ]
  },
  {
   "cell_type": "code",
   "execution_count": 52,
   "metadata": {
    "collapsed": false
   },
   "outputs": [
    {
     "name": "stdout",
     "output_type": "stream",
     "text": [
      "AT\n",
      "AT\n",
      "AT\n"
     ]
    }
   ],
   "source": [
    "dna=\"ATGCATCATG\"\n",
    "k = 2\n",
    "n = 2\n",
    "kmers = []\n",
    "\n",
    "for start in range(len(dna) - k + 1):\n",
    "    stop = start + k\n",
    "    kmer = dna[start:stop]\n",
    "    kmers.append(kmer)\n",
    "    \n",
    "for kmer in kmers:\n",
    "    if dna.count(kmer) > n:\n",
    "        print(kmer)"
   ]
  },
  {
   "cell_type": "markdown",
   "metadata": {},
   "source": [
    "Now the problem is that we get the same kmer multiple times. One solution is to only add a kmer to the list if it's not already in there:"
   ]
  },
  {
   "cell_type": "code",
   "execution_count": 1,
   "metadata": {
    "collapsed": false
   },
   "outputs": [
    {
     "name": "stdout",
     "output_type": "stream",
     "text": [
      "AT\n"
     ]
    }
   ],
   "source": [
    "dna=\"ATGCATCATG\"\n",
    "k = 2\n",
    "n = 2\n",
    "kmers = []\n",
    "\n",
    "for start in range(len(dna) - k + 1):\n",
    "    stop = start + k\n",
    "    kmer = dna[start:stop]\n",
    "    if kmer not in kmers:\n",
    "        kmers.append(kmer)\n",
    "    \n",
    "for kmer in kmers:\n",
    "    if dna.count(kmer) > n:\n",
    "        print(kmer)"
   ]
  },
  {
   "cell_type": "code",
   "execution_count": 1,
   "metadata": {
    "collapsed": false
   },
   "outputs": [
    {
     "data": {
      "application/javascript": [
       "\n",
       "function regentoc() {\n",
       "    document.getElementById(\"toc\").innerHTML = \"\";\n",
       "    var currenth2 = 0;\n",
       "    $(\"h2,h3\").not(\"#Contents\").each(function(mainIndex) {\n",
       "        el = $(this);\n",
       "        title = el.attr(\"id\");\n",
       "        text = el.html();\n",
       "        link = \"#\" + el.attr(\"id\");\n",
       "        if ( document.getElementById(title).tagName == \"H2\" ) {\n",
       "            currenth2 += 1;\n",
       "            newLine =\n",
       "                \"<li class='maintoc'>\" +\n",
       "                   \"<a href='\" + link + \"'>\" + text + \"</a>\" +\n",
       "                \"</li>\" +\n",
       "                \"<ul id='h2\" + currenth2 + \"'></ul>\";\n",
       "            document.getElementById(\"toc\").innerHTML += newLine;\n",
       "        } else if ( document.getElementById(title).tagName==\"H3\" ) {\n",
       "            h1list = document.getElementById(\"h2\"+currenth2);\n",
       "            newLine = \"<li class='subtoc'>\" + \"<a href='\" + link + \"'>\" + text + \"</a>\" + \"</li>\";\n",
       "            h1list.innerHTML += newLine;\n",
       "        }\n",
       "    });\n",
       "}\n",
       " \n",
       "setInterval(regentoc,1000);\n"
      ],
      "text/plain": [
       "<IPython.core.display.Javascript object>"
      ]
     },
     "execution_count": 1,
     "metadata": {},
     "output_type": "execute_result"
    }
   ],
   "source": [
    "# ignore this cell, it's for loading custom js code\n",
    "from IPython.core.display import Javascript\n",
    "Javascript(filename=\"custom.js\")"
   ]
  },
  {
   "cell_type": "code",
   "execution_count": 2,
   "metadata": {
    "collapsed": false
   },
   "outputs": [
    {
     "data": {
      "text/html": [
       "<style>\n",
       "div.output_text{\n",
       "        max-height:400px;\n",
       "        overflow:scroll;\n",
       "}\n",
       "\n",
       "div#notebook {\n",
       "  font-family: 'PT Serif' !important;\n",
       "} \n",
       "\n",
       "div.CodeMirror, div.output_area pre, div.output_wrapper, div.prompt {\n",
       "  font-family: 'Source Code Pro', monospace !important;\n",
       "}\n",
       "\n",
       ".output_text {\n",
       "  background-color: #f0f0f0;\n",
       "}\n",
       "\n",
       "\n",
       ".prompt { display: none; }\n",
       "div.output_subarea { max-width: calc(100%); }\n",
       "</style>\n",
       "\n"
      ],
      "text/plain": [
       "<IPython.core.display.HTML object>"
      ]
     },
     "execution_count": 2,
     "metadata": {},
     "output_type": "execute_result"
    }
   ],
   "source": [
    "# ignore this cell, it's for loading custom css code\n",
    "from IPython.core.display import HTML\n",
    "HTML(filename=\"custom.css\")"
   ]
  },
  {
   "cell_type": "code",
   "execution_count": null,
   "metadata": {
    "collapsed": true
   },
   "outputs": [],
   "source": []
  }
 ],
 "metadata": {
  "kernelspec": {
   "display_name": "Python 2",
   "language": "python",
   "name": "python2"
  },
  "language_info": {
   "codemirror_mode": {
    "name": "ipython",
    "version": 2
   },
   "file_extension": ".py",
   "mimetype": "text/x-python",
   "name": "python",
   "nbconvert_exporter": "python",
   "pygments_lexer": "ipython2",
   "version": "2.7.6"
  }
 },
 "nbformat": 4,
 "nbformat_minor": 0
}
