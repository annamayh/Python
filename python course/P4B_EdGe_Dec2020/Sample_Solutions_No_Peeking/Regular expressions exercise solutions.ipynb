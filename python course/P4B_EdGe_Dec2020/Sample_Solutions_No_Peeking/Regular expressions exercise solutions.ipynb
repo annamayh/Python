{
 "cells": [
  {
   "cell_type": "markdown",
   "metadata": {},
   "source": [
    "<h1 id=\"toctitle\">Exercise solutions</h1>\n",
    "<ul id=\"toc\"/>"
   ]
  },
  {
   "cell_type": "markdown",
   "metadata": {},
   "source": [
    "## Accession names, again\n",
    "\n",
    "The bulk of the work here will be coming up with patterns to describe the various criteria. Here's a skeleton program that will create a list to hold the accession numbers and loop over them:"
   ]
  },
  {
   "cell_type": "code",
   "execution_count": 1,
   "metadata": {
    "collapsed": false
   },
   "outputs": [
    {
     "name": "stdout",
     "output_type": "stream",
     "text": [
      "xkn59438\n",
      "yhdck2\n",
      "eihd39d9\n",
      "chdsye847\n",
      "hedle3455\n",
      "xjhd53e\n",
      "45da\n",
      "de37dp\n"
     ]
    }
   ],
   "source": [
    "import re\n",
    "accs = [\"xkn59438\", \"yhdck2\", \"eihd39d9\", \"chdsye847\", \"hedle3455\", \"xjhd53e\", \"45da\", \"de37dp\"]\n",
    "for acc in accs:\n",
    "    print(acc)"
   ]
  },
  {
   "cell_type": "markdown",
   "metadata": {},
   "source": [
    "The first criterion is easy - the pattern we are looking for is just the number `5`:"
   ]
  },
  {
   "cell_type": "code",
   "execution_count": 2,
   "metadata": {
    "collapsed": false
   },
   "outputs": [
    {
     "name": "stdout",
     "output_type": "stream",
     "text": [
      "\txkn59438\n",
      "\thedle3455\n",
      "\txjhd53e\n",
      "\t45da\n"
     ]
    }
   ],
   "source": [
    "for acc in accs: \n",
    "    if re.search(\"5\", acc): \n",
    "        print(\"\\t\" + acc)"
   ]
  },
  {
   "cell_type": "markdown",
   "metadata": {},
   "source": [
    "Next, accessions that contain `d` or `e`. The easiest way to solve this is probably with alternation:"
   ]
  },
  {
   "cell_type": "code",
   "execution_count": 3,
   "metadata": {
    "collapsed": false
   },
   "outputs": [
    {
     "name": "stdout",
     "output_type": "stream",
     "text": [
      "\tyhdck2\n",
      "\teihd39d9\n",
      "\tchdsye847\n",
      "\thedle3455\n",
      "\txjhd53e\n",
      "\t45da\n",
      "\tde37dp\n"
     ]
    }
   ],
   "source": [
    "for acc in accs: \n",
    "    if re.search(\"(d|e)\", acc): \n",
    "        print(\"\\t\" + acc) "
   ]
  },
  {
   "cell_type": "markdown",
   "metadata": {},
   "source": [
    "For accessions that contain both `d` and `e` in that order we can't use an alternation because we need __both__ letters. We can express it like this: `d`, followed by any character repeated any number of times, followed by `e`:"
   ]
  },
  {
   "cell_type": "code",
   "execution_count": 4,
   "metadata": {
    "collapsed": false
   },
   "outputs": [
    {
     "name": "stdout",
     "output_type": "stream",
     "text": [
      "\tchdsye847\n",
      "\thedle3455\n",
      "\txjhd53e\n",
      "\tde37dp\n"
     ]
    }
   ],
   "source": [
    "for acc in accs: \n",
    "    if re.search(\"d.*e\", acc): \n",
    "        print(\"\\t\" + acc) "
   ]
  },
  {
   "cell_type": "markdown",
   "metadata": {},
   "source": [
    "We can use a very similar pattern for the next problem: `d` and `e` separated by any single letter:"
   ]
  },
  {
   "cell_type": "code",
   "execution_count": 5,
   "metadata": {
    "collapsed": false
   },
   "outputs": [
    {
     "name": "stdout",
     "output_type": "stream",
     "text": [
      "\thedle3455\n"
     ]
    }
   ],
   "source": [
    "for acc in accs: \n",
    "    if re.search(\"(d.e)\", acc): \n",
    "        print(\"\\t\" + acc) "
   ]
  },
  {
   "cell_type": "markdown",
   "metadata": {},
   "source": [
    "The next one is surprisingly tricky. If we re-frame it as `d` followed by anything followed by `e` __or__ `e` followed by anything followed by `d`, it becomes a bit clearer:"
   ]
  },
  {
   "cell_type": "code",
   "execution_count": 6,
   "metadata": {
    "collapsed": false
   },
   "outputs": [
    {
     "name": "stdout",
     "output_type": "stream",
     "text": [
      "\teihd39d9\n",
      "\tchdsye847\n",
      "\thedle3455\n",
      "\txjhd53e\n",
      "\tde37dp\n"
     ]
    }
   ],
   "source": [
    "for acc in accs: \n",
    "    if re.search(\"d.*e\", acc) or re.search(\"e.*d\", acc): \n",
    "        print(\"\\t\" + acc) "
   ]
  },
  {
   "cell_type": "markdown",
   "metadata": {},
   "source": [
    "To find accessions that start with either `x` or `y`, we need to combine an alternation with a start-of-string anchor:"
   ]
  },
  {
   "cell_type": "code",
   "execution_count": 7,
   "metadata": {
    "collapsed": false
   },
   "outputs": [
    {
     "name": "stdout",
     "output_type": "stream",
     "text": [
      "\txkn59438\n",
      "\tyhdck2\n",
      "\txjhd53e\n"
     ]
    }
   ],
   "source": [
    "for acc in accs: \n",
    "    if re.search(\"^(x|y)\", acc): \n",
    "        print(\"\\t\" + acc) "
   ]
  },
  {
   "cell_type": "markdown",
   "metadata": {},
   "source": [
    "We can modify this quite easily to add the requirement that the accession ends with `e`. Watch out for the bit in the middle - it has to match anything, any number of times:"
   ]
  },
  {
   "cell_type": "code",
   "execution_count": 8,
   "metadata": {
    "collapsed": false
   },
   "outputs": [
    {
     "name": "stdout",
     "output_type": "stream",
     "text": [
      "\txjhd53e\n"
     ]
    }
   ],
   "source": [
    "for acc in accs: \n",
    "    if re.search(\"^(x|y).*e$\", acc): \n",
    "        print(\"\\t\" + acc) "
   ]
  },
  {
   "cell_type": "markdown",
   "metadata": {},
   "source": [
    "To match three or more numbers in a row, we need a more specific quantifier – the curly brackets – and a character group which contains all the numbers:"
   ]
  },
  {
   "cell_type": "code",
   "execution_count": 9,
   "metadata": {
    "collapsed": false
   },
   "outputs": [
    {
     "name": "stdout",
     "output_type": "stream",
     "text": [
      "\txkn59438\n",
      "\tchdsye847\n",
      "\thedle3455\n"
     ]
    }
   ],
   "source": [
    "for acc in accs: \n",
    "    if re.search(\"[0123456789]{3,}\", acc): \n",
    "        print(\"\\t\" + acc) "
   ]
  },
  {
   "cell_type": "markdown",
   "metadata": {},
   "source": [
    "or we can use a shortcut, `\\d` means any digit:"
   ]
  },
  {
   "cell_type": "code",
   "execution_count": 10,
   "metadata": {
    "collapsed": false
   },
   "outputs": [
    {
     "name": "stdout",
     "output_type": "stream",
     "text": [
      "\txkn59438\n",
      "\tchdsye847\n",
      "\thedle3455\n"
     ]
    }
   ],
   "source": [
    "for acc in accs: \n",
    "    if re.search(\"\\d{3,}\", acc): \n",
    "        print(\"\\t\" + acc) "
   ]
  },
  {
   "cell_type": "markdown",
   "metadata": {},
   "source": [
    "The last one uses a character group and an end-of-string anchor:"
   ]
  },
  {
   "cell_type": "code",
   "execution_count": 11,
   "metadata": {
    "collapsed": false
   },
   "outputs": [
    {
     "name": "stdout",
     "output_type": "stream",
     "text": [
      "\t45da\n",
      "\tde37dp\n"
     ]
    }
   ],
   "source": [
    "for acc in accs: \n",
    "    if re.search(\"d[arp]$\", acc): \n",
    "        print(\"\\t\" + acc) "
   ]
  },
  {
   "cell_type": "markdown",
   "metadata": {},
   "source": [
    "## Double digest\n",
    "\n",
    "Let's write a pattern for the enyme Abc1. `N` means any base, so the pattern is\n",
    "\n",
    "`A[ATGC]TAAT`\n",
    "\n",
    "We can use `re.finditer()` to find the start of all the cut sites:"
   ]
  },
  {
   "cell_type": "code",
   "execution_count": 12,
   "metadata": {
    "collapsed": false
   },
   "outputs": [
    {
     "name": "stdout",
     "output_type": "stream",
     "text": [
      "AbcI cuts at:\n",
      "1140\n",
      "1625\n"
     ]
    }
   ],
   "source": [
    "dna = open(\"long_dna.txt\").read().rstrip(\"\\n\") \n",
    "\n",
    "print(\"AbcI cuts at:\") \n",
    "for match in re.finditer(\"A[ATGC]TAAT\", dna): \n",
    "    print(match.start()) "
   ]
  },
  {
   "cell_type": "markdown",
   "metadata": {},
   "source": [
    "Be careful though, the cut position is actually three base pairs upstream of the match:"
   ]
  },
  {
   "cell_type": "code",
   "execution_count": 13,
   "metadata": {
    "collapsed": false
   },
   "outputs": [
    {
     "name": "stdout",
     "output_type": "stream",
     "text": [
      "AbcI cuts at:\n",
      "1143\n",
      "1628\n"
     ]
    }
   ],
   "source": [
    "dna = open(\"long_dna.txt\").read().rstrip(\"\\n\") \n",
    "\n",
    "print(\"AbcI cuts at:\") \n",
    "for match in re.finditer(\"A[ATGC]TAAT\", dna): \n",
    "    print(match.start() + 3) "
   ]
  },
  {
   "cell_type": "markdown",
   "metadata": {},
   "source": [
    "Once we've got the cut positions, how to calculate the sizes? Measure the distance from the current cut site to the previous one (or to the start of the sequence):"
   ]
  },
  {
   "cell_type": "code",
   "execution_count": 14,
   "metadata": {
    "collapsed": false
   },
   "outputs": [
    {
     "name": "stdout",
     "output_type": "stream",
     "text": [
      "fragment size is 1143\n",
      "fragment size is 485\n"
     ]
    }
   ],
   "source": [
    "dna = open(\"long_dna.txt\").read().rstrip(\"\\n\") \n",
    "\n",
    "last_cut = 0\n",
    "for match in re.finditer(\"A[ATGC]TAAT\", dna): \n",
    "    cut_position = match.start() + 3\n",
    "    fragment_size = cut_position - last_cut\n",
    "    print(\"fragment size is \" + str(fragment_size))\n",
    "    last_cut = cut_position"
   ]
  },
  {
   "cell_type": "markdown",
   "metadata": {},
   "source": [
    "Notice how the current cut position becomes the last cut position for the next iteration. We also have to remember the last fragment, from the last cut to the end:"
   ]
  },
  {
   "cell_type": "code",
   "execution_count": 15,
   "metadata": {
    "collapsed": false
   },
   "outputs": [
    {
     "name": "stdout",
     "output_type": "stream",
     "text": [
      "fragment size is 1143\n",
      "fragment size is 485\n",
      "fragment size is 384\n"
     ]
    }
   ],
   "source": [
    "dna = open(\"long_dna.txt\").read().rstrip(\"\\n\") \n",
    "\n",
    "last_cut = 0\n",
    "for match in re.finditer(\"A[ATGC]TAAT\", dna): \n",
    "    cut_position = match.start() + 3\n",
    "    fragment_size = cut_position - last_cut\n",
    "    print(\"fragment size is \" + str(fragment_size))\n",
    "    last_cut = cut_position\n",
    "    \n",
    "# now the last fragment\n",
    "fragment_size = len(dna) - last_cut\n",
    "print(\"fragment size is \" + str(fragment_size))"
   ]
  },
  {
   "cell_type": "markdown",
   "metadata": {},
   "source": [
    "Doing the same for two enzymes is trickier. We need to change our strategy. First, make a big list of all the cut positions for both enzymes:"
   ]
  },
  {
   "cell_type": "code",
   "execution_count": 17,
   "metadata": {
    "collapsed": false
   },
   "outputs": [
    {
     "name": "stdout",
     "output_type": "stream",
     "text": [
      "[1143, 1628, 488, 1577]\n"
     ]
    }
   ],
   "source": [
    "all_cuts = []\n",
    "# add cut positions for AbcI \n",
    "for match in re.finditer(\"A[ATGC]TAAT\", dna): \n",
    "    all_cuts.append(match.start() + 3) \n",
    " \n",
    "# add cut positions for AbcII \n",
    "for match in re.finditer(\"GC[AG][AT]TG\", dna): \n",
    "    all_cuts.append(match.start() + 4) \n",
    "\n",
    "print(all_cuts)"
   ]
  },
  {
   "cell_type": "markdown",
   "metadata": {},
   "source": [
    "These aren't in the right order, so we have to sort them:"
   ]
  },
  {
   "cell_type": "code",
   "execution_count": 20,
   "metadata": {
    "collapsed": false
   },
   "outputs": [
    {
     "data": {
      "text/plain": [
       "[488, 1143, 1577, 1628]"
      ]
     },
     "execution_count": 20,
     "metadata": {},
     "output_type": "execute_result"
    }
   ],
   "source": [
    "all_cuts.sort()\n",
    "all_cuts"
   ]
  },
  {
   "cell_type": "markdown",
   "metadata": {},
   "source": [
    "Now we can go through the list of all cuts with the same logic:"
   ]
  },
  {
   "cell_type": "code",
   "execution_count": 22,
   "metadata": {
    "collapsed": false
   },
   "outputs": [
    {
     "name": "stdout",
     "output_type": "stream",
     "text": [
      "fragment size is 488\n",
      "fragment size is 655\n",
      "fragment size is 434\n",
      "fragment size is 51\n",
      "fragment size is 384\n"
     ]
    }
   ],
   "source": [
    "last_cut = 0\n",
    "for cut_position in all_cuts:\n",
    "    fragment_size = cut_position - last_cut\n",
    "    print(\"fragment size is \" + str(fragment_size))\n",
    "    last_cut = cut_position\n",
    "    \n",
    "# now the last fragment\n",
    "fragment_size = len(dna) - last_cut\n",
    "print(\"fragment size is \" + str(fragment_size))"
   ]
  },
  {
   "cell_type": "markdown",
   "metadata": {
    "collapsed": true
   },
   "source": [
    "## Super bonus exercise\n",
    "\n",
    "This is going to be complicated, so let's start by taking the bit we already wrote above and turning it into a function. Our function will take a single DNA sequence, a single motif regular expression, and an offset telling us how far upstream of the start of the motif the enzyme cuts, and will return a list of fragment lengths:"
   ]
  },
  {
   "cell_type": "code",
   "execution_count": 19,
   "metadata": {
    "collapsed": true
   },
   "outputs": [],
   "source": [
    "import re\n",
    "\n",
    "def get_fragment_lengths(dna, motif, offset):\n",
    "\n",
    "    fragment_lengths = []\n",
    "    \n",
    "    last_cut = 0\n",
    "    for match in re.finditer(motif, dna): \n",
    "        cut_position = match.start() + offset\n",
    "        fragment_size = cut_position - last_cut\n",
    "        fragment_lengths.append(fragment_size)\n",
    "        last_cut = cut_position\n",
    "\n",
    "    # now the last fragment\n",
    "    fragment_size = len(dna) - last_cut\n",
    "    fragment_lengths.append(fragment_size)\n",
    "    \n",
    "    return fragment_lengths"
   ]
  },
  {
   "cell_type": "markdown",
   "metadata": {},
   "source": [
    "Let's test it by re-running our Abc1 example from the previous exercise and making sure we get the same result:"
   ]
  },
  {
   "cell_type": "code",
   "execution_count": 20,
   "metadata": {
    "collapsed": false
   },
   "outputs": [
    {
     "data": {
      "text/plain": [
       "[1143, 485, 384]"
      ]
     },
     "execution_count": 20,
     "metadata": {},
     "output_type": "execute_result"
    }
   ],
   "source": [
    "dna = open(\"long_dna.txt\").read().rstrip(\"\\n\") \n",
    "\n",
    "get_fragment_lengths(dna, \"A[ATGC]TAAT\", 3)"
   ]
  },
  {
   "cell_type": "markdown",
   "metadata": {
    "collapsed": true
   },
   "source": [
    "OK. Now to look at the file and split each line into a name and a motif:"
   ]
  },
  {
   "cell_type": "code",
   "execution_count": 10,
   "metadata": {
    "collapsed": false
   },
   "outputs": [
    {
     "name": "stdout",
     "output_type": "stream",
     "text": [
      "('AatII', 'gacgt/c')\n",
      "('AbsI', 'cc/tcgagg')\n",
      "('AccI', 'gt/mkac')\n",
      "('Acc65I', 'g/gtacc')\n",
      "('AclI', 'aa/cgtt')\n",
      "('AfeI', 'agc/gct')\n",
      "('AflII', 'c/ttaag')\n",
      "('AflIII', 'a/crygt')\n",
      "('AgeI', 'a/ccggt')\n",
      "('AgsI', 'tts/aa')\n",
      "('AhdI', 'gacnnn/nngtc')\n",
      "('AleI', 'cacnn/nngtg')\n",
      "('AluI', 'ag/ct')\n",
      "('AlwNI', 'cagnnn/ctg')\n",
      "('AoxI', '/ggcc')\n",
      "('ApaI', 'gggcc/c')\n",
      "('ApaBI', 'gcannnnn/tgc')\n",
      "('ApaLI', 'g/tgcac')\n",
      "('ApoI', 'r/aatty')\n",
      "('AscI', 'gg/cgcgcc')\n",
      "('AseI', 'at/taat')\n",
      "('Asi256I', 'g/atc')\n",
      "('AsiSI', 'gcgat/cgc')\n",
      "('AvaI', 'c/ycgrg')\n",
      "('AvaII', 'g/gwcc')\n",
      "('AvrII', 'c/ctagg')\n",
      "('BaeGI', 'gkgcm/c')\n",
      "('BamHI', 'g/gatcc')\n",
      "('BanI', 'g/gyrcc')\n",
      "('BanII', 'grgcy/c')\n",
      "('BclI', 't/gatca')\n",
      "('BfaI', 'c/tag')\n",
      "('BglI', 'gccnnnn/nggc')\n",
      "('BglII', 'a/gatct')\n",
      "('BisI', 'gc/ngc')\n",
      "('BlpI', 'gc/tnagc')\n",
      "('BlsI', 'gcn/gc')\n",
      "('BmtI', 'gctag/c')\n",
      "('BsaAI', 'yac/gtr')\n",
      "('BsaBI', 'gatnn/nnatc')\n",
      "('BsaHI', 'gr/cgyc')\n",
      "('BsaJI', 'c/cnngg')\n",
      "('BsaWI', 'w/ccggw')\n",
      "('BsiEI', 'cgry/cg')\n",
      "('BsiHKAI', 'gwgcw/c')\n",
      "('BsiWI', 'c/gtacg')\n",
      "('BslI', 'ccnnnnn/nngg')\n",
      "('Bsp1286I', 'gdgch/c')\n",
      "('BspEI', 't/ccgga')\n",
      "('BspHI', 't/catga')\n",
      "('BsrFI', 'r/ccggy')\n",
      "('BsrGI', 't/gtaca')\n",
      "('BssHII', 'g/cgcgc')\n",
      "('BstAPI', 'gcannnn/ntgc')\n",
      "('BstBI', 'tt/cgaa')\n",
      "('BstEII', 'g/gtnacc')\n",
      "('BstKTI', 'gat/c')\n",
      "('BstNI', 'cc/wgg')\n",
      "('BstUI', 'cg/cg')\n",
      "('BstXI', 'ccannnnn/ntgg')\n",
      "('BstYI', 'r/gatcy')\n",
      "('BstZ17I', 'gta/tac')\n",
      "('Bsu36I', 'cc/tnagg')\n",
      "('BtgI', 'c/crygg')\n",
      "('BthCI', 'gcng/c')\n",
      "('Cac8I', 'gcn/ngc')\n",
      "('ChaI', 'gatc/')\n",
      "('ClaI', 'at/cgat')\n",
      "('CviAII', 'c/atg')\n",
      "('CviKI-1', 'rg/cy')\n",
      "('CviQI', 'g/tac')\n",
      "('DdeI', 'c/tnag')\n",
      "('DpnI', 'ga/tc')\n",
      "('DraI', 'ttt/aaa')\n",
      "('DraIII', 'cacnnn/gtg')\n",
      "('DrdI', 'gacnnnn/nngtc')\n",
      "('EaeI', 'y/ggccr')\n",
      "('EagI', 'c/ggccg')\n",
      "('EcoHI', '/ccsgg')\n",
      "('EcoNI', 'cctnn/nnnagg')\n",
      "('EcoO109I', 'rg/gnccy')\n",
      "('EcoRI', 'g/aattc')\n",
      "('EcoRV', 'gat/atc')\n",
      "('Eco53kI', 'gag/ctc')\n",
      "('EsaBC3I', 'tc/ga')\n",
      "('FaiI', 'ya/tr')\n",
      "('FatI', '/catg')\n",
      "('FmuI', 'ggnc/c')\n",
      "('Fnu4HI', 'gc/ngc')\n",
      "('FseI', 'ggccgg/cc')\n",
      "('FspI', 'tgc/gca')\n",
      "('FspAI', 'rtgc/gcay')\n",
      "('GlaI', 'gc/gc')\n",
      "('HaeI', 'wgg/ccw')\n",
      "('HaeII', 'rgcgc/y')\n",
      "('HaeIII', 'gg/cc')\n",
      "('HhaI', 'gcg/c')\n",
      "('HinP1I', 'g/cgc')\n",
      "('HincII', 'gty/rac')\n",
      "('HindIII', 'a/agctt')\n",
      "('HinfI', 'g/antc')\n",
      "('HpaI', 'gtt/aac')\n",
      "('HpaII', 'c/cgg')\n",
      "('Hpy99I', 'cgwcg/')\n",
      "('Hpy166II', 'gtn/nac')\n",
      "('Hpy188I', 'tcn/ga')\n",
      "('Hpy188III', 'tc/nnga')\n",
      "('HpyCH4III', 'acn/gt')\n",
      "('HpyCH4IV', 'a/cgt')\n",
      "('HpyCH4V', 'tg/ca')\n",
      "('KasI', 'g/gcgcc')\n",
      "('KflI', 'gg/gwccc')\n",
      "('KpnI', 'ggtac/c')\n",
      "('KroI', 'g/ccggc')\n",
      "('LpnI', 'rgc/gcy')\n",
      "('MaeIII', '/gtnac')\n",
      "('MauBI', 'cg/cgcgcg')\n",
      "('MboI', '/gatc')\n",
      "('McaTI', 'gcgc/gc')\n",
      "('MfeI', 'c/aattg')\n",
      "('MluI', 'a/cgcgt')\n",
      "('MluCI', '/aatt')\n",
      "('MreI', 'cg/ccggcg')\n",
      "('MscI', 'tgg/cca')\n",
      "('MseI', 't/taa')\n",
      "('MslI', 'caynn/nnrtg')\n",
      "('MspA1I', 'cmg/ckg')\n",
      "('MwoI', 'gcnnnnn/nngc')\n",
      "('NaeI', 'gcc/ggc')\n",
      "('NarI', 'gg/cgcc')\n",
      "('NciI', 'cc/sgg')\n",
      "('NcoI', 'c/catgg')\n",
      "('NdeI', 'ca/tatg')\n",
      "('NgoMIV', 'g/ccggc')\n",
      "('NheI', 'g/ctagc')\n",
      "('NlaIII', 'catg/')\n",
      "('NlaIV', 'ggn/ncc')\n",
      "('Nli3877I', 'cycgr/g')\n",
      "('NotI', 'gc/ggccgc')\n",
      "('NruI', 'tcg/cga')\n",
      "('NsiI', 'atgca/t')\n",
      "('NspI', 'rcatg/y')\n",
      "('PabI', 'gta/c')\n",
      "('PacI', 'ttaat/taa')\n",
      "('PasI', 'cc/cwggg')\n",
      "('PciI', 'a/catgt')\n",
      "('PcsI', 'wcgnnnn/nnncgw')\n",
      "('PflMI', 'ccannnn/ntgg')\n",
      "('PfoI', 't/ccngga')\n",
      "('PluTI', 'ggcgc/c')\n",
      "('PmeI', 'gttt/aaac')\n",
      "('PmlI', 'cac/gtg')\n",
      "('Ppu10I', 'a/tgcat')\n",
      "('PpuMI', 'rg/gwccy')\n",
      "('PshAI', 'gacnn/nngtc')\n",
      "('PsiI', 'tta/taa')\n",
      "('Psp03I', 'ggwc/c')\n",
      "('PspGI', '/ccwgg')\n",
      "('PspOMI', 'g/ggccc')\n",
      "('PspXI', 'vc/tcgagb')\n",
      "('PssI', 'rggnc/cy')\n",
      "('PstI', 'ctgca/g')\n",
      "('PvuI', 'cgat/cg')\n",
      "('PvuII', 'cag/ctg')\n",
      "('RsaI', 'gt/ac')\n",
      "('RsrII', 'cg/gwccg')\n",
      "('SacI', 'gagct/c')\n",
      "('SacII', 'ccgc/gg')\n",
      "('SalI', 'g/tcgac')\n",
      "('Sau96I', 'g/gncc')\n",
      "('SbfI', 'cctgca/gg')\n",
      "('ScaI', 'agt/act')\n",
      "('SciI', 'ctc/gag')\n",
      "('ScrFI', 'cc/ngg')\n",
      "('SelI', '/cgcg')\n",
      "('SetI', 'asst/')\n",
      "('SexAI', 'a/ccwggt')\n",
      "('SfcI', 'c/tryag')\n",
      "('SfiI', 'ggccnnnn/nggcc')\n",
      "('SfoI', 'ggc/gcc')\n",
      "('SgrAI', 'cr/ccggyg')\n",
      "('SgrDI', 'cg/tcgacg')\n",
      "('SmaI', 'ccc/ggg')\n",
      "('SmlI', 'c/tyrag')\n",
      "('SnaBI', 'tac/gta')\n",
      "('SpeI', 'a/ctagt')\n",
      "('SphI', 'gcatg/c')\n",
      "('SrfI', 'gccc/gggc')\n",
      "('Sse8647I', 'ag/gwcct')\n",
      "('SspI', 'aat/att')\n",
      "('Sth302II', 'cc/gg')\n",
      "('StuI', 'agg/cct')\n",
      "('StyI', 'c/cwwgg')\n",
      "('StyD4I', '/ccngg')\n",
      "('SwaI', 'attt/aaat')\n",
      "('TaiI', 'acgt/')\n",
      "('TaqI', 't/cga')\n",
      "('TatI', 'w/gtacw')\n",
      "('TauI', 'gcsg/c')\n",
      "('TfiI', 'g/awtc')\n",
      "('TseI', 'g/cwgc')\n",
      "('Tsp45I', '/gtsac')\n",
      "('Tth111I', 'gacn/nngtc')\n",
      "('UnbI', '/ggncc')\n",
      "('VpaK11AI', '/ggwcc')\n",
      "('XbaI', 't/ctaga')\n",
      "('XcmI', 'ccannnnn/nnnntgg')\n",
      "('XhoI', 'c/tcgag')\n",
      "('XmaI', 'c/ccggg')\n",
      "('XmnI', 'gaann/nnttc')\n",
      "('ZraI', 'gac/gtc')\n"
     ]
    }
   ],
   "source": [
    "for line in open('restriction_enzyme_data.txt'):\n",
    "    fields = line.rstrip().split(',')\n",
    "    enzyme_name = fields[0]\n",
    "    enzyme_motif = fields[1]\n",
    "    print(enzyme_name, enzyme_motif)"
   ]
  },
  {
   "cell_type": "markdown",
   "metadata": {},
   "source": [
    "Looks good, but before we can start searching with a motif we need to do some work. We need to figure out where the forward slash is, use that as the offset, and remove it from the motif string:"
   ]
  },
  {
   "cell_type": "code",
   "execution_count": 11,
   "metadata": {
    "collapsed": false
   },
   "outputs": [
    {
     "name": "stdout",
     "output_type": "stream",
     "text": [
      "('AatII', 'gacgtc', 5)\n",
      "('AbsI', 'cctcgagg', 2)\n",
      "('AccI', 'gtmkac', 2)\n",
      "('Acc65I', 'ggtacc', 1)\n",
      "('AclI', 'aacgtt', 2)\n",
      "('AfeI', 'agcgct', 3)\n",
      "('AflII', 'cttaag', 1)\n",
      "('AflIII', 'acrygt', 1)\n",
      "('AgeI', 'accggt', 1)\n",
      "('AgsI', 'ttsaa', 3)\n",
      "('AhdI', 'gacnnnnngtc', 6)\n",
      "('AleI', 'cacnnnngtg', 5)\n",
      "('AluI', 'agct', 2)\n",
      "('AlwNI', 'cagnnnctg', 6)\n",
      "('AoxI', 'ggcc', 0)\n",
      "('ApaI', 'gggccc', 5)\n",
      "('ApaBI', 'gcannnnntgc', 8)\n",
      "('ApaLI', 'gtgcac', 1)\n",
      "('ApoI', 'raatty', 1)\n",
      "('AscI', 'ggcgcgcc', 2)\n",
      "('AseI', 'attaat', 2)\n",
      "('Asi256I', 'gatc', 1)\n",
      "('AsiSI', 'gcgatcgc', 5)\n",
      "('AvaI', 'cycgrg', 1)\n",
      "('AvaII', 'ggwcc', 1)\n",
      "('AvrII', 'cctagg', 1)\n",
      "('BaeGI', 'gkgcmc', 5)\n",
      "('BamHI', 'ggatcc', 1)\n",
      "('BanI', 'ggyrcc', 1)\n",
      "('BanII', 'grgcyc', 5)\n",
      "('BclI', 'tgatca', 1)\n",
      "('BfaI', 'ctag', 1)\n",
      "('BglI', 'gccnnnnnggc', 7)\n",
      "('BglII', 'agatct', 1)\n",
      "('BisI', 'gcngc', 2)\n",
      "('BlpI', 'gctnagc', 2)\n",
      "('BlsI', 'gcngc', 3)\n",
      "('BmtI', 'gctagc', 5)\n",
      "('BsaAI', 'yacgtr', 3)\n",
      "('BsaBI', 'gatnnnnatc', 5)\n",
      "('BsaHI', 'grcgyc', 2)\n",
      "('BsaJI', 'ccnngg', 1)\n",
      "('BsaWI', 'wccggw', 1)\n",
      "('BsiEI', 'cgrycg', 4)\n",
      "('BsiHKAI', 'gwgcwc', 5)\n",
      "('BsiWI', 'cgtacg', 1)\n",
      "('BslI', 'ccnnnnnnngg', 7)\n",
      "('Bsp1286I', 'gdgchc', 5)\n",
      "('BspEI', 'tccgga', 1)\n",
      "('BspHI', 'tcatga', 1)\n",
      "('BsrFI', 'rccggy', 1)\n",
      "('BsrGI', 'tgtaca', 1)\n",
      "('BssHII', 'gcgcgc', 1)\n",
      "('BstAPI', 'gcannnnntgc', 7)\n",
      "('BstBI', 'ttcgaa', 2)\n",
      "('BstEII', 'ggtnacc', 1)\n",
      "('BstKTI', 'gatc', 3)\n",
      "('BstNI', 'ccwgg', 2)\n",
      "('BstUI', 'cgcg', 2)\n",
      "('BstXI', 'ccannnnnntgg', 8)\n",
      "('BstYI', 'rgatcy', 1)\n",
      "('BstZ17I', 'gtatac', 3)\n",
      "('Bsu36I', 'cctnagg', 2)\n",
      "('BtgI', 'ccrygg', 1)\n",
      "('BthCI', 'gcngc', 4)\n",
      "('Cac8I', 'gcnngc', 3)\n",
      "('ChaI', 'gatc', 4)\n",
      "('ClaI', 'atcgat', 2)\n",
      "('CviAII', 'catg', 1)\n",
      "('CviKI-1', 'rgcy', 2)\n",
      "('CviQI', 'gtac', 1)\n",
      "('DdeI', 'ctnag', 1)\n",
      "('DpnI', 'gatc', 2)\n",
      "('DraI', 'tttaaa', 3)\n",
      "('DraIII', 'cacnnngtg', 6)\n",
      "('DrdI', 'gacnnnnnngtc', 7)\n",
      "('EaeI', 'yggccr', 1)\n",
      "('EagI', 'cggccg', 1)\n",
      "('EcoHI', 'ccsgg', 0)\n",
      "('EcoNI', 'cctnnnnnagg', 5)\n",
      "('EcoO109I', 'rggnccy', 2)\n",
      "('EcoRI', 'gaattc', 1)\n",
      "('EcoRV', 'gatatc', 3)\n",
      "('Eco53kI', 'gagctc', 3)\n",
      "('EsaBC3I', 'tcga', 2)\n",
      "('FaiI', 'yatr', 2)\n",
      "('FatI', 'catg', 0)\n",
      "('FmuI', 'ggncc', 4)\n",
      "('Fnu4HI', 'gcngc', 2)\n",
      "('FseI', 'ggccggcc', 6)\n",
      "('FspI', 'tgcgca', 3)\n",
      "('FspAI', 'rtgcgcay', 4)\n",
      "('GlaI', 'gcgc', 2)\n",
      "('HaeI', 'wggccw', 3)\n",
      "('HaeII', 'rgcgcy', 5)\n",
      "('HaeIII', 'ggcc', 2)\n",
      "('HhaI', 'gcgc', 3)\n",
      "('HinP1I', 'gcgc', 1)\n",
      "('HincII', 'gtyrac', 3)\n",
      "('HindIII', 'aagctt', 1)\n",
      "('HinfI', 'gantc', 1)\n",
      "('HpaI', 'gttaac', 3)\n",
      "('HpaII', 'ccgg', 1)\n",
      "('Hpy99I', 'cgwcg', 5)\n",
      "('Hpy166II', 'gtnnac', 3)\n",
      "('Hpy188I', 'tcnga', 3)\n",
      "('Hpy188III', 'tcnnga', 2)\n",
      "('HpyCH4III', 'acngt', 3)\n",
      "('HpyCH4IV', 'acgt', 1)\n",
      "('HpyCH4V', 'tgca', 2)\n",
      "('KasI', 'ggcgcc', 1)\n",
      "('KflI', 'gggwccc', 2)\n",
      "('KpnI', 'ggtacc', 5)\n",
      "('KroI', 'gccggc', 1)\n",
      "('LpnI', 'rgcgcy', 3)\n",
      "('MaeIII', 'gtnac', 0)\n",
      "('MauBI', 'cgcgcgcg', 2)\n",
      "('MboI', 'gatc', 0)\n",
      "('McaTI', 'gcgcgc', 4)\n",
      "('MfeI', 'caattg', 1)\n",
      "('MluI', 'acgcgt', 1)\n",
      "('MluCI', 'aatt', 0)\n",
      "('MreI', 'cgccggcg', 2)\n",
      "('MscI', 'tggcca', 3)\n",
      "('MseI', 'ttaa', 1)\n",
      "('MslI', 'caynnnnrtg', 5)\n",
      "('MspA1I', 'cmgckg', 3)\n",
      "('MwoI', 'gcnnnnnnngc', 7)\n",
      "('NaeI', 'gccggc', 3)\n",
      "('NarI', 'ggcgcc', 2)\n",
      "('NciI', 'ccsgg', 2)\n",
      "('NcoI', 'ccatgg', 1)\n",
      "('NdeI', 'catatg', 2)\n",
      "('NgoMIV', 'gccggc', 1)\n",
      "('NheI', 'gctagc', 1)\n",
      "('NlaIII', 'catg', 4)\n",
      "('NlaIV', 'ggnncc', 3)\n",
      "('Nli3877I', 'cycgrg', 5)\n",
      "('NotI', 'gcggccgc', 2)\n",
      "('NruI', 'tcgcga', 3)\n",
      "('NsiI', 'atgcat', 5)\n",
      "('NspI', 'rcatgy', 5)\n",
      "('PabI', 'gtac', 3)\n",
      "('PacI', 'ttaattaa', 5)\n",
      "('PasI', 'cccwggg', 2)\n",
      "('PciI', 'acatgt', 1)\n",
      "('PcsI', 'wcgnnnnnnncgw', 7)\n",
      "('PflMI', 'ccannnnntgg', 7)\n",
      "('PfoI', 'tccngga', 1)\n",
      "('PluTI', 'ggcgcc', 5)\n",
      "('PmeI', 'gtttaaac', 4)\n",
      "('PmlI', 'cacgtg', 3)\n",
      "('Ppu10I', 'atgcat', 1)\n",
      "('PpuMI', 'rggwccy', 2)\n",
      "('PshAI', 'gacnnnngtc', 5)\n",
      "('PsiI', 'ttataa', 3)\n",
      "('Psp03I', 'ggwcc', 4)\n",
      "('PspGI', 'ccwgg', 0)\n",
      "('PspOMI', 'gggccc', 1)\n",
      "('PspXI', 'vctcgagb', 2)\n",
      "('PssI', 'rggnccy', 5)\n",
      "('PstI', 'ctgcag', 5)\n",
      "('PvuI', 'cgatcg', 4)\n",
      "('PvuII', 'cagctg', 3)\n",
      "('RsaI', 'gtac', 2)\n",
      "('RsrII', 'cggwccg', 2)\n",
      "('SacI', 'gagctc', 5)\n",
      "('SacII', 'ccgcgg', 4)\n",
      "('SalI', 'gtcgac', 1)\n",
      "('Sau96I', 'ggncc', 1)\n",
      "('SbfI', 'cctgcagg', 6)\n",
      "('ScaI', 'agtact', 3)\n",
      "('SciI', 'ctcgag', 3)\n",
      "('ScrFI', 'ccngg', 2)\n",
      "('SelI', 'cgcg', 0)\n",
      "('SetI', 'asst', 4)\n",
      "('SexAI', 'accwggt', 1)\n",
      "('SfcI', 'ctryag', 1)\n",
      "('SfiI', 'ggccnnnnnggcc', 8)\n",
      "('SfoI', 'ggcgcc', 3)\n",
      "('SgrAI', 'crccggyg', 2)\n",
      "('SgrDI', 'cgtcgacg', 2)\n",
      "('SmaI', 'cccggg', 3)\n",
      "('SmlI', 'ctyrag', 1)\n",
      "('SnaBI', 'tacgta', 3)\n",
      "('SpeI', 'actagt', 1)\n",
      "('SphI', 'gcatgc', 5)\n",
      "('SrfI', 'gcccgggc', 4)\n",
      "('Sse8647I', 'aggwcct', 2)\n",
      "('SspI', 'aatatt', 3)\n",
      "('Sth302II', 'ccgg', 2)\n",
      "('StuI', 'aggcct', 3)\n",
      "('StyI', 'ccwwgg', 1)\n",
      "('StyD4I', 'ccngg', 0)\n",
      "('SwaI', 'atttaaat', 4)\n",
      "('TaiI', 'acgt', 4)\n",
      "('TaqI', 'tcga', 1)\n",
      "('TatI', 'wgtacw', 1)\n",
      "('TauI', 'gcsgc', 4)\n",
      "('TfiI', 'gawtc', 1)\n",
      "('TseI', 'gcwgc', 1)\n",
      "('Tsp45I', 'gtsac', 0)\n",
      "('Tth111I', 'gacnnngtc', 4)\n",
      "('UnbI', 'ggncc', 0)\n",
      "('VpaK11AI', 'ggwcc', 0)\n",
      "('XbaI', 'tctaga', 1)\n",
      "('XcmI', 'ccannnnnnnnntgg', 8)\n",
      "('XhoI', 'ctcgag', 1)\n",
      "('XmaI', 'cccggg', 1)\n",
      "('XmnI', 'gaannnnttc', 5)\n",
      "('ZraI', 'gacgtc', 3)\n"
     ]
    }
   ],
   "source": [
    "for line in open('restriction_enzyme_data.txt'):\n",
    "    fields = line.rstrip().split(',')\n",
    "    enzyme_name = fields[0]\n",
    "    enzyme_motif = fields[1]\n",
    "    \n",
    "    offset = enzyme_motif.find('/')\n",
    "    enzyme_motif = enzyme_motif.replace('/', '')\n",
    "    print(enzyme_name, enzyme_motif, offset)"
   ]
  },
  {
   "cell_type": "markdown",
   "metadata": {},
   "source": [
    "We also need to turn all the ambiguity codes into regular expression character groups. We could start doing it with multiple calls to replace:"
   ]
  },
  {
   "cell_type": "code",
   "execution_count": 14,
   "metadata": {
    "collapsed": false
   },
   "outputs": [],
   "source": [
    "motif = 'ccannnnrnnwtgg'\n",
    "\n",
    "# n means any base\n",
    "motif = motif.replace('n', '[atgc]')\n",
    "\n",
    "# r means either a or g\n",
    "motif = motif.replace('r', '[ag]')\n",
    "\n",
    "# etc. etc."
   ]
  },
  {
   "cell_type": "markdown",
   "metadata": {},
   "source": [
    "but this will quickly get messy; instead let's build a dict of ambiguity codes and replacements, and iterate over it to turn a motif into a regular expression:"
   ]
  },
  {
   "cell_type": "code",
   "execution_count": 18,
   "metadata": {
    "collapsed": false
   },
   "outputs": [
    {
     "name": "stdout",
     "output_type": "stream",
     "text": [
      "('AatII', 'gacgtc', 5)\n",
      "('AbsI', 'cctcgagg', 2)\n",
      "('AccI', 'gt[ac][gt]ac', 2)\n",
      "('Acc65I', 'ggtacc', 1)\n",
      "('AclI', 'aacgtt', 2)\n",
      "('AfeI', 'agcgct', 3)\n",
      "('AflII', 'cttaag', 1)\n",
      "('AflIII', 'ac[ag][ct]gt', 1)\n",
      "('AgeI', 'accggt', 1)\n",
      "('AgsI', 'tt[cg]aa', 3)\n",
      "('AhdI', 'gac[atgc][atgc][atgc][atgc][atgc]gtc', 6)\n",
      "('AleI', 'cac[atgc][atgc][atgc][atgc]gtg', 5)\n",
      "('AluI', 'agct', 2)\n",
      "('AlwNI', 'cag[atgc][atgc][atgc]ctg', 6)\n",
      "('AoxI', 'ggcc', 0)\n",
      "('ApaI', 'gggccc', 5)\n",
      "('ApaBI', 'gca[atgc][atgc][atgc][atgc][atgc]tgc', 8)\n",
      "('ApaLI', 'gtgcac', 1)\n",
      "('ApoI', '[ag]aatt[ct]', 1)\n",
      "('AscI', 'ggcgcgcc', 2)\n",
      "('AseI', 'attaat', 2)\n",
      "('Asi256I', 'gatc', 1)\n",
      "('AsiSI', 'gcgatcgc', 5)\n",
      "('AvaI', 'c[ct]cg[ag]g', 1)\n",
      "('AvaII', 'gg[at]cc', 1)\n",
      "('AvrII', 'cctagg', 1)\n",
      "('BaeGI', 'g[gt]gc[ac]c', 5)\n",
      "('BamHI', 'ggatcc', 1)\n",
      "('BanI', 'gg[ct][ag]cc', 1)\n",
      "('BanII', 'g[ag]gc[ct]c', 5)\n",
      "('BclI', 'tgatca', 1)\n",
      "('BfaI', 'ctag', 1)\n",
      "('BglI', 'gcc[atgc][atgc][atgc][atgc][atgc]ggc', 7)\n",
      "('BglII', 'agatct', 1)\n",
      "('BisI', 'gc[atgc]gc', 2)\n",
      "('BlpI', 'gct[atgc]agc', 2)\n",
      "('BlsI', 'gc[atgc]gc', 3)\n",
      "('BmtI', 'gctagc', 5)\n",
      "('BsaAI', '[ct]acgt[ag]', 3)\n",
      "('BsaBI', 'gat[atgc][atgc][atgc][atgc]atc', 5)\n",
      "('BsaHI', 'g[ag]cg[ct]c', 2)\n",
      "('BsaJI', 'cc[atgc][atgc]gg', 1)\n",
      "('BsaWI', '[at]ccgg[at]', 1)\n",
      "('BsiEI', 'cg[ag][ct]cg', 4)\n",
      "('BsiHKAI', 'g[at]gc[at]c', 5)\n",
      "('BsiWI', 'cgtacg', 1)\n",
      "('BslI', 'cc[atgc][atgc][atgc][atgc][atgc][atgc][atgc]gg', 7)\n",
      "('Bsp1286I', 'g[agt]gc[act]c', 5)\n",
      "('BspEI', 'tccgga', 1)\n",
      "('BspHI', 'tcatga', 1)\n",
      "('BsrFI', '[ag]ccgg[ct]', 1)\n",
      "('BsrGI', 'tgtaca', 1)\n",
      "('BssHII', 'gcgcgc', 1)\n",
      "('BstAPI', 'gca[atgc][atgc][atgc][atgc][atgc]tgc', 7)\n",
      "('BstBI', 'ttcgaa', 2)\n",
      "('BstEII', 'ggt[atgc]acc', 1)\n",
      "('BstKTI', 'gatc', 3)\n",
      "('BstNI', 'cc[at]gg', 2)\n",
      "('BstUI', 'cgcg', 2)\n",
      "('BstXI', 'cca[atgc][atgc][atgc][atgc][atgc][atgc]tgg', 8)\n",
      "('BstYI', '[ag]gatc[ct]', 1)\n",
      "('BstZ17I', 'gtatac', 3)\n",
      "('Bsu36I', 'cct[atgc]agg', 2)\n",
      "('BtgI', 'cc[ag][ct]gg', 1)\n",
      "('BthCI', 'gc[atgc]gc', 4)\n",
      "('Cac8I', 'gc[atgc][atgc]gc', 3)\n",
      "('ChaI', 'gatc', 4)\n",
      "('ClaI', 'atcgat', 2)\n",
      "('CviAII', 'catg', 1)\n",
      "('CviKI-1', '[ag]gc[ct]', 2)\n",
      "('CviQI', 'gtac', 1)\n",
      "('DdeI', 'ct[atgc]ag', 1)\n",
      "('DpnI', 'gatc', 2)\n",
      "('DraI', 'tttaaa', 3)\n",
      "('DraIII', 'cac[atgc][atgc][atgc]gtg', 6)\n",
      "('DrdI', 'gac[atgc][atgc][atgc][atgc][atgc][atgc]gtc', 7)\n",
      "('EaeI', '[ct]ggcc[ag]', 1)\n",
      "('EagI', 'cggccg', 1)\n",
      "('EcoHI', 'cc[cg]gg', 0)\n",
      "('EcoNI', 'cct[atgc][atgc][atgc][atgc][atgc]agg', 5)\n",
      "('EcoO109I', '[ag]gg[atgc]cc[ct]', 2)\n",
      "('EcoRI', 'gaattc', 1)\n",
      "('EcoRV', 'gatatc', 3)\n",
      "('Eco53kI', 'gagctc', 3)\n",
      "('EsaBC3I', 'tcga', 2)\n",
      "('FaiI', '[ct]at[ag]', 2)\n",
      "('FatI', 'catg', 0)\n",
      "('FmuI', 'gg[atgc]cc', 4)\n",
      "('Fnu4HI', 'gc[atgc]gc', 2)\n",
      "('FseI', 'ggccggcc', 6)\n",
      "('FspI', 'tgcgca', 3)\n",
      "('FspAI', '[ag]tgcgca[ct]', 4)\n",
      "('GlaI', 'gcgc', 2)\n",
      "('HaeI', '[at]ggcc[at]', 3)\n",
      "('HaeII', '[ag]gcgc[ct]', 5)\n",
      "('HaeIII', 'ggcc', 2)\n",
      "('HhaI', 'gcgc', 3)\n",
      "('HinP1I', 'gcgc', 1)\n",
      "('HincII', 'gt[ct][ag]ac', 3)\n",
      "('HindIII', 'aagctt', 1)\n",
      "('HinfI', 'ga[atgc]tc', 1)\n",
      "('HpaI', 'gttaac', 3)\n",
      "('HpaII', 'ccgg', 1)\n",
      "('Hpy99I', 'cg[at]cg', 5)\n",
      "('Hpy166II', 'gt[atgc][atgc]ac', 3)\n",
      "('Hpy188I', 'tc[atgc]ga', 3)\n",
      "('Hpy188III', 'tc[atgc][atgc]ga', 2)\n",
      "('HpyCH4III', 'ac[atgc]gt', 3)\n",
      "('HpyCH4IV', 'acgt', 1)\n",
      "('HpyCH4V', 'tgca', 2)\n",
      "('KasI', 'ggcgcc', 1)\n",
      "('KflI', 'ggg[at]ccc', 2)\n",
      "('KpnI', 'ggtacc', 5)\n",
      "('KroI', 'gccggc', 1)\n",
      "('LpnI', '[ag]gcgc[ct]', 3)\n",
      "('MaeIII', 'gt[atgc]ac', 0)\n",
      "('MauBI', 'cgcgcgcg', 2)\n",
      "('MboI', 'gatc', 0)\n",
      "('McaTI', 'gcgcgc', 4)\n",
      "('MfeI', 'caattg', 1)\n",
      "('MluI', 'acgcgt', 1)\n",
      "('MluCI', 'aatt', 0)\n",
      "('MreI', 'cgccggcg', 2)\n",
      "('MscI', 'tggcca', 3)\n",
      "('MseI', 'ttaa', 1)\n",
      "('MslI', 'ca[ct][atgc][atgc][atgc][atgc][ag]tg', 5)\n",
      "('MspA1I', 'c[ac]gc[gt]g', 3)\n",
      "('MwoI', 'gc[atgc][atgc][atgc][atgc][atgc][atgc][atgc]gc', 7)\n",
      "('NaeI', 'gccggc', 3)\n",
      "('NarI', 'ggcgcc', 2)\n",
      "('NciI', 'cc[cg]gg', 2)\n",
      "('NcoI', 'ccatgg', 1)\n",
      "('NdeI', 'catatg', 2)\n",
      "('NgoMIV', 'gccggc', 1)\n",
      "('NheI', 'gctagc', 1)\n",
      "('NlaIII', 'catg', 4)\n",
      "('NlaIV', 'gg[atgc][atgc]cc', 3)\n",
      "('Nli3877I', 'c[ct]cg[ag]g', 5)\n",
      "('NotI', 'gcggccgc', 2)\n",
      "('NruI', 'tcgcga', 3)\n",
      "('NsiI', 'atgcat', 5)\n",
      "('NspI', '[ag]catg[ct]', 5)\n",
      "('PabI', 'gtac', 3)\n",
      "('PacI', 'ttaattaa', 5)\n",
      "('PasI', 'ccc[at]ggg', 2)\n",
      "('PciI', 'acatgt', 1)\n",
      "('PcsI', '[at]cg[atgc][atgc][atgc][atgc][atgc][atgc][atgc]cg[at]', 7)\n",
      "('PflMI', 'cca[atgc][atgc][atgc][atgc][atgc]tgg', 7)\n",
      "('PfoI', 'tcc[atgc]gga', 1)\n",
      "('PluTI', 'ggcgcc', 5)\n",
      "('PmeI', 'gtttaaac', 4)\n",
      "('PmlI', 'cacgtg', 3)\n",
      "('Ppu10I', 'atgcat', 1)\n",
      "('PpuMI', '[ag]gg[at]cc[ct]', 2)\n",
      "('PshAI', 'gac[atgc][atgc][atgc][atgc]gtc', 5)\n",
      "('PsiI', 'ttataa', 3)\n",
      "('Psp03I', 'gg[at]cc', 4)\n",
      "('PspGI', 'cc[at]gg', 0)\n",
      "('PspOMI', 'gggccc', 1)\n",
      "('PspXI', '[acg]ctcgagb', 2)\n",
      "('PssI', '[ag]gg[atgc]cc[ct]', 5)\n",
      "('PstI', 'ctgcag', 5)\n",
      "('PvuI', 'cgatcg', 4)\n",
      "('PvuII', 'cagctg', 3)\n",
      "('RsaI', 'gtac', 2)\n",
      "('RsrII', 'cgg[at]ccg', 2)\n",
      "('SacI', 'gagctc', 5)\n",
      "('SacII', 'ccgcgg', 4)\n",
      "('SalI', 'gtcgac', 1)\n",
      "('Sau96I', 'gg[atgc]cc', 1)\n",
      "('SbfI', 'cctgcagg', 6)\n",
      "('ScaI', 'agtact', 3)\n",
      "('SciI', 'ctcgag', 3)\n",
      "('ScrFI', 'cc[atgc]gg', 2)\n",
      "('SelI', 'cgcg', 0)\n",
      "('SetI', 'a[cg][cg]t', 4)\n",
      "('SexAI', 'acc[at]ggt', 1)\n",
      "('SfcI', 'ct[ag][ct]ag', 1)\n",
      "('SfiI', 'ggcc[atgc][atgc][atgc][atgc][atgc]ggcc', 8)\n",
      "('SfoI', 'ggcgcc', 3)\n",
      "('SgrAI', 'c[ag]ccgg[ct]g', 2)\n",
      "('SgrDI', 'cgtcgacg', 2)\n",
      "('SmaI', 'cccggg', 3)\n",
      "('SmlI', 'ct[ct][ag]ag', 1)\n",
      "('SnaBI', 'tacgta', 3)\n",
      "('SpeI', 'actagt', 1)\n",
      "('SphI', 'gcatgc', 5)\n",
      "('SrfI', 'gcccgggc', 4)\n",
      "('Sse8647I', 'agg[at]cct', 2)\n",
      "('SspI', 'aatatt', 3)\n",
      "('Sth302II', 'ccgg', 2)\n",
      "('StuI', 'aggcct', 3)\n",
      "('StyI', 'cc[at][at]gg', 1)\n",
      "('StyD4I', 'cc[atgc]gg', 0)\n",
      "('SwaI', 'atttaaat', 4)\n",
      "('TaiI', 'acgt', 4)\n",
      "('TaqI', 'tcga', 1)\n",
      "('TatI', '[at]gtac[at]', 1)\n",
      "('TauI', 'gc[cg]gc', 4)\n",
      "('TfiI', 'ga[at]tc', 1)\n",
      "('TseI', 'gc[at]gc', 1)\n",
      "('Tsp45I', 'gt[cg]ac', 0)\n",
      "('Tth111I', 'gac[atgc][atgc][atgc]gtc', 4)\n",
      "('UnbI', 'gg[atgc]cc', 0)\n",
      "('VpaK11AI', 'gg[at]cc', 0)\n",
      "('XbaI', 'tctaga', 1)\n",
      "('XcmI', 'cca[atgc][atgc][atgc][atgc][atgc][atgc][atgc][atgc][atgc]tgg', 8)\n",
      "('XhoI', 'ctcgag', 1)\n",
      "('XmaI', 'cccggg', 1)\n",
      "('XmnI', 'gaa[atgc][atgc][atgc][atgc]ttc', 5)\n",
      "('ZraI', 'gacgtc', 3)\n"
     ]
    }
   ],
   "source": [
    "code2regex = {\n",
    "    'k' : '[gt]',\n",
    "    'm' : '[ac]',\n",
    "    'r' : '[ag]',\n",
    "    'y' : '[ct]',\n",
    "    's' : '[cg]',\n",
    "    'w' : '[at]',\n",
    "    \n",
    "    'v' : '[cgt]',\n",
    "    'v' : '[acg]',\n",
    "    'h' : '[act]',\n",
    "    'd' : '[agt]',\n",
    "    \n",
    "    'n' : '[atgc]'\n",
    "}\n",
    "\n",
    "for line in open('restriction_enzyme_data.txt'):\n",
    "    fields = line.rstrip().split(',')\n",
    "    enzyme_name = fields[0]\n",
    "    enzyme_motif = fields[1]\n",
    "    \n",
    "    # calculate offset\n",
    "    offset = enzyme_motif.find('/')\n",
    "    enzyme_motif = enzyme_motif.replace('/', '')\n",
    "    \n",
    "    # turn motif into a regex\n",
    "    for ambiguity_code, replacement in code2regex.items():\n",
    "        enzyme_motif = enzyme_motif.replace(ambiguity_code, replacement)\n",
    "    \n",
    "    print(enzyme_name, enzyme_motif, offset)"
   ]
  },
  {
   "cell_type": "markdown",
   "metadata": {},
   "source": [
    "Now we can plug the regular expression and offset into our function and produce the output. Warning: this will produce a lot of output if we run it on the whole chromosome (which might cause IDLE to crash), so here we're just looking at the first 10000 bases."
   ]
  },
  {
   "cell_type": "code",
   "execution_count": 6,
   "metadata": {
    "collapsed": false
   },
   "outputs": [
    {
     "name": "stdout",
     "output_type": "stream",
     "text": [
      "('AatII', 'gacgtc', 5, [3840, 2472, 3643, 45])\n",
      "('AbsI', 'cctcgagg', 2, [2707, 7293])\n",
      "('AccI', 'gt[ac][gt]ac', 2, [1967, 1910, 6123])\n",
      "('Acc65I', 'ggtacc', 1, [535, 9465])\n",
      "('AclI', 'aacgtt', 2, [10000])\n",
      "('AfeI', 'agcgct', 3, [9923, 77])\n",
      "('AflII', 'cttaag', 1, [10000])\n",
      "('AflIII', 'ac[ag][ct]gt', 1, [1831, 144, 318, 2457, 239, 1372, 427, 2731, 481])\n",
      "('AgeI', 'accggt', 1, [3990, 77, 5933])\n",
      "('AgsI', 'tt[cg]aa', 3, [470, 23, 512, 25, 151, 253, 101, 304, 561, 245, 244, 495, 160, 41, 386, 175, 12, 156, 359, 28, 334, 24, 21, 76, 79, 168, 113, 63, 48, 17, 47, 43, 154, 113, 83, 99, 256, 31, 102, 98, 92, 149, 66, 14, 172, 162, 56, 313, 28, 126, 483, 712, 33, 66, 175, 359, 207, 117])\n",
      "('AhdI', 'gac[atgc][atgc][atgc][atgc][atgc]gtc', 6, [8298, 1702])\n",
      "('AleI', 'cac[atgc][atgc][atgc][atgc]gtg', 5, [10000])\n",
      "('AluI', 'agct', 2, [517, 354, 57, 117, 236, 107, 422, 499, 552, 614, 939, 3628, 273, 74, 36, 139, 263, 1173])\n",
      "('AlwNI', 'cag[atgc][atgc][atgc]ctg', 6, [9423, 577])\n",
      "('AoxI', 'ggcc', 0, [583, 1265, 2062, 1549, 986, 426, 93, 1434, 138, 32, 16, 126, 1290])\n",
      "('ApaI', 'gggccc', 5, [10000])\n",
      "('ApaBI', 'gca[atgc][atgc][atgc][atgc][atgc]tgc', 8, [1105, 6576, 2319])\n",
      "('ApaLI', 'gtgcac', 1, [1641, 3082, 4847, 430])\n",
      "('ApoI', '[ag]aatt[ct]', 1, [488, 421, 201, 27, 12, 11, 23, 58, 71, 227, 49, 26, 549, 10, 76, 153, 19, 195, 205, 353, 64, 121, 18, 154, 76, 207, 337, 81, 392, 113, 64, 28, 51, 31, 30, 80, 8, 60, 30, 39, 61, 291, 136, 125, 6, 67, 167, 230, 193, 65, 11, 35, 15, 62, 13, 72, 56, 8, 260, 16, 43, 111, 31, 88, 11, 19, 53, 19, 64, 56, 22, 390, 118, 79, 27, 48, 392, 451, 52, 12, 11, 166, 8, 113, 103, 142, 10, 66, 8, 42, 198])\n",
      "('AscI', 'ggcgcgcc', 2, [10000])\n",
      "('AseI', 'attaat', 2, [1445, 747, 246, 906, 246, 1795, 4120, 495])\n",
      "('Asi256I', 'gatc', 1, [2527, 186, 1020, 70, 228, 1258, 991, 13, 1291, 703, 545, 375, 247, 71, 299, 176])\n",
      "('AsiSI', 'gcgatcgc', 5, [10000])\n",
      "('AvaI', 'c[ct]cg[ag]g', 1, [2707, 1004, 307, 397, 5585])\n",
      "('AvaII', 'gg[at]cc', 1, [1926, 8074])\n",
      "('AvrII', 'cctagg', 1, [8395, 1605])\n",
      "('BaeGI', 'g[gt]gc[ac]c', 5, [936, 709, 3082, 4847, 426])\n",
      "('BamHI', 'ggatcc', 1, [2712, 4871, 2417])\n",
      "('BanI', 'gg[ct][ag]cc', 1, [535, 7296, 2169])\n",
      "('BanII', 'g[ag]gc[ct]c', 5, [10000])\n",
      "('BclI', 'tgatca', 1, [5288, 991, 13, 3708])\n",
      "('BfaI', 'ctag', 1, [521, 408, 537, 341, 693, 544, 699, 2124, 141, 104, 1468, 437, 379, 138, 20, 327, 84, 142, 893])\n",
      "('BglI', 'gcc[atgc][atgc][atgc][atgc][atgc]ggc', 7, [10000])\n",
      "('BglII', 'agatct', 1, [9206, 794])\n",
      "('BisI', 'gc[atgc]gc', 2, [2289, 857, 125, 224, 483, 25, 50, 3955, 813, 244, 26, 302, 574, 33])\n",
      "('BlpI', 'gct[atgc]agc', 2, [10000])\n",
      "('BlsI', 'gc[atgc]gc', 3, [2290, 857, 125, 224, 483, 25, 50, 3955, 813, 244, 26, 302, 574, 32])\n",
      "('BmtI', 'gctagc', 5, [10000])\n",
      "('BsaAI', '[ct]acgt[ag]', 3, [1381, 451, 462, 2698, 3199, 1809])\n",
      "('BsaBI', 'gat[atgc][atgc][atgc][atgc]atc', 5, [5293, 4707])\n",
      "('BsaHI', 'g[ag]cg[ct]c', 2, [2266, 1250, 321, 2472, 3589, 54, 48])\n",
      "('BsaJI', 'cc[atgc][atgc]gg', 1, [3712, 288, 18, 2430, 1947, 176, 1429])\n",
      "('BsaWI', '[at]ccgg[at]', 1, [2718, 24, 1248, 77, 229, 58, 1241, 114, 244, 4047])\n",
      "('BsiEI', 'cg[ag][ct]cg', 4, [3991, 18, 24, 2978, 2989])\n",
      "('BsiHKAI', 'g[at]gc[at]c', 5, [1645, 2571, 511, 616, 1613, 1542, 1076, 426])\n",
      "('BsiWI', 'cgtacg', 1, [8258, 1742])\n",
      "('BslI', 'cc[atgc][atgc][atgc][atgc][atgc][atgc][atgc]gg', 7, [955, 673, 2439, 1390, 801, 548, 412, 1004, 259, 214, 1305])\n",
      "('Bsp1286I', 'g[agt]gc[act]c', 5, [936, 709, 2571, 511, 616, 1613, 1542, 1076, 426])\n",
      "('BspEI', 'tccgga', 1, [2718, 24, 2967, 4291])\n",
      "('BspHI', 'tcatga', 1, [1457, 8543])\n",
      "('BsrFI', '[ag]ccgg[ct]', 1, [3990, 77, 2467, 2276, 1190])\n",
      "('BsrGI', 'tgtaca', 1, [1888, 3214, 4898])\n",
      "('BssHII', 'gcgcgc', 1, [10000])\n",
      "('BstAPI', 'gca[atgc][atgc][atgc][atgc][atgc]tgc', 7, [1104, 6576, 2320])\n",
      "('BstBI', 'ttcgaa', 2, [5173, 1708, 852, 343, 1654, 197, 73])\n",
      "('BstEII', 'ggt[atgc]acc', 1, [6454, 2244, 1302])\n",
      "('BstKTI', 'gatc', 3, [2529, 186, 1020, 70, 228, 1258, 991, 13, 1291, 703, 545, 375, 247, 71, 299, 174])\n",
      "('BstNI', 'cc[at]gg', 2, [3253, 2103, 102, 992, 2032, 411, 1064, 43])\n",
      "('BstUI', 'cgcg', 2, [2726, 547, 552, 20, 157, 53, 462, 281, 3212, 810, 575, 42, 84, 11, 383, 49, 36])\n",
      "('BstXI', 'cca[atgc][atgc][atgc][atgc][atgc][atgc]tgg', 8, [10000])\n",
      "('BstYI', '[ag]gatc[ct]', 1, [2712, 4871, 1623, 794])\n",
      "('BstZ17I', 'gtatac', 3, [10000])\n",
      "('Bsu36I', 'cct[atgc]agg', 2, [10000])\n",
      "('BtgI', 'cc[ag][ct]gg', 1, [4000, 4571, 1429])\n",
      "('BthCI', 'gc[atgc]gc', 4, [2291, 857, 125, 224, 483, 25, 50, 3955, 813, 244, 26, 302, 574, 31])\n",
      "('Cac8I', 'gc[atgc][atgc]gc', 3, [552, 755, 2516, 393, 511, 736, 2313, 1036, 13, 1137, 38])\n",
      "('ChaI', 'gatc', 4, [2530, 186, 1020, 70, 228, 1258, 991, 13, 1291, 703, 545, 375, 247, 71, 299, 173])\n",
      "('ClaI', 'atcgat', 2, [2152, 1479, 638, 5580, 151])\n",
      "('CviAII', 'catg', 1, [482, 976, 89, 429, 994, 172, 1077, 9, 150, 582, 1070, 759, 407, 863, 285, 228, 203, 673, 552])\n",
      "('CviKI-1', '[ag]gc[ct]', 2, [7, 6, 6, 6, 6, 6, 6, 6, 6, 6, 6, 7, 6, 6, 6, 6, 6, 6, 6, 6, 6, 6, 13, 6, 6, 6, 6, 6, 6, 6, 6, 6, 6, 13, 6, 6, 6, 6, 6, 6, 6, 6, 6, 6, 7, 6, 6, 6, 6, 6, 6, 6, 6, 6, 6, 13, 6, 6, 6, 6, 6, 6, 6, 6, 6, 6, 13, 84, 68, 12, 6, 6, 12, 6, 25, 6, 12, 12, 12, 12, 7, 12, 6, 12, 6, 12, 12, 19, 12, 12, 12, 6, 12, 25, 57, 117, 236, 107, 53, 28, 302, 21, 18, 40, 198, 261, 552, 189, 425, 346, 91, 398, 104, 6, 597, 193, 251, 945, 41, 426, 21, 72, 93, 15, 109, 28, 409, 395, 27, 171, 102, 74, 11, 25, 113, 26, 6, 16, 102, 24, 102, 13, 14, 38, 1081, 9, 31])\n",
      "('CviQI', 'gtac', 1, [536, 350, 1003, 2704, 391, 119, 695, 2334, 127, 1741])\n",
      "('DdeI', 'ct[atgc]ag', 1, [3, 6, 6, 6, 6, 6, 6, 6, 6, 6, 6, 13, 6, 6, 6, 6, 6, 6, 6, 6, 6, 6, 7, 6, 6, 6, 6, 6, 6, 6, 6, 6, 6, 13, 6, 6, 6, 6, 6, 6, 6, 6, 6, 6, 13, 6, 6, 6, 6, 6, 6, 6, 6, 6, 6, 7, 6, 6, 6, 6, 6, 6, 6, 6, 6, 6, 13, 164, 6, 6, 12, 6, 6, 19, 6, 6, 6, 6, 6, 6, 6, 12, 13, 6, 6, 12, 6, 6, 6, 12, 6, 7, 6, 6, 6, 6, 6, 12, 6, 6, 6, 1735, 1348, 1947, 1638, 916, 187, 19, 205, 1163])\n",
      "('DpnI', 'gatc', 2, [2528, 186, 1020, 70, 228, 1258, 991, 13, 1291, 703, 545, 375, 247, 71, 299, 175])\n",
      "('DraI', 'tttaaa', 3, [1202, 881, 85, 73, 977, 398, 661, 162, 165, 53, 61, 188, 17, 174, 295, 20, 78, 82, 198, 6, 61, 184, 113, 425, 195, 2042, 563, 251, 84, 12, 88, 24, 182])\n",
      "('DraIII', 'cac[atgc][atgc][atgc]gtg', 6, [1104, 8896])\n",
      "('DrdI', 'gac[atgc][atgc][atgc][atgc][atgc][atgc]gtc', 7, [3137, 6863])\n",
      "('EaeI', '[ct]ggcc[ag]', 1, [1848, 2062, 4658, 1432])\n",
      "('EagI', 'cggccg', 1, [10000])\n",
      "('EcoHI', 'cc[cg]gg', 0, [2255, 1762, 3903, 2080])\n",
      "('EcoNI', 'cct[atgc][atgc][atgc][atgc][atgc]agg', 5, [10000])\n",
      "('EcoO109I', '[ag]gg[atgc]cc[ct]', 2, [10000])\n",
      "('EcoRI', 'gaattc', 1, [1110, 7116, 1774])\n",
      "('EcoRV', 'gatatc', 3, [1463, 5146, 1646, 1745])\n",
      "('Eco53kI', 'gagctc', 3, [10000])\n",
      "('EsaBC3I', 'tcga', 2, [2153, 205, 132, 219, 21, 564, 133, 205, 93, 30, 275, 240, 102, 111, 253, 26, 45, 79, 79, 169, 40, 127, 205, 238, 493, 67, 26, 552, 126, 726, 335, 8, 79, 184, 78, 413, 86, 215, 140, 381, 15, 16, 47, 35, 21, 63, 46, 32, 72])\n",
      "('FaiI', '[ct]at[ag]', 2, [483, 382, 60, 30, 45, 372, 45, 42, 21, 68, 135, 53, 11, 16, 66, 64, 84, 7, 20, 26, 7, 5, 70, 77, 39, 318, 225, 113, 31, 8, 25, 23, 172, 59, 31, 208, 114, 40, 75, 50, 47, 5, 448, 9, 91, 59, 253, 11, 211, 17, 86, 4, 44, 282, 315, 429, 12, 32, 13, 101, 10, 76, 119, 37, 273, 86, 109, 71, 31, 25, 37, 8, 25, 33, 68, 29, 21, 29, 13, 57, 63, 71, 36, 58, 64, 50, 69, 206, 11, 86, 285, 202, 26, 32, 171, 76, 9, 61, 234, 61, 67, 43, 50, 72, 25, 94, 25, 216, 52, 45, 94])\n",
      "('FatI', 'catg', 0, [481, 976, 89, 429, 994, 172, 1077, 9, 150, 582, 1070, 759, 407, 863, 285, 228, 203, 673, 553])\n",
      "('FmuI', 'gg[atgc]cc', 4, [1929, 4520, 425, 93, 3033])\n",
      "('Fnu4HI', 'gc[atgc]gc', 2, [2289, 857, 125, 224, 483, 25, 50, 3955, 813, 244, 26, 302, 574, 33])\n",
      "('FseI', 'ggccggcc', 6, [10000])\n",
      "('FspI', 'tgcgca', 3, [7641, 1443, 916])\n",
      "('FspAI', '[ag]tgcgca[ct]', 4, [7641, 2359])\n",
      "('GlaI', 'gcgc', 2, [2481, 244, 577, 542, 207, 467, 3123, 1178, 265, 312, 204, 314, 9, 42, 35])\n",
      "('HaeI', '[at]ggcc[at]', 3, [585, 1265, 3611, 2939, 138, 174, 1288])\n",
      "('HaeII', '[ag]gcgc[ct]', 5, [9925, 75])\n",
      "('HaeIII', 'ggcc', 2, [585, 1265, 2062, 1549, 986, 426, 93, 1434, 138, 32, 16, 126, 1288])\n",
      "('HhaI', 'gcgc', 3, [2482, 244, 577, 542, 207, 467, 3123, 1178, 265, 312, 204, 314, 9, 42, 34])\n",
      "('HinP1I', 'gcgc', 1, [2480, 244, 577, 542, 207, 467, 3123, 1178, 265, 312, 204, 314, 9, 42, 36])\n",
      "('HincII', 'gt[ct][ag]ac', 3, [1759, 5898, 2293, 50])\n",
      "('HindIII', 'aagctt', 1, [515, 8047, 1438])\n",
      "('HinfI', 'ga[atgc]tc', 1, [1118, 7, 239, 239, 519, 459, 12, 138, 928, 398, 33, 203, 58, 40, 417, 639, 423, 54, 259, 231, 884, 158, 293, 50, 133, 969, 1028, 71])\n",
      "('HpaI', 'gttaac', 3, [10000])\n",
      "('HpaII', 'ccgg', 1, [2257, 462, 24, 1248, 28, 49, 229, 58, 1241, 114, 244, 581, 69, 1317, 890, 1189])\n",
      "('Hpy99I', 'cg[at]cg', 5, [2359, 372, 533, 167, 600, 1097, 174, 905, 34, 67, 1917, 1048, 627, 100])\n",
      "('Hpy166II', 'gt[atgc][atgc]ac', 3, [888, 755, 116, 209, 29, 306, 1179, 396, 847, 726, 2206, 1298, 617, 378, 50])\n",
      "('Hpy188I', 'tc[atgc]ga', 3, [897, 175, 200, 91, 310, 237, 211, 87, 370, 174, 117, 195, 514, 86, 143, 121, 938, 74, 433, 56, 273, 87, 579, 130, 196, 30, 45, 470, 58, 6, 189, 19, 43, 34, 349, 63, 56, 256, 304, 19, 111, 257, 117, 72, 19, 87, 702])\n",
      "('Hpy188III', 'tc[atgc][atgc]ga', 2, [521, 594, 7, 195, 141, 77, 65, 913, 206, 24, 191, 140, 786, 379, 133, 390, 35, 89, 430, 394, 157, 423, 40, 88, 1042, 234, 590, 6, 115, 149, 553, 575, 158, 160])\n",
      "('HpyCH4III', 'ac[atgc]gt', 3, [882, 174, 121, 1108, 589, 104, 523, 1029, 67, 112, 68, 232, 93, 207, 113, 1237, 1472, 676, 309, 215, 309, 360])\n",
      "('HpyCH4IV', 'acgt', 1, [498, 882, 451, 139, 323, 966, 578, 371, 288, 5, 249, 241, 477, 579, 155, 20, 87, 54, 704, 1123, 1762, 48])\n",
      "('HpyCH4V', 'tgca', 2, [915, 83, 64, 36, 9, 25, 11, 182, 285, 33, 379, 2227, 69, 44, 108, 255, 234, 230, 1029, 10, 164, 226, 176, 30, 375, 780, 86, 1269, 238, 64, 364])\n",
      "('KasI', 'ggcgcc', 1, [10000])\n",
      "('KflI', 'ggg[at]ccc', 2, [10000])\n",
      "('KpnI', 'ggtacc', 5, [539, 9461])\n",
      "('KroI', 'gccggc', 1, [8810, 1190])\n",
      "('LpnI', '[ag]gcgc[ct]', 3, [9923, 77])\n",
      "('MaeIII', 'gt[atgc]ac', 0, [1971, 1021, 632, 449, 424, 1860, 97, 941, 791, 104, 153, 255, 1302])\n",
      "('MauBI', 'cgcgcgcg', 2, [10000])\n",
      "('MboI', 'gatc', 0, [2526, 186, 1020, 70, 228, 1258, 991, 13, 1291, 703, 545, 375, 247, 71, 299, 177])\n",
      "('McaTI', 'gcgcgc', 4, [10000])\n",
      "('MfeI', 'caattg', 1, [10000])\n",
      "('MluI', 'acgcgt', 1, [9519, 481])\n",
      "('MluCI', 'aatt', 0, [440, 32, 16, 55, 366, 7, 54, 140, 27, 12, 11, 23, 10, 35, 13, 57, 14, 123, 17, 29, 58, 49, 26, 125, 191, 233, 10, 20, 56, 153, 19, 33, 113, 49, 14, 25, 44, 56, 66, 33, 62, 43, 215, 64, 87, 34, 18, 154, 56, 20, 46, 161, 150, 175, 12, 81, 12, 6, 32, 148, 27, 16, 50, 30, 71, 78, 35, 33, 31, 28, 51, 20, 11, 6, 24, 80, 8, 33, 27, 30, 39, 6, 31, 24, 10, 153, 4, 12, 5, 107, 6, 27, 23, 8, 7, 58, 7, 117, 8, 6, 26, 22, 19, 85, 72, 10, 230, 12, 181, 30, 19, 7, 9, 11, 17, 18, 15, 5, 7, 40, 10, 13, 72, 32, 18, 6, 8, 86, 9, 92, 73, 16, 43, 111, 31, 88, 11, 19, 19, 34, 19, 10, 54, 35, 21, 22, 390, 48, 21, 49, 8, 9, 29, 33, 27, 48, 42, 350, 292, 96, 63, 52, 12, 11, 100, 11, 34, 21, 8, 113, 71, 4, 28, 142, 10, 13, 53, 8, 42, 8, 190])\n",
      "('MreI', 'cgccggcg', 2, [10000])\n",
      "('MscI', 'tggcca', 3, [1850, 8150])\n",
      "('MseI', 'ttaa', 1, [984, 185, 32, 36, 208, 211, 62, 364, 85, 25, 48, 198, 24, 90, 68, 38, 100, 53, 30, 16, 315, 45, 102, 25, 246, 25, 86, 182, 301, 12, 57, 23, 131, 31, 148, 17, 53, 61, 188, 11, 6, 7, 167, 67, 65, 157, 6, 20, 78, 76, 6, 79, 112, 7, 6, 8, 31, 22, 13, 94, 77, 113, 211, 214, 6, 80, 109, 265, 160, 253, 131, 385, 558, 290, 154, 60, 349, 147, 48, 56, 84, 12, 88, 24, 183])\n",
      "('MslI', 'ca[ct][atgc][atgc][atgc][atgc][ag]tg', 5, [8406, 138, 1456])\n",
      "('MspA1I', 'c[ac]gc[gt]g', 3, [3148, 854, 4040, 1958])\n",
      "('MwoI', 'gc[atgc][atgc][atgc][atgc][atgc][atgc][atgc]gc', 7, [1104, 343, 1600, 447, 28, 372, 620, 2608, 558, 1140, 1099, 47, 34])\n",
      "('NaeI', 'gccggc', 3, [8812, 1188])\n",
      "('NarI', 'ggcgcc', 2, [10000])\n",
      "('NciI', 'cc[cg]gg', 2, [2257, 1762, 3903, 2078])\n",
      "('NcoI', 'ccatgg', 1, [8571, 1429])\n",
      "('NdeI', 'catatg', 2, [7757, 2243])\n",
      "('NgoMIV', 'gccggc', 1, [8810, 1190])\n",
      "('NheI', 'gctagc', 1, [10000])\n",
      "('NlaIII', 'catg', 4, [485, 976, 89, 429, 994, 172, 1077, 9, 150, 582, 1070, 759, 407, 863, 285, 228, 203, 673, 549])\n",
      "('NlaIV', 'gg[atgc][atgc]cc', 3, [537, 1390, 787, 1310, 3561, 248, 381, 1756, 30])\n",
      "('Nli3877I', 'c[ct]cg[ag]g', 5, [2711, 1004, 307, 397, 5581])\n",
      "('NotI', 'gcggccgc', 2, [10000])\n",
      "('NruI', 'tcgcga', 3, [4798, 5202])\n",
      "('NsiI', 'atgcat', 5, [2024, 2296, 641, 5039])\n",
      "('NspI', '[ag]catg[ct]', 5, [1979, 994, 1249, 741, 1070, 759, 3208])\n",
      "('PabI', 'gtac', 3, [538, 350, 1003, 2704, 391, 119, 695, 2334, 127, 1739])\n",
      "('PacI', 'ttaattaa', 5, [10000])\n",
      "('PasI', 'ccc[at]ggg', 2, [6449, 3551])\n",
      "('PciI', 'acatgt', 1, [1975, 4813, 3212])\n",
      "('PcsI', '[at]cg[atgc][atgc][atgc][atgc][atgc][atgc][atgc]cg[at]', 7, [9933, 67])\n",
      "('PflMI', 'cca[atgc][atgc][atgc][atgc][atgc]tgg', 7, [6258, 548, 3194])\n",
      "('PfoI', 'tcc[atgc]gga', 1, [3251, 4669, 2080])\n",
      "('PluTI', 'ggcgcc', 5, [10000])\n",
      "('PmeI', 'gtttaaac', 4, [10000])\n",
      "('PmlI', 'cacgtg', 3, [2294, 2698, 3199, 1809])\n",
      "('Ppu10I', 'atgcat', 1, [2020, 2296, 641, 5043])\n",
      "('PpuMI', '[ag]gg[at]cc[ct]', 2, [10000])\n",
      "('PshAI', 'gac[atgc][atgc][atgc][atgc]gtc', 5, [10000])\n",
      "('PsiI', 'ttataa', 3, [1683, 4392, 356, 816, 2753])\n",
      "('Psp03I', 'gg[at]cc', 4, [1929, 8071])\n",
      "('PspGI', 'cc[at]gg', 0, [3251, 2103, 102, 992, 2032, 411, 1064, 45])\n",
      "('PspOMI', 'gggccc', 1, [10000])\n",
      "('PspXI', '[acg]ctcgagb', 2, [10000])\n",
      "('PssI', '[ag]gg[atgc]cc[ct]', 5, [10000])\n",
      "('PstI', 'ctgcag', 5, [6230, 3770])\n",
      "('PvuI', 'cgatcg', 4, [4033, 5967])\n",
      "('PvuII', 'cagctg', 3, [8042, 1958])\n",
      "('RsaI', 'gtac', 2, [537, 350, 1003, 2704, 391, 119, 695, 2334, 127, 1740])\n",
      "('RsrII', 'cgg[at]ccg', 2, [10000])\n",
      "('SacI', 'gagctc', 5, [10000])\n",
      "('SacII', 'ccgcgg', 4, [4003, 5997])\n",
      "('SalI', 'gtcgac', 1, [10000])\n",
      "('Sau96I', 'gg[atgc]cc', 1, [1926, 4520, 425, 93, 3036])\n",
      "('SbfI', 'cctgcagg', 6, [10000])\n",
      "('ScaI', 'agtact', 3, [4594, 5406])\n",
      "('SciI', 'ctcgag', 3, [2709, 7291])\n",
      "('ScrFI', 'cc[atgc]gg', 2, [2257, 996, 766, 1337, 102, 992, 1472, 560, 411, 1064, 43])\n",
      "('SelI', 'cgcg', 0, [2724, 547, 552, 20, 157, 53, 462, 281, 3212, 810, 575, 42, 84, 11, 383, 49, 38])\n",
      "('SetI', 'a[cg][cg]t', 4, [501, 18, 22, 24, 308, 57, 117, 236, 100, 7, 261, 161, 22, 113, 26, 323, 15, 552, 399, 215, 363, 43, 134, 194, 205, 83, 5, 220, 29, 241, 276, 90, 111, 82, 110, 346, 41, 155, 20, 87, 54, 188, 516, 428, 61, 414, 25, 46, 117, 10, 22, 42, 12, 30, 25, 15, 74, 36, 27, 32, 80, 134, 5, 85, 39, 137, 82, 13, 805, 89, 45])\n",
      "('SexAI', 'acc[at]ggt', 1, [5354, 3126, 1520])\n",
      "('SfcI', 'ct[ag][ct]ag', 1, [872, 174, 1003, 925, 1622, 1630, 1252, 817, 1344, 361])\n",
      "('SfiI', 'ggcc[atgc][atgc][atgc][atgc][atgc]ggcc', 8, [10000])\n",
      "('SfoI', 'ggcgcc', 3, [10000])\n",
      "('SgrAI', 'c[ag]ccgg[ct]g', 2, [4067, 5933])\n",
      "('SgrDI', 'cgtcgacg', 2, [10000])\n",
      "('SmaI', 'cccggg', 3, [4020, 5980])\n",
      "('SmlI', 'ct[ct][ag]ag', 1, [2707, 2629, 3100, 1564])\n",
      "('SnaBI', 'tacgta', 3, [1381, 8619])\n",
      "('SpeI', 'actagt', 1, [10000])\n",
      "('SphI', 'gcatgc', 5, [10000])\n",
      "('SrfI', 'gcccgggc', 4, [10000])\n",
      "('Sse8647I', 'agg[at]cct', 2, [10000])\n",
      "('SspI', 'aatatt', 3, [1260, 540, 515, 245, 665, 244, 709, 749, 7, 120, 916, 456, 1274, 144, 1620, 536])\n",
      "('Sth302II', 'ccgg', 2, [2258, 462, 24, 1248, 28, 49, 229, 58, 1241, 114, 244, 581, 69, 1317, 890, 1188])\n",
      "('StuI', 'aggcct', 3, [585, 4876, 3251, 1288])\n",
      "('StyI', 'cc[at][at]gg', 1, [8395, 176, 1429])\n",
      "('StyD4I', 'cc[atgc]gg', 0, [2255, 996, 766, 1337, 102, 992, 1472, 560, 411, 1064, 45])\n",
      "('SwaI', 'atttaaat', 4, [4277, 1499, 4224])\n",
      "('TaiI', 'acgt', 4, [501, 882, 451, 139, 323, 966, 578, 371, 288, 5, 249, 241, 477, 579, 155, 20, 87, 54, 704, 1123, 1762, 45])\n",
      "('TaqI', 'tcga', 1, [2152, 205, 132, 219, 21, 564, 133, 205, 93, 30, 275, 240, 102, 111, 253, 26, 45, 79, 79, 169, 40, 127, 205, 238, 493, 67, 26, 552, 126, 726, 335, 8, 79, 184, 78, 413, 86, 215, 140, 381, 15, 16, 47, 35, 21, 63, 46, 32, 73])\n",
      "('TatI', '[at]gtac[at]', 1, [885, 1003, 2704, 391, 119, 4898])\n",
      "('TauI', 'gc[cg]gc', 4, [2291, 857, 125, 224, 483, 25, 50, 3955, 813, 244, 26, 302, 574, 31])\n",
      "('TfiI', 'ga[at]tc', 1, [1118, 7, 239, 239, 1128, 1359, 203, 58, 40, 1533, 259, 231, 884, 158, 293, 50, 1102, 1028, 71])\n",
      "('TseI', 'gc[at]gc', 1, [10000])\n",
      "('Tsp45I', 'gt[cg]ac', 0, [1971, 1653, 873, 1957, 1732, 104, 408, 1302])\n",
      "('Tth111I', 'gac[atgc][atgc][atgc]gtc', 4, [4378, 1930, 3692])\n",
      "('UnbI', 'gg[atgc]cc', 0, [1925, 4520, 425, 93, 3037])\n",
      "('VpaK11AI', 'gg[at]cc', 0, [1925, 8075])\n",
      "('XbaI', 'tctaga', 1, [520, 5346, 2687, 553, 894])\n",
      "('XcmI', 'cca[atgc][atgc][atgc][atgc][atgc][atgc][atgc][atgc][atgc]tgg', 8, [10000])\n",
      "('XhoI', 'ctcgag', 1, [2707, 7293])\n",
      "('XmaI', 'cccggg', 1, [4018, 5982])\n",
      "('XmnI', 'gaa[atgc][atgc][atgc][atgc]ttc', 5, [1542, 774, 468, 684, 2043, 902, 1922, 977, 611, 77])\n",
      "('ZraI', 'gacgtc', 3, [3838, 2472, 3643, 47])\n"
     ]
    }
   ],
   "source": [
    "dna = open('ce1.txt').read().lower()[:10000]\n",
    "\n",
    "code2regex = {\n",
    "    'k' : '[gt]',\n",
    "    'm' : '[ac]',\n",
    "    'r' : '[ag]',\n",
    "    'y' : '[ct]',\n",
    "    's' : '[cg]',\n",
    "    'w' : '[at]',\n",
    "    \n",
    "    'v' : '[cgt]',\n",
    "    'v' : '[acg]',\n",
    "    'h' : '[act]',\n",
    "    'd' : '[agt]',\n",
    "    \n",
    "    'n' : '[atgc]'\n",
    "}\n",
    "\n",
    "for line in open('restriction_enzyme_data.txt'):\n",
    "    fields = line.rstrip().split(',')\n",
    "    enzyme_name = fields[0]\n",
    "    enzyme_motif = fields[1]\n",
    "    \n",
    "    # calculate offset\n",
    "    offset = enzyme_motif.find('/')\n",
    "    enzyme_motif = enzyme_motif.replace('/', '')\n",
    "    \n",
    "    # turn motif into a regex\n",
    "    for ambiguity_code, replacement in code2regex.items():\n",
    "        enzyme_motif = enzyme_motif.replace(ambiguity_code, replacement)\n",
    "        \n",
    "    # get fragment lengths\n",
    "    lengths = get_fragment_lengths(dna, enzyme_motif, offset)\n",
    "    \n",
    "    print(enzyme_name, enzyme_motif, offset, lengths)"
   ]
  },
  {
   "cell_type": "code",
   "execution_count": null,
   "metadata": {
    "collapsed": true
   },
   "outputs": [],
   "source": []
  },
  {
   "cell_type": "code",
   "execution_count": null,
   "metadata": {
    "collapsed": true
   },
   "outputs": [],
   "source": []
  },
  {
   "cell_type": "code",
   "execution_count": null,
   "metadata": {
    "collapsed": true
   },
   "outputs": [],
   "source": []
  },
  {
   "cell_type": "code",
   "execution_count": null,
   "metadata": {
    "collapsed": true
   },
   "outputs": [],
   "source": []
  },
  {
   "cell_type": "code",
   "execution_count": null,
   "metadata": {
    "collapsed": true
   },
   "outputs": [],
   "source": []
  },
  {
   "cell_type": "code",
   "execution_count": null,
   "metadata": {
    "collapsed": true
   },
   "outputs": [],
   "source": [
    "    "
   ]
  },
  {
   "cell_type": "code",
   "execution_count": null,
   "metadata": {
    "collapsed": true
   },
   "outputs": [],
   "source": []
  },
  {
   "cell_type": "code",
   "execution_count": null,
   "metadata": {
    "collapsed": true
   },
   "outputs": [],
   "source": []
  },
  {
   "cell_type": "code",
   "execution_count": null,
   "metadata": {
    "collapsed": true
   },
   "outputs": [],
   "source": []
  },
  {
   "cell_type": "code",
   "execution_count": null,
   "metadata": {
    "collapsed": true
   },
   "outputs": [],
   "source": []
  },
  {
   "cell_type": "code",
   "execution_count": null,
   "metadata": {
    "collapsed": true
   },
   "outputs": [],
   "source": []
  },
  {
   "cell_type": "code",
   "execution_count": null,
   "metadata": {
    "collapsed": true
   },
   "outputs": [],
   "source": []
  },
  {
   "cell_type": "code",
   "execution_count": 3,
   "metadata": {
    "collapsed": false
   },
   "outputs": [
    {
     "data": {
      "application/javascript": [
       "\n",
       "function regentoc() {\n",
       "    document.getElementById(\"toc\").innerHTML = \"\";\n",
       "    var currenth2 = 0;\n",
       "    $(\"h2,h3\").not(\"#Contents\").each(function(mainIndex) {\n",
       "        el = $(this);\n",
       "        title = el.attr(\"id\");\n",
       "        text = el.html();\n",
       "        link = \"#\" + el.attr(\"id\");\n",
       "        if ( document.getElementById(title).tagName == \"H2\" ) {\n",
       "            currenth2 += 1;\n",
       "            newLine =\n",
       "                \"<li class='maintoc'>\" +\n",
       "                   \"<a href='\" + link + \"'>\" + text + \"</a>\" +\n",
       "                \"</li>\" +\n",
       "                \"<ul id='h2\" + currenth2 + \"'></ul>\";\n",
       "            document.getElementById(\"toc\").innerHTML += newLine;\n",
       "        } else if ( document.getElementById(title).tagName==\"H3\" ) {\n",
       "            h1list = document.getElementById(\"h2\"+currenth2);\n",
       "            newLine = \"<li class='subtoc'>\" + \"<a href='\" + link + \"'>\" + text + \"</a>\" + \"</li>\";\n",
       "            h1list.innerHTML += newLine;\n",
       "        }\n",
       "    });\n",
       "}\n",
       " \n",
       "setInterval(regentoc,1000);\n"
      ],
      "text/plain": [
       "<IPython.core.display.Javascript object>"
      ]
     },
     "execution_count": 3,
     "metadata": {},
     "output_type": "execute_result"
    }
   ],
   "source": [
    "# ignore this cell, it's for loading custom js code\n",
    "from IPython.core.display import Javascript\n",
    "Javascript(filename=\"custom.js\")"
   ]
  },
  {
   "cell_type": "code",
   "execution_count": 4,
   "metadata": {
    "collapsed": false
   },
   "outputs": [
    {
     "data": {
      "text/html": [
       "<style>\n",
       "div.output_text{\n",
       "        max-height:400px;\n",
       "        overflow:scroll;\n",
       "}\n",
       "\n",
       "div#notebook {\n",
       "  font-family: 'PT Serif' !important;\n",
       "} \n",
       "\n",
       "div.CodeMirror, div.output_area pre, div.output_wrapper, div.prompt {\n",
       "  font-family: 'Source Code Pro', monospace !important;\n",
       "}\n",
       "\n",
       ".output_text {\n",
       "  background-color: #f0f0f0;\n",
       "}\n",
       "\n",
       "\n",
       ".prompt { display: none; }\n",
       "div.output_subarea { max-width: calc(100%); }\n",
       "</style>\n",
       "\n"
      ],
      "text/plain": [
       "<IPython.core.display.HTML object>"
      ]
     },
     "execution_count": 4,
     "metadata": {},
     "output_type": "execute_result"
    }
   ],
   "source": [
    "# ignore this cell, it's for loading custom css code\n",
    "from IPython.core.display import HTML\n",
    "HTML(filename=\"custom.css\")"
   ]
  }
 ],
 "metadata": {
  "anaconda-cloud": {},
  "kernelspec": {
   "display_name": "Python [conda root]",
   "language": "python",
   "name": "conda-root-py"
  },
  "language_info": {
   "codemirror_mode": {
    "name": "ipython",
    "version": 3
   },
   "file_extension": ".py",
   "mimetype": "text/x-python",
   "name": "python",
   "nbconvert_exporter": "python",
   "pygments_lexer": "ipython3",
   "version": "3.5.2"
  }
 },
 "nbformat": 4,
 "nbformat_minor": 0
}
